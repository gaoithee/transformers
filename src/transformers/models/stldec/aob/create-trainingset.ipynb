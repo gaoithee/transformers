{
 "cells": [
  {
   "cell_type": "code",
   "execution_count": 5,
   "id": "ac372871-279e-47ba-837b-5ed06e3a795c",
   "metadata": {},
   "outputs": [],
   "source": [
    "import os\n",
    "import torch\n",
    "from torch.nn.functional import normalize\n",
    "import copy\n",
    "import numpy as np\n",
    "\n",
    "from phis_generator import StlGenerator\n",
    "from traj_measure import BaseMeasure\n",
    "from utils import from_string_to_formula, load_pickle, dump_pickle\n",
    "from kernel import StlKernel"
   ]
  },
  {
   "cell_type": "code",
   "execution_count": 8,
   "id": "fe15032f-f209-4f66-85fd-db8938bc7aa2",
   "metadata": {},
   "outputs": [],
   "source": [
    "sampler = StlGenerator(leaf_prob=0.4)\n",
    "n_vars = 3\n",
    "device = torch.device(\"cuda:0\" if torch.cuda.is_available() else \"cpu\")\n",
    "mu = BaseMeasure(device=device)"
   ]
  },
  {
   "cell_type": "code",
   "execution_count": 10,
   "id": "f5ba4309-96f8-4580-affb-b6c91f2e7cd2",
   "metadata": {},
   "outputs": [],
   "source": [
    "phis = sampler.bag_sample(100000, nvars=n_vars)"
   ]
  },
  {
   "cell_type": "code",
   "execution_count": 11,
   "id": "3cd2e545-58cd-4fdf-af19-18a1ff3a0815",
   "metadata": {},
   "outputs": [
    {
     "data": {
      "text/plain": [
       "100000"
      ]
     },
     "execution_count": 11,
     "metadata": {},
     "output_type": "execute_result"
    }
   ],
   "source": [
    "len(phis)"
   ]
  },
  {
   "cell_type": "code",
   "execution_count": 12,
   "id": "01efd6d2-6453-4ee2-b6f2-a6ed4ac78a3e",
   "metadata": {},
   "outputs": [
    {
     "data": {
      "text/plain": [
       "'( ( x_1 <= 0.0557 or x_1 >= 1.3788 ) and x_0 <= 0.8512 )'"
      ]
     },
     "execution_count": 12,
     "metadata": {},
     "output_type": "execute_result"
    }
   ],
   "source": [
    "string_version = list(map(str, phis))\n",
    "string_version[0]"
   ]
  },
  {
   "cell_type": "code",
   "execution_count": 13,
   "id": "de5d1d43-48ed-458f-be3c-4e722e1ff2bc",
   "metadata": {},
   "outputs": [],
   "source": [
    "# Salva la lista in un file txt\n",
    "with open('generated-train.txt', 'w') as file:\n",
    "    for item in string_version:\n",
    "        file.write(item + '\\n')  # Scrive ogni elemento su una nuova riga"
   ]
  },
  {
   "cell_type": "code",
   "execution_count": 1,
   "id": "492520ff-9de2-4398-ad0e-1a21a81f9d48",
   "metadata": {},
   "outputs": [
    {
     "data": {
      "text/plain": [
       "'anchor_set_1024_dim'"
      ]
     },
     "execution_count": 1,
     "metadata": {},
     "output_type": "execute_result"
    }
   ],
   "source": [
    "from anchor_set_generation import anchorGeneration\n",
    "\n",
    "anchorGeneration(diff_init = True, embed_dim = 1024)"
   ]
  },
  {
   "cell_type": "code",
   "execution_count": 2,
   "id": "1d2ec82c-3fd1-4a04-88c1-e37717a9f168",
   "metadata": {},
   "outputs": [],
   "source": [
    "import re\n",
    "\n",
    "def rileggi_formule(file_path):\n",
    "    re_read = []\n",
    "    with open(file_path, 'r') as file:\n",
    "        lines = file.readlines()  # Legge tutte le righe del file\n",
    "\n",
    "    # Itera su ogni riga del file\n",
    "    for line_number, line in enumerate(lines, start=1):\n",
    "        line = line.strip()  # Rimuove eventuali spazi bianchi extra\n",
    "\n",
    "        # Se la riga contiene una formula (es. +, -, *, /, ecc.)\n",
    "        if re.search(r'[\\+\\-\\*/=<>^]', line):  # Regex per trovare operatori matematici\n",
    "            re_read.append(line)\n",
    "\n",
    "    return re_read"
   ]
  },
  {
   "cell_type": "code",
   "execution_count": 3,
   "id": "f0ae083b-9072-4d49-a85c-438b7b8ee939",
   "metadata": {},
   "outputs": [
    {
     "data": {
      "text/plain": [
       "'( ( x_1 <= 0.0557 or x_1 >= 1.3788 ) and x_0 <= 0.8512 )'"
      ]
     },
     "execution_count": 3,
     "metadata": {},
     "output_type": "execute_result"
    }
   ],
   "source": [
    "re_read = rileggi_formule('generated-train.txt')\n",
    "re_read[0]"
   ]
  },
  {
   "cell_type": "code",
   "execution_count": 10,
   "id": "bf1cb97f-3151-470e-b02c-cb04d6d0ca20",
   "metadata": {},
   "outputs": [
    {
     "data": {
      "text/plain": [
       "<stl.And at 0x7fb4c43323d0>"
      ]
     },
     "execution_count": 10,
     "metadata": {},
     "output_type": "execute_result"
    }
   ],
   "source": [
    "formulae = list(map(from_string_to_formula, re_read))\n",
    "formulae[0]"
   ]
  },
  {
   "cell_type": "code",
   "execution_count": 11,
   "id": "b9519384-d6af-4f04-bfef-f7f1aa6ae49b",
   "metadata": {},
   "outputs": [
    {
     "data": {
      "text/plain": [
       "<stl.Or at 0x7fb31bdccc70>"
      ]
     },
     "execution_count": 11,
     "metadata": {},
     "output_type": "execute_result"
    }
   ],
   "source": [
    "anchor_set = load_pickle('anchor_set_1024_dim.pickle')\n",
    "anchor_set[0]"
   ]
  },
  {
   "cell_type": "code",
   "execution_count": 12,
   "id": "687c3660-0ca9-444a-9ab3-77a8faa89721",
   "metadata": {},
   "outputs": [],
   "source": [
    "kernel = StlKernel(mu, varn=n_vars)\n",
    "\n",
    "gram_phis = kernel.compute_bag_bag(formulae[:1024], anchor_set)"
   ]
  },
  {
   "cell_type": "code",
   "execution_count": 13,
   "id": "ccd6471e-b2e1-4644-b5aa-4aa52c936ab5",
   "metadata": {},
   "outputs": [],
   "source": [
    "import pickle \n",
    "\n",
    "with open(\"embedding_tensor_1024.pickle\", \"wb\") as f:\n",
    "    pickle.dump(gram_phis, f)"
   ]
  },
  {
   "cell_type": "code",
   "execution_count": 14,
   "id": "54b621fe-8047-486a-883f-181436ac6188",
   "metadata": {},
   "outputs": [],
   "source": [
    "with open(\"embedding_tensor_1024.pickle\", \"rb\") as f:\n",
    "    loaded_tensor = pickle.load(f)"
   ]
  },
  {
   "cell_type": "code",
   "execution_count": 16,
   "id": "29d94aa5-a4f4-411d-89e3-1a0f9346b352",
   "metadata": {},
   "outputs": [],
   "source": [
    "import pandas as pd\n",
    "\n",
    "dataset = []\n",
    "\n",
    "for formula, embedding in zip(formulae[:1000], loaded_tensor):\n",
    "    embedding_str = f\"tensor({embedding.tolist()})\"  # Usa .tolist() per convertirlo in lista\n",
    "    dataset.append([formula, embedding_str])  # Aggiungi la formula e l'embedding come stringa\n",
    "\n",
    "# 4. Creiamo un DataFrame con pandas\n",
    "df = pd.DataFrame(dataset, columns=[\"Formula\", \"Embedding\"])\n"
   ]
  },
  {
   "cell_type": "code",
   "execution_count": 17,
   "id": "e8175c39-797f-4538-b9df-e03c9bc7a732",
   "metadata": {},
   "outputs": [
    {
     "data": {
      "text/html": [
       "<div>\n",
       "<style scoped>\n",
       "    .dataframe tbody tr th:only-of-type {\n",
       "        vertical-align: middle;\n",
       "    }\n",
       "\n",
       "    .dataframe tbody tr th {\n",
       "        vertical-align: top;\n",
       "    }\n",
       "\n",
       "    .dataframe thead th {\n",
       "        text-align: right;\n",
       "    }\n",
       "</style>\n",
       "<table border=\"1\" class=\"dataframe\">\n",
       "  <thead>\n",
       "    <tr style=\"text-align: right;\">\n",
       "      <th></th>\n",
       "      <th>Formula</th>\n",
       "      <th>Embedding</th>\n",
       "    </tr>\n",
       "  </thead>\n",
       "  <tbody>\n",
       "    <tr>\n",
       "      <th>0</th>\n",
       "      <td>( ( x_1 &lt;= 0.0557 or x_1 &gt;= 1.3788 ) and x_0 &lt;...</td>\n",
       "      <td>tensor([0.000958795309998095, 0.00073610449908...</td>\n",
       "    </tr>\n",
       "    <tr>\n",
       "      <th>1</th>\n",
       "      <td>( ( eventually[5,9] ( eventually ( x_0 &lt;= -0.6...</td>\n",
       "      <td>tensor([0.0021092351526021957, 0.0005350855644...</td>\n",
       "    </tr>\n",
       "    <tr>\n",
       "      <th>2</th>\n",
       "      <td>always[18,20] ( x_0 &gt;= 1.2398 )</td>\n",
       "      <td>tensor([0.005139028653502464, 0.03429751470685...</td>\n",
       "    </tr>\n",
       "    <tr>\n",
       "      <th>3</th>\n",
       "      <td>( x_0 &lt;= -0.0566 until[5,inf] x_1 &gt;= 1.1386 )</td>\n",
       "      <td>tensor([0.00027192928246222436, 0.000711385742...</td>\n",
       "    </tr>\n",
       "    <tr>\n",
       "      <th>4</th>\n",
       "      <td>( eventually[17,21] ( always[9,14] ( x_2 &gt;= -0...</td>\n",
       "      <td>tensor([0.07262212783098221, 0.025921383872628...</td>\n",
       "    </tr>\n",
       "  </tbody>\n",
       "</table>\n",
       "</div>"
      ],
      "text/plain": [
       "                                             Formula  \\\n",
       "0  ( ( x_1 <= 0.0557 or x_1 >= 1.3788 ) and x_0 <...   \n",
       "1  ( ( eventually[5,9] ( eventually ( x_0 <= -0.6...   \n",
       "2                    always[18,20] ( x_0 >= 1.2398 )   \n",
       "3      ( x_0 <= -0.0566 until[5,inf] x_1 >= 1.1386 )   \n",
       "4  ( eventually[17,21] ( always[9,14] ( x_2 >= -0...   \n",
       "\n",
       "                                           Embedding  \n",
       "0  tensor([0.000958795309998095, 0.00073610449908...  \n",
       "1  tensor([0.0021092351526021957, 0.0005350855644...  \n",
       "2  tensor([0.005139028653502464, 0.03429751470685...  \n",
       "3  tensor([0.00027192928246222436, 0.000711385742...  \n",
       "4  tensor([0.07262212783098221, 0.025921383872628...  "
      ]
     },
     "execution_count": 17,
     "metadata": {},
     "output_type": "execute_result"
    }
   ],
   "source": [
    "df.head()"
   ]
  },
  {
   "cell_type": "code",
   "execution_count": 18,
   "id": "5d4e20a1-5723-4715-a9cd-0e970374cf63",
   "metadata": {},
   "outputs": [],
   "source": [
    "df.to_csv('formulas_with_embeddings.csv', index=False)"
   ]
  },
  {
   "cell_type": "code",
   "execution_count": null,
   "id": "42a71929-4231-4625-a86d-12791e4cc446",
   "metadata": {},
   "outputs": [],
   "source": []
  }
 ],
 "metadata": {
  "kernelspec": {
   "display_name": "Python 3 (ipykernel)",
   "language": "python",
   "name": "python3"
  },
  "language_info": {
   "codemirror_mode": {
    "name": "ipython",
    "version": 3
   },
   "file_extension": ".py",
   "mimetype": "text/x-python",
   "name": "python",
   "nbconvert_exporter": "python",
   "pygments_lexer": "ipython3",
   "version": "3.9.18"
  }
 },
 "nbformat": 4,
 "nbformat_minor": 5
}
