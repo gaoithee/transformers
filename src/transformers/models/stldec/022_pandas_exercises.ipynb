{
  "cells": [
    {
      "cell_type": "markdown",
      "metadata": {},
      "source": [
        "<a href=\"https://colab.research.google.com/github/DavideScassola/PML2024/blob/main/Notebooks/02_numpy_pandas_sklearn/022_pandas_exercises.ipynb\" target=\"_parent\"><img src=\"https://colab.research.google.com/assets/colab-badge.svg\" alt=\"Open In Colab\"/></a>"
      ]
    },
    {
      "cell_type": "code",
      "execution_count": 1,
      "metadata": {},
      "outputs": [],
      "source": [
        "import pandas as pd\n",
        "import matplotlib.pyplot as plt\n",
        "path_csv = 'https://raw.githubusercontent.com/DavideScassola/data_analysis_laboratory/main/notebooks/dati/reviews.csv'\n",
        "reviews = pd.read_csv(path_csv)"
      ]
    },
    {
      "cell_type": "code",
      "execution_count": 2,
      "metadata": {},
      "outputs": [
        {
          "data": {
            "text/html": [
              "<div>\n",
              "<style scoped>\n",
              "    .dataframe tbody tr th:only-of-type {\n",
              "        vertical-align: middle;\n",
              "    }\n",
              "\n",
              "    .dataframe tbody tr th {\n",
              "        vertical-align: top;\n",
              "    }\n",
              "\n",
              "    .dataframe thead th {\n",
              "        text-align: right;\n",
              "    }\n",
              "</style>\n",
              "<table border=\"1\" class=\"dataframe\">\n",
              "  <thead>\n",
              "    <tr style=\"text-align: right;\">\n",
              "      <th></th>\n",
              "      <th>score_phrase</th>\n",
              "      <th>title</th>\n",
              "      <th>url</th>\n",
              "      <th>platform</th>\n",
              "      <th>score</th>\n",
              "      <th>genre</th>\n",
              "      <th>editors_choice</th>\n",
              "      <th>release_year</th>\n",
              "      <th>release_month</th>\n",
              "      <th>release_day</th>\n",
              "    </tr>\n",
              "  </thead>\n",
              "  <tbody>\n",
              "    <tr>\n",
              "      <th>0</th>\n",
              "      <td>Amazing</td>\n",
              "      <td>LittleBigPlanet PS Vita</td>\n",
              "      <td>/games/littlebigplanet-vita/vita-98907</td>\n",
              "      <td>PlayStation Vita</td>\n",
              "      <td>9.0</td>\n",
              "      <td>Platformer</td>\n",
              "      <td>Y</td>\n",
              "      <td>2012</td>\n",
              "      <td>9</td>\n",
              "      <td>12</td>\n",
              "    </tr>\n",
              "    <tr>\n",
              "      <th>1</th>\n",
              "      <td>Amazing</td>\n",
              "      <td>LittleBigPlanet PS Vita -- Marvel Super Hero E...</td>\n",
              "      <td>/games/littlebigplanet-ps-vita-marvel-super-he...</td>\n",
              "      <td>PlayStation Vita</td>\n",
              "      <td>9.0</td>\n",
              "      <td>Platformer</td>\n",
              "      <td>Y</td>\n",
              "      <td>2012</td>\n",
              "      <td>9</td>\n",
              "      <td>12</td>\n",
              "    </tr>\n",
              "    <tr>\n",
              "      <th>2</th>\n",
              "      <td>Great</td>\n",
              "      <td>Splice: Tree of Life</td>\n",
              "      <td>/games/splice/ipad-141070</td>\n",
              "      <td>iPad</td>\n",
              "      <td>8.5</td>\n",
              "      <td>Puzzle</td>\n",
              "      <td>N</td>\n",
              "      <td>2012</td>\n",
              "      <td>9</td>\n",
              "      <td>12</td>\n",
              "    </tr>\n",
              "    <tr>\n",
              "      <th>3</th>\n",
              "      <td>Great</td>\n",
              "      <td>NHL 13</td>\n",
              "      <td>/games/nhl-13/xbox-360-128182</td>\n",
              "      <td>Xbox 360</td>\n",
              "      <td>8.5</td>\n",
              "      <td>Sports</td>\n",
              "      <td>N</td>\n",
              "      <td>2012</td>\n",
              "      <td>9</td>\n",
              "      <td>11</td>\n",
              "    </tr>\n",
              "    <tr>\n",
              "      <th>4</th>\n",
              "      <td>Great</td>\n",
              "      <td>NHL 13</td>\n",
              "      <td>/games/nhl-13/ps3-128181</td>\n",
              "      <td>PlayStation 3</td>\n",
              "      <td>8.5</td>\n",
              "      <td>Sports</td>\n",
              "      <td>N</td>\n",
              "      <td>2012</td>\n",
              "      <td>9</td>\n",
              "      <td>11</td>\n",
              "    </tr>\n",
              "  </tbody>\n",
              "</table>\n",
              "</div>"
            ],
            "text/plain": [
              "  score_phrase                                              title  \\\n",
              "0      Amazing                            LittleBigPlanet PS Vita   \n",
              "1      Amazing  LittleBigPlanet PS Vita -- Marvel Super Hero E...   \n",
              "2        Great                               Splice: Tree of Life   \n",
              "3        Great                                             NHL 13   \n",
              "4        Great                                             NHL 13   \n",
              "\n",
              "                                                 url          platform  score  \\\n",
              "0             /games/littlebigplanet-vita/vita-98907  PlayStation Vita    9.0   \n",
              "1  /games/littlebigplanet-ps-vita-marvel-super-he...  PlayStation Vita    9.0   \n",
              "2                          /games/splice/ipad-141070              iPad    8.5   \n",
              "3                      /games/nhl-13/xbox-360-128182          Xbox 360    8.5   \n",
              "4                           /games/nhl-13/ps3-128181     PlayStation 3    8.5   \n",
              "\n",
              "        genre editors_choice  release_year  release_month  release_day  \n",
              "0  Platformer              Y          2012              9           12  \n",
              "1  Platformer              Y          2012              9           12  \n",
              "2      Puzzle              N          2012              9           12  \n",
              "3      Sports              N          2012              9           11  \n",
              "4      Sports              N          2012              9           11  "
            ]
          },
          "execution_count": 2,
          "metadata": {},
          "output_type": "execute_result"
        }
      ],
      "source": [
        "reviews.head()"
      ]
    },
    {
      "cell_type": "markdown",
      "metadata": {},
      "source": [
        "1. Find the video game with the lowest score"
      ]
    },
    {
      "cell_type": "code",
      "execution_count": 5,
      "metadata": {},
      "outputs": [
        {
          "name": "stdout",
          "output_type": "stream",
          "text": [
            "                                        title  score\n",
            "5242  Looney Tunes: Back in Action: Zany Race    0.5\n"
          ]
        }
      ],
      "source": [
        "# First find the lowest score given to a videogame\n",
        "lowest_score = min(reviews['score'])\n",
        "\n",
        "# Then select the row(s) where the score is the lowest\n",
        "games_with_lowest_score = reviews[reviews['score'] == lowest_score]\n",
        "\n",
        "print(games_with_lowest_score[['title', 'score']])"
      ]
    },
    {
      "cell_type": "markdown",
      "metadata": {},
      "source": [
        "2. Find the video game of genre 'Shooter' with the highest score"
      ]
    },
    {
      "cell_type": "code",
      "execution_count": 6,
      "metadata": {},
      "outputs": [
        {
          "name": "stdout",
          "output_type": "stream",
          "text": [
            "title    Halo 4\n",
            "score       9.8\n",
            "Name: 200, dtype: object\n"
          ]
        }
      ],
      "source": [
        "# Filter for games of genre 'Shooter'\n",
        "shooter_games = reviews[reviews['genre'] == 'Shooter']\n",
        "\n",
        "# Then select the row(s) where the score is the highest\n",
        "highest_shooter_game = shooter_games.loc[shooter_games['score'].idxmax()]\n",
        "\n",
        "print(highest_shooter_game[['title', 'score']])"
      ]
    },
    {
      "cell_type": "markdown",
      "metadata": {},
      "source": [
        "3. Find the oldest video game"
      ]
    },
    {
      "cell_type": "code",
      "execution_count": 7,
      "metadata": {},
      "outputs": [
        {
          "name": "stdout",
          "output_type": "stream",
          "text": [
            "title           The Walking Dead: The Game -- Episode 1: A New...\n",
            "release_year                                                 1970\n",
            "Name: 516, dtype: object\n"
          ]
        }
      ],
      "source": [
        "# Find the oldest video game (with the earliest release year)\n",
        "oldest_game = reviews.loc[reviews['release_year'].idxmin()]\n",
        "\n",
        "# Display the title and release year of the oldest game\n",
        "print(oldest_game[['title', 'release_year']])"
      ]
    },
    {
      "cell_type": "markdown",
      "metadata": {},
      "source": [
        "4. How many PC video games were rated higher than 9 in 2005? Tip: apply the `len()` function to get the number of rows in a DataFrame"
      ]
    },
    {
      "cell_type": "code",
      "execution_count": 8,
      "metadata": {},
      "outputs": [
        {
          "name": "stdout",
          "output_type": "stream",
          "text": [
            "Number of PC games rated higher than 9 in 2005: 6\n"
          ]
        }
      ],
      "source": [
        "# Filter the DataFrame for PC games with a score higher than 9 in 2005\n",
        "pc_games_2005_high_score = reviews[(reviews['platform'] == 'PC') & \n",
        "                               (reviews['score'] > 9) & \n",
        "                               (reviews['release_year'] == 2005)]\n",
        "\n",
        "# Count the number of such games\n",
        "num_pc_games = len(pc_games_2005_high_score)\n",
        "\n",
        "print(f\"Number of PC games rated higher than 9 in 2005: {num_pc_games}\")"
      ]
    },
    {
      "cell_type": "markdown",
      "metadata": {},
      "source": [
        "5. Find the newest video game. Tip: You can sort the rows of a DataFrame by the value of a column (or more) with the `.sort_values` method."
      ]
    },
    {
      "cell_type": "code",
      "execution_count": 11,
      "metadata": {},
      "outputs": [
        {
          "name": "stdout",
          "output_type": "stream",
          "text": [
            "title           Inside\n",
            "release_year      2016\n",
            "Name: 18624, dtype: object\n"
          ]
        }
      ],
      "source": [
        "# Sort the DataFrame by release year in descending order to get the newest game\n",
        "newest_game = reviews.sort_values(by='release_year', ascending=False).iloc[0]\n",
        "\n",
        "# Display the title and release year of the newest game\n",
        "print(newest_game[['title', 'release_year']])"
      ]
    },
    {
      "cell_type": "markdown",
      "metadata": {},
      "source": [
        "6. As you noticed the dataset has both a score column and a score_phrase column (the grade). Can you find what grade (score_phrase) each score corresponds to? In other words, what are the score thresholds for moving from one grade to the next? Tip: You can use the `.unique()` method to find the unique values of a set"
      ]
    },
    {
      "cell_type": "code",
      "execution_count": 12,
      "metadata": {},
      "outputs": [
        {
          "name": "stdout",
          "output_type": "stream",
          "text": [
            "Grade: Amazing, Scores: [9.0, 9.1, 9.2, 9.3, 9.4, 9.5, 9.6, 9.7, 9.8, 9.9]\n",
            "Grade: Great, Scores: [8.0, 8.1, 8.2, 8.3, 8.4, 8.5, 8.6, 8.7, 8.8, 8.9]\n",
            "Grade: Good, Scores: [7.0, 7.1, 7.2, 7.3, 7.4, 7.5, 7.6, 7.7, 7.8, 7.9]\n",
            "Grade: Awful, Scores: [3.0, 3.1, 3.2, 3.3, 3.4, 3.5, 3.6, 3.7, 3.8, 3.9]\n",
            "Grade: Okay, Scores: [6.0, 6.1, 6.2, 6.3, 6.4, 6.5, 6.6, 6.7, 6.8, 6.9]\n",
            "Grade: Mediocre, Scores: [5.0, 5.1, 5.2, 5.3, 5.4, 5.5, 5.6, 5.7, 5.8, 5.9]\n",
            "Grade: Bad, Scores: [4.0, 4.1, 4.2, 4.3, 4.4, 4.5, 4.6, 4.7, 4.8, 4.9]\n",
            "Grade: Painful, Scores: [2.0, 2.1, 2.2, 2.3, 2.4, 2.5, 2.6, 2.7, 2.8, 2.9]\n",
            "Grade: Unbearable, Scores: [1.0, 1.1, 1.2, 1.3, 1.4, 1.5, 1.7, 1.8, 1.9]\n",
            "Grade: Disaster, Scores: [0.5, 0.7, 0.8]\n",
            "Grade: Masterpiece, Scores: [10.0]\n"
          ]
        }
      ],
      "source": [
        "# Get unique score_phrase values\n",
        "unique_grades = reviews['score_phrase'].unique()\n",
        "\n",
        "# For each unique grade, find the scores corresponding to that grade\n",
        "for grade in unique_grades:\n",
        "    scores_for_grade = reviews[reviews['score_phrase'] == grade]['score'].unique()\n",
        "    print(f\"Grade: {grade}, Scores: {sorted(scores_for_grade)}\")"
      ]
    },
    {
      "cell_type": "markdown",
      "metadata": {},
      "source": [
        "7. Load the dataset from the .csv located at the following path (on colab): `sample_data/california_housing_train.csv`"
      ]
    },
    {
      "cell_type": "code",
      "execution_count": null,
      "metadata": {},
      "outputs": [],
      "source": []
    },
    {
      "cell_type": "markdown",
      "metadata": {},
      "source": [
        "8. Show a histogram of the `median_house_value` variable."
      ]
    },
    {
      "cell_type": "code",
      "execution_count": null,
      "metadata": {},
      "outputs": [],
      "source": []
    },
    {
      "cell_type": "markdown",
      "metadata": {},
      "source": [
        "9. Show a plot (scatterplot) of the variable 'population' (x-axis) versus the variable 'total_rooms' (y-axis).\n",
        "Tip: You can use matplotlib's 'scatter' method: it works similarly to 'plot' but does not join the points with a line by default."
      ]
    },
    {
      "cell_type": "code",
      "execution_count": null,
      "metadata": {},
      "outputs": [],
      "source": []
    },
    {
      "cell_type": "markdown",
      "metadata": {},
      "source": [
        "10. How many inhabitants per house are there?"
      ]
    },
    {
      "cell_type": "code",
      "execution_count": null,
      "metadata": {},
      "outputs": [],
      "source": []
    },
    {
      "cell_type": "markdown",
      "metadata": {},
      "source": [
        "11. This dataset contains the geographic coordinates of each neighborhood, can you show in a graph the location of each neighborhood? (as if it were a map)"
      ]
    },
    {
      "cell_type": "code",
      "execution_count": null,
      "metadata": {},
      "outputs": [],
      "source": []
    },
    {
      "cell_type": "markdown",
      "metadata": {},
      "source": [
        "12. Show as before the location of each neighborhood, but this time neighborhoods with less than 5000 inhabitants should be rapresented in a different color than neighborhoods with more than 5000 inhabitants.\n",
        "Tip: If you call a matplotlib graphing function (such as ply.plot or plt.scatter) more than once, the two graphs will be overlapped"
      ]
    },
    {
      "cell_type": "code",
      "execution_count": null,
      "metadata": {},
      "outputs": [],
      "source": []
    },
    {
      "cell_type": "markdown",
      "metadata": {},
      "source": [
        "13. Color the points according to the value of the `median_house_value` variable.\n",
        "Tip: use the `c` parameter of the scatter function"
      ]
    },
    {
      "cell_type": "code",
      "execution_count": null,
      "metadata": {},
      "outputs": [],
      "source": []
    }
  ],
  "metadata": {
    "colab": {
      "include_colab_link": true,
      "provenance": []
    },
    "kernelspec": {
      "display_name": "stdenv",
      "language": "python",
      "name": "python3"
    },
    "language_info": {
      "codemirror_mode": {
        "name": "ipython",
        "version": 3
      },
      "file_extension": ".py",
      "mimetype": "text/x-python",
      "name": "python",
      "nbconvert_exporter": "python",
      "pygments_lexer": "ipython3",
      "version": "3.11.0"
    }
  },
  "nbformat": 4,
  "nbformat_minor": 0
}
