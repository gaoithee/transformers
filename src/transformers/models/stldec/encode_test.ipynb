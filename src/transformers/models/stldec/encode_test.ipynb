{
 "cells": [
  {
   "cell_type": "code",
   "execution_count": 1,
   "id": "24508073-e5b5-4ec9-ba93-5b231fabc0f3",
   "metadata": {},
   "outputs": [],
   "source": [
    "import os\n",
    "import torch\n",
    "from torch.nn.functional import normalize\n",
    "import copy\n",
    "import numpy as np\n",
    "from typing import List, Optional, Tuple, Union\n",
    "\n",
    "from phis_generator import StlGenerator\n",
    "from traj_measure import BaseMeasure\n",
    "from utils import from_string_to_formula, load_pickle, dump_pickle\n",
    "from kernel import StlKernel\n",
    "\n",
    "from anchor_set_generation import anchorGeneration"
   ]
  },
  {
   "cell_type": "code",
   "execution_count": null,
   "id": "920fbe21-6191-46e8-9592-76a44cee876b",
   "metadata": {},
   "outputs": [],
   "source": [
    "anchor_set = load_pickle('anchor_set_10_dim.pickle')\n",
    "anchor_set[0]"
   ]
  },
  {
   "cell_type": "code",
   "execution_count": null,
   "id": "7ea166fa-a713-4f04-899e-c0774efd24f7",
   "metadata": {},
   "outputs": [],
   "source": [
    "anchor_set_string = list(map(str, anchor_set))\n",
    "anchor_set_string[0]"
   ]
  },
  {
   "cell_type": "code",
   "execution_count": null,
   "id": "e43e15be-4d1c-4abf-943d-81307d464c30",
   "metadata": {},
   "outputs": [],
   "source": [
    "anchor_set_from_string = list(map(from_string_to_formula, anchor_set_string))\n",
    "print(anchor_set_from_string[0])"
   ]
  },
  {
   "cell_type": "code",
   "execution_count": null,
   "id": "cba596f8-218e-4839-9c0a-a8702b3c3e1f",
   "metadata": {},
   "outputs": [],
   "source": [
    "# 2. Instantiate the kernel\n",
    "# need the measure on the space of trajectories over which to integrate\n",
    "device = torch.device(\"cuda:0\" if torch.cuda.is_available() else \"cpu\")\n",
    "mu = BaseMeasure(device=device)\n",
    "# instantiate the kernel given the measure and the number of variables (should be the same of the anchor set)\n",
    "kernel = StlKernel(mu, varn=3)\n",
    "\n",
    "test = ['not ( x_2 <= 1.1328 )']\n",
    "test_formula = list(map(from_string_to_formula, test))\n",
    "test_embedding = kernel.compute_bag_bag(test_formula, anchor_set)"
   ]
  },
  {
   "cell_type": "code",
   "execution_count": null,
   "id": "a142bda9-8b4a-4bb9-bc4b-e55b64ccf8e8",
   "metadata": {},
   "outputs": [],
   "source": [
    "# nota: formulae_to_embed è comunque vada List[str], anche se ha solo un elemento\n",
    "def encoding(formulae_to_embed, anchor_set, kernel):\n",
    "    formulae_to_embed = list(map(from_string_to_formula, formulae_to_embed))\n",
    "    formulae_embedding = kernel.compute_bag_bag(formulae_to_embed, anchor_set)\n",
    "    return formulae_embedding"
   ]
  },
  {
   "cell_type": "code",
   "execution_count": 19,
   "id": "b5bc2f23-bef0-4e09-8fa9-9581c3d79238",
   "metadata": {},
   "outputs": [],
   "source": [
    "testing = ['not ( x_1 <= 0.0956 )', 'not ( x_2 >= 1.118 )', 'not ( ( not ( x_0 <= -0.692 ) and ( eventually[8,19] ( x_2 <= -1.5116 ) until[6,inf] x_2 >= -0.3382 ) ) )', '( ( x_2 >= -0.4612 or x_1 <= -1.1656 ) or x_0 <= -0.8679 )', 'not ( x_2 >= 0.4743 )', 'always[14,20] ( ( x_1 >= -0.9379 and always[8,14] ( eventually ( not ( ( x_1 <= 0.7578 until[5,10] ( always[12,16] ( x_2 <= 0.9446 ) and not ( ( not ( ( x_0 <= -0.1481 until[0,10] x_0 <= -0.3652 ) ) until[13,20] ( x_1 >= 1.4217 or eventually[17,inf] ( x_1 >= 0.3769 ) ) ) ) ) ) ) ) ) ) )', 'always[4,10] ( ( ( eventually[13,19] ( x_2 <= 0.2756 ) until[18,21] x_0 >= 0.3856 ) until[1,4] ( ( x_0 >= 0.373 or ( not ( x_2 <= 1.0331 ) or x_2 >= 1.3045 ) ) and x_1 >= 0.1684 ) ) )', '( x_1 <= -0.4477 and x_1 <= -0.8701 )', '( eventually[10,19] ( x_0 >= -0.7281 ) or eventually[12,21] ( x_2 <= -1.232 ) )', 'not ( x_0 <= 0.0881 )']"
   ]
  },
  {
   "cell_type": "code",
   "execution_count": null,
   "id": "da010f41-ac0e-496e-b7d6-5c79637b8dad",
   "metadata": {},
   "outputs": [],
   "source": [
    "encoding(testing, anchor_set, kernel)"
   ]
  },
  {
   "cell_type": "code",
   "execution_count": 17,
   "id": "fb978eee-1394-42d5-a2d7-7213ff1fc1f9",
   "metadata": {},
   "outputs": [],
   "source": [
    "class MarianEncoder():\n",
    "    def __init__(self, \n",
    "                 embed_dim: int,\n",
    "                 anchor_filename: Optional[str] = None,\n",
    "                 n_vars: int = 3):\n",
    "        \n",
    "        self.n_vars = n_vars # passaglielo in input\n",
    "        self.embed_dim = embed_dim\n",
    "        self.anchorset_filename = anchor_filename\n",
    "        self.device = torch.device(\"cuda:0\" if torch.cuda.is_available() else \"cpu\")\n",
    "        self.mu = BaseMeasure(device=self.device)\n",
    "        self.kernel = StlKernel(self.mu, varn=self.n_vars)\n",
    "\n",
    "        if anchor_filename is None: \n",
    "            anchor_filename = anchorGeneration(diff_init = True, embed_dim = self.embed_dim, n_vars = self.n_vars)  \n",
    "            anchor_filename+='.pickle'\n",
    "        \n",
    "        anchor_set = load_pickle(anchor_filename)\n",
    "        if len(anchor_set) != self.embed_dim:\n",
    "            raise ValueError(\"The anchor set and the embedding dimension do not match!\")\n",
    "\n",
    "        self.anchor_set = anchor_set\n",
    "\n",
    "    def compute_embeddings(self, formula: List[str]):\n",
    "        converted_formula = list(map(from_string_to_formula, formula))\n",
    "        return self.kernel.compute_bag_bag(converted_formula, self.anchor_set)"
   ]
  },
  {
   "cell_type": "code",
   "execution_count": 21,
   "id": "9aa311ce-fb72-44df-aae2-9930823a9bee",
   "metadata": {},
   "outputs": [],
   "source": [
    "test = MarianEncoder(embed_dim=15, anchor_filename = 'anchor_set_15_dim.pickle')"
   ]
  },
  {
   "cell_type": "code",
   "execution_count": 22,
   "id": "37141971-a4cc-463f-99b8-14646ca03fe7",
   "metadata": {},
   "outputs": [
    {
     "data": {
      "text/plain": [
       "tensor([[8.3866e-03, 6.0206e-03, 4.2840e-03, 1.4817e-04, 4.8465e-03, 4.1930e-03,\n",
       "         4.4850e-03, 3.4646e-03, 1.8498e-03, 6.3476e-03, 6.5177e-03, 1.8587e-04,\n",
       "         4.3634e-03, 5.5114e-01, 9.7512e-03],\n",
       "        [1.4214e-04, 2.0410e-01, 7.2287e-01, 6.4014e-03, 7.5543e-02, 1.2686e-03,\n",
       "         9.0241e-02, 1.9145e-04, 4.2147e-04, 2.3351e-04, 1.0268e-02, 6.6375e-04,\n",
       "         8.1980e-01, 8.4840e-04, 3.1151e-04],\n",
       "        [2.4895e-03, 4.1400e-01, 2.4187e-01, 6.5141e-03, 1.1722e-01, 5.8209e-05,\n",
       "         6.1454e-01, 8.3759e-05, 2.1842e-04, 1.1687e-04, 1.2532e-02, 4.0225e-04,\n",
       "         1.6829e-01, 5.4622e-04, 1.3945e-04],\n",
       "        [1.5421e-02, 8.8215e-02, 3.2253e-02, 9.2969e-03, 2.8185e-02, 1.0594e-04,\n",
       "         2.2082e-01, 3.5208e-04, 5.2104e-04, 5.4478e-04, 1.9130e-02, 1.4295e-03,\n",
       "         2.1235e-02, 8.6105e-04, 3.3609e-04],\n",
       "        [1.3365e-04, 4.7446e-02, 2.5074e-01, 6.4920e-03, 2.7090e-02, 7.8976e-03,\n",
       "         1.9827e-02, 8.9843e-04, 1.3883e-03, 9.8158e-04, 8.4388e-03, 1.7928e-03,\n",
       "         3.3501e-01, 2.0592e-03, 1.2105e-03],\n",
       "        [2.1200e-02, 6.0921e-03, 2.0716e-03, 2.6989e-04, 5.7753e-03, 2.2447e-03,\n",
       "         6.4871e-03, 4.8224e-03, 2.9955e-03, 6.8567e-03, 4.3193e-03, 4.3095e-04,\n",
       "         1.8163e-03, 2.8226e-01, 1.2953e-02],\n",
       "        [1.8924e-02, 3.1924e-04, 2.1471e-04, 2.3336e-03, 1.9341e-03, 2.4200e-01,\n",
       "         1.6264e-04, 2.7582e-01, 2.0234e-01, 1.2922e-01, 7.1126e-04, 2.9531e-02,\n",
       "         2.7644e-04, 1.8217e-01, 5.3677e-01],\n",
       "        [2.9312e-02, 2.6020e-04, 3.1693e-04, 1.2693e-01, 8.2018e-04, 1.9959e-01,\n",
       "         4.3556e-04, 3.7512e-01, 2.7318e-01, 1.8906e-01, 4.4840e-03, 9.9550e-01,\n",
       "         3.6283e-04, 1.8150e-03, 1.0886e-01],\n",
       "        [2.5784e-04, 4.8648e-01, 1.5891e-01, 1.3142e-03, 8.7516e-01, 4.8903e-04,\n",
       "         1.1376e-01, 3.3808e-04, 2.8519e-03, 8.4984e-05, 2.6070e-04, 8.9940e-04,\n",
       "         1.4470e-01, 1.0897e-03, 2.9495e-03],\n",
       "        [1.2666e-03, 2.5409e-02, 4.5886e-03, 8.8397e-04, 2.3021e-01, 9.7094e-03,\n",
       "         4.7408e-03, 1.2630e-02, 8.4996e-02, 1.4877e-03, 5.0849e-05, 8.9025e-03,\n",
       "         4.6925e-03, 8.3610e-03, 1.2920e-01]])"
      ]
     },
     "execution_count": 22,
     "metadata": {},
     "output_type": "execute_result"
    }
   ],
   "source": [
    "test.compute_embeddings(testing)"
   ]
  },
  {
   "cell_type": "code",
   "execution_count": null,
   "id": "b82febca-8d99-41cb-bb02-60090656eae7",
   "metadata": {},
   "outputs": [],
   "source": [
    "anchor_filename = anchorGeneration(diff_init = True, embed_dim = 15, n_vars = 3) "
   ]
  },
  {
   "cell_type": "code",
   "execution_count": null,
   "id": "e911163d-2cf3-47ff-96bb-f1bcf7a740d1",
   "metadata": {},
   "outputs": [],
   "source": [
    "print(anchor_filename)"
   ]
  },
  {
   "cell_type": "code",
   "execution_count": null,
   "id": "aabb08a9-8952-4581-aeac-c06a7f53da0d",
   "metadata": {},
   "outputs": [],
   "source": []
  }
 ],
 "metadata": {
  "kernelspec": {
   "display_name": "Python 3 (ipykernel)",
   "language": "python",
   "name": "python3"
  },
  "language_info": {
   "codemirror_mode": {
    "name": "ipython",
    "version": 3
   },
   "file_extension": ".py",
   "mimetype": "text/x-python",
   "name": "python",
   "nbconvert_exporter": "python",
   "pygments_lexer": "ipython3",
   "version": "3.9.18"
  }
 },
 "nbformat": 4,
 "nbformat_minor": 5
}
