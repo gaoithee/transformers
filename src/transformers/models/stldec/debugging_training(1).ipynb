{
 "cells": [
  {
   "cell_type": "code",
   "execution_count": 1,
   "metadata": {
    "id": "MGEJu-xUm-Wo"
   },
   "outputs": [],
   "source": [
    "from handcoded_tokenizer import STLTokenizer\n",
    "from configuration import STLConfig\n",
    "from modeling_stldec import STLForCausalLM\n",
    "\n",
    "from transformers import AutoConfig, AutoModel"
   ]
  },
  {
   "cell_type": "code",
   "execution_count": 2,
   "metadata": {
    "id": "wlJ_MEAwnO7w"
   },
   "outputs": [],
   "source": [
    "AutoConfig.register(\"STLdec\", STLConfig)\n",
    "AutoModel.register(STLConfig, STLForCausalLM)"
   ]
  },
  {
   "cell_type": "code",
   "execution_count": 3,
   "metadata": {
    "id": "jUXM15tQrxDX"
   },
   "outputs": [],
   "source": [
    "config = STLConfig()\n",
    "model = AutoModel.from_config(config)"
   ]
  },
  {
   "cell_type": "code",
   "execution_count": 4,
   "metadata": {
    "id": "yS2uOv_8rzwW"
   },
   "outputs": [],
   "source": [
    "import argparse\n",
    "import json\n",
    "import logging\n",
    "import math\n",
    "import os\n",
    "import random\n",
    "from itertools import chain\n",
    "from pathlib import Path\n",
    "\n",
    "import datasets\n",
    "import torch\n",
    "from accelerate import Accelerator, DistributedType\n",
    "from accelerate.logging import get_logger\n",
    "from accelerate.utils import set_seed\n",
    "from datasets import load_dataset\n",
    "from huggingface_hub import HfApi\n",
    "from torch.utils.data import DataLoader\n",
    "from tqdm.auto import tqdm\n",
    "\n",
    "import transformers\n",
    "from transformers import (\n",
    "    CONFIG_MAPPING,\n",
    "    MODEL_MAPPING,\n",
    "    AutoConfig,\n",
    "    AutoModelForCausalLM,\n",
    "    AutoTokenizer,\n",
    "    SchedulerType,\n",
    "    default_data_collator,\n",
    "    get_scheduler,\n",
    ")\n",
    "from transformers.utils import check_min_version, send_example_telemetry\n",
    "from transformers.utils.versions import require_version"
   ]
  },
  {
   "cell_type": "code",
   "execution_count": 5,
   "metadata": {
    "id": "b5uA2qTHGAIb"
   },
   "outputs": [],
   "source": [
    "logger = get_logger(__name__)"
   ]
  },
  {
   "cell_type": "code",
   "execution_count": 12,
   "metadata": {
    "id": "rMDq_tWRwXVw"
   },
   "outputs": [],
   "source": [
    "args = {\n",
    "    'dataset_name': None,  # or a custom dataset path\n",
    "    'train_file': 'train_set.csv',\n",
    "    'validation_file': 'validation_set.csv',\n",
    "    'output_dir': './output',\n",
    "    'model_name_or_path': 'STLForCausalLM',\n",
    "    'tokenizer_name': 'STLTokenizer',\n",
    "    'block_size': 500,\n",
    "    'batch_size': 8,\n",
    "    'gradient_accumulation_steps': 1,\n",
    "    'num_train_epochs': 3,\n",
    "    'learning_rate': 5e-5,\n",
    "    'weight_decay': 0.01,\n",
    "    'num_warmup_steps': 0,\n",
    "    'max_train_steps': None,\n",
    "    'seed': 42,\n",
    "    'with_tracking': True,\n",
    "    'hub_model_id': None,\n",
    "    'push_to_hub': False,\n",
    "    'trust_remote_code': False,\n",
    "    'overwrite_cache': False,\n",
    "    'per_device_train_batch_size': 8,\n",
    "    'per_device_eval_batch_size': 8,\n",
    "    'checkpointing_steps': 'epoch',  # or 'steps' with an int value\n",
    "    'resume_from_checkpoint': None,\n",
    "    'lr_scheduler_type': 'linear',  # Choose a valid scheduler type\n",
    "    'num_warmup_steps': 100,    # Used for warmup schedulers\n",
    "    'max_train_steps': 1000, # Total training steps for the scheduler\n",
    "    'lr': 0.01                  # Learning rate\n",
    "}"
   ]
  },
  {
   "cell_type": "code",
   "execution_count": 8,
   "metadata": {
    "id": "WyN3MdpVr-04"
   },
   "outputs": [],
   "source": [
    "# send_example_telemetry(\"run_clm_no_trainer\", args)\n",
    "\n",
    "# Initialize the accelerator. We will let the accelerator handle device placement for us in this example.\n",
    "# If we're using tracking, we also need to initialize it here and it will by default pick up all supported trackers\n",
    "# in the environment\n",
    "accelerator_log_kwargs = {}\n",
    "\n",
    "if args[\"with_tracking\"]:\n",
    "    # accelerator_log_kwargs[\"log_with\"] = args[\"report_to\"]\n",
    "    accelerator_log_kwargs[\"project_dir\"] = args[\"output_dir\"]\n",
    "\n",
    "accelerator = Accelerator(gradient_accumulation_steps=args[\"gradient_accumulation_steps\"], **accelerator_log_kwargs)\n",
    "\n",
    "# Make one log on every process with the configuration for debugging.\n",
    "logging.basicConfig(\n",
    "    format=\"%(asctime)s - %(levelname)s - %(name)s - %(message)s\",\n",
    "    datefmt=\"%m/%d/%Y %H:%M:%S\",\n",
    "    level=logging.INFO,\n",
    ")\n",
    "\n",
    "if accelerator.is_local_main_process:\n",
    "  datasets.utils.logging.set_verbosity_warning()\n",
    "  transformers.utils.logging.set_verbosity_info()\n",
    "else:\n",
    "  datasets.utils.logging.set_verbosity_error()\n",
    "  transformers.utils.logging.set_verbosity_error()\n",
    "\n",
    "# If passed along, set the training seed now.\n",
    "if args[\"seed\"] is not None:\n",
    "    set_seed(args[\"seed\"])"
   ]
  },
  {
   "cell_type": "code",
   "execution_count": 9,
   "metadata": {
    "id": "LX5_FD9wAwj_"
   },
   "outputs": [],
   "source": [
    "# Handle the repository creation\n",
    "if accelerator.is_main_process:\n",
    "  if args[\"push_to_hub\"]:\n",
    "    # Retrieve of infer repo_name\n",
    "    repo_name = args[\"hub_model_id\"]\n",
    "    if repo_name is None:\n",
    "      repo_name = Path(args[\"output_dir\"]).absolute().name\n",
    "      # Create repo and retrieve repo_id\n",
    "      api = HfApi()\n",
    "      repo_id = api.create_repo(repo_name, exist_ok=True, token=args[\"hub_token\"]).repo_id\n",
    "      with open(os.path.join(args[\"output_dir\"], \".gitignore\"), \"w+\") as gitignore:\n",
    "        if \"step_*\" not in gitignore:\n",
    "          gitignore.write(\"step_*\\n\")\n",
    "        if \"epoch_*\" not in gitignore:\n",
    "          gitignore.write(\"epoch_*\\n\")\n",
    "  elif args[\"output_dir\"] is not None:\n",
    "    os.makedirs(args[\"output_dir\"], exist_ok=True)\n",
    "\n",
    "accelerator.wait_for_everyone()"
   ]
  },
  {
   "cell_type": "code",
   "execution_count": 10,
   "metadata": {
    "colab": {
     "base_uri": "https://localhost:8080/",
     "height": 255,
     "referenced_widgets": [
      "b0abd7276b82472a844a9d6372ed4ea0",
      "c315fc3e4d4f4b91a0acf880b0ca4b46",
      "f2f2a543ede2491baa779a2fdf8e6099",
      "3be571d86d3e4ec2b80dd8c332c2ccf2",
      "6375fedc2faf4cf8b562efa4615fb2ef",
      "eaca07d945664b7892e058a5b192a96a",
      "5143349d57bb480180424c46e3e0fe28",
      "29d4ff57b47c449f82c63706b0c9505a",
      "441d95b97e37493f8b6693172f32696c",
      "e97607fa69b5480b9c7604eff08ad0e8",
      "f696f7ab4e614fee9472bb9ec93e3823",
      "7d9f36ee5a1f4a97910e7f5ddac9a40d",
      "e8b63542aab1481cbdc50829b592dae0",
      "6faa1ca4775e4c538667f7094a9ab422",
      "311b037a42ef42f5aae3395f1a8be839",
      "5c3a1d5586e243afa818389b22da34c3",
      "bf65e16c5d83490daa2c3c702b2f9fca",
      "aff91b6eefb8450fb4ce614eb6818525",
      "d6196ceea86843c0801a5ba1e2e4b9ff",
      "7c65825ddf7746a09e30d301a2d7d0ea",
      "7b7cb4c5ebd449e8a542426eee194ac2",
      "801399b752144f0699773e1725111f8b"
     ]
    },
    "id": "WZlTLAWrCPGk",
    "outputId": "7230e8c9-5926-4ac9-f1b1-f91de1d8195c"
   },
   "outputs": [
    {
     "name": "stdout",
     "output_type": "stream",
     "text": [
      "DatasetDict({\n",
      "    train: Dataset({\n",
      "        features: ['Unnamed: 0', 'Formula', 'Embedding'],\n",
      "        num_rows: 900\n",
      "    })\n",
      "    validation: Dataset({\n",
      "        features: ['Unnamed: 0', 'Formula', 'Embedding'],\n",
      "        num_rows: 100\n",
      "    })\n",
      "})\n"
     ]
    }
   ],
   "source": [
    "if args[\"dataset_name\"] is not None:\n",
    "  # Downloading and loading a dataset from the hub.\n",
    "  raw_datasets = load_dataset(\n",
    "      args.dataset_name, args[\"dataset_config_name\"], trust_remote_code=args[\"trust_remote_code\"]\n",
    "      )\n",
    "  if \"validation\" not in raw_datasets.keys():\n",
    "    raw_datasets[\"validation\"] = load_dataset(\n",
    "        args[\"dataset_name\"],\n",
    "        args[\"dataset_config_name\"],\n",
    "        trust_remote_code=args[\"trust_remote_code\"],\n",
    "        )\n",
    "    raw_datasets[\"train\"] = load_dataset(\n",
    "        args[\"dataset_name\"],\n",
    "        args[\"dataset_config_name\"],\n",
    "        trust_remote_code=args[\"trust_remote_code\"],\n",
    "        )\n",
    "\n",
    "else:\n",
    "    data_files = {}\n",
    "    dataset_args = {}\n",
    "    if args[\"train_file\"] is not None:\n",
    "      data_files[\"train\"] = args[\"train_file\"]\n",
    "      extension = args[\"train_file\"].split(\".\")[-1]\n",
    "    if args[\"validation_file\"] is not None:\n",
    "      data_files[\"validation\"] = args[\"validation_file\"]\n",
    "      extension = args[\"validation_file\"].split(\".\")[-1]\n",
    "    if extension == \"txt\":\n",
    "      extension = \"text\"\n",
    "\n",
    "    raw_datasets = load_dataset(extension, data_files=data_files, **dataset_args)\n",
    "    print(raw_datasets)"
   ]
  },
  {
   "cell_type": "code",
   "execution_count": 11,
   "metadata": {
    "id": "sVUGiMGdcEKN"
   },
   "outputs": [],
   "source": [
    "tokenizer = STLTokenizer('tokenizer.json')"
   ]
  },
  {
   "cell_type": "code",
   "execution_count": 33,
   "metadata": {
    "colab": {
     "base_uri": "https://localhost:8080/"
    },
    "id": "fDZPe5ElIgKK",
    "outputId": "fa054870-668b-404e-efb3-cdf6dbc7d76e"
   },
   "outputs": [
    {
     "data": {
      "text/plain": [
       "500"
      ]
     },
     "execution_count": 33,
     "metadata": {},
     "output_type": "execute_result"
    }
   ],
   "source": [
    "tokenizer.model_max_length"
   ]
  },
  {
   "cell_type": "code",
   "execution_count": 34,
   "metadata": {
    "id": "w1wQGSewEyt_"
   },
   "outputs": [],
   "source": [
    "# We resize the embeddings only when necessary to avoid index errors. If you are creating a model from scratch\n",
    "# on a small vocab and want a smaller embedding size, remove this test.\n",
    "embedding_size = model.get_input_embeddings().weight.shape[0]\n",
    "if tokenizer.vocab_size > embedding_size:\n",
    "  model.resize_token_embeddings(tokenizer.vocab_size)"
   ]
  },
  {
   "cell_type": "code",
   "execution_count": 35,
   "metadata": {
    "id": "Eun09HgFX4P6"
   },
   "outputs": [],
   "source": [
    "def tokenize_function(examples):\n",
    "  return tokenizer.encode(examples['Formula'])"
   ]
  },
  {
   "cell_type": "code",
   "execution_count": 36,
   "metadata": {
    "id": "GXlakp5BFozY"
   },
   "outputs": [],
   "source": [
    "if args[\"block_size\"] is None:\n",
    "  block_size = tokenizer.model_max_length\n",
    "  if block_size > config.max_position_embeddings:\n",
    "    logger.warning(\n",
    "        f\"The tokenizer picked seems to have a very large `model_max_length` ({tokenizer.model_max_length}). \"\n",
    "        f\"Using block_size={min(1000, config.max_position_embeddings)} instead. You can change that default value by passing --block_size xxx.\"\n",
    "        )\n",
    "    block_size = min(1000, config.max_position_embeddings)\n",
    "else:\n",
    "  if args[\"block_size\"] > tokenizer.model_max_length:\n",
    "    logger.warning(\n",
    "        f\"The block_size passed ({args.block_size}) is larger than the maximum length for the model \"\n",
    "        f\"({tokenizer.model_max_length}). Using block_size={tokenizer.model_max_length}.\"\n",
    "        )\n",
    "    block_size = min(args.block_size, tokenizer.model_max_length)\n",
    "  block_size = args['block_size']"
   ]
  },
  {
   "cell_type": "code",
   "execution_count": 37,
   "metadata": {
    "id": "qeOQRVN9Mo2n"
   },
   "outputs": [],
   "source": [
    "def select_examples(data, block_size):\n",
    "  selection = []\n",
    "  for item in data:\n",
    "    number = len(tokenizer.tokenize(item['Formula']))\n",
    "    if number < block_size:\n",
    "      selection.append(item)\n",
    "  return selection"
   ]
  },
  {
   "cell_type": "code",
   "execution_count": 15,
   "metadata": {
    "id": "UnjubzZVOq8M"
   },
   "outputs": [
    {
     "ename": "NameError",
     "evalue": "name 'select_examples' is not defined",
     "output_type": "error",
     "traceback": [
      "\u001b[0;31m---------------------------------------------------------------------------\u001b[0m",
      "\u001b[0;31mNameError\u001b[0m                                 Traceback (most recent call last)",
      "Cell \u001b[0;32mIn[15], line 3\u001b[0m\n\u001b[1;32m      1\u001b[0m \u001b[38;5;28;01mimport\u001b[39;00m \u001b[38;5;21;01mpandas\u001b[39;00m \u001b[38;5;28;01mas\u001b[39;00m \u001b[38;5;21;01mpd\u001b[39;00m\n\u001b[0;32m----> 3\u001b[0m filtered_train \u001b[38;5;241m=\u001b[39m \u001b[43mselect_examples\u001b[49m(raw_datasets[\u001b[38;5;124m'\u001b[39m\u001b[38;5;124mtrain\u001b[39m\u001b[38;5;124m'\u001b[39m], \u001b[38;5;241m500\u001b[39m)\n\u001b[1;32m      4\u001b[0m filtered_train \u001b[38;5;241m=\u001b[39m pd\u001b[38;5;241m.\u001b[39mDataFrame(filtered_train, columns\u001b[38;5;241m=\u001b[39m[\u001b[38;5;124m'\u001b[39m\u001b[38;5;124mFormula\u001b[39m\u001b[38;5;124m'\u001b[39m, \u001b[38;5;124m'\u001b[39m\u001b[38;5;124mEmbedding\u001b[39m\u001b[38;5;124m'\u001b[39m])\n\u001b[1;32m      6\u001b[0m filtered_eval \u001b[38;5;241m=\u001b[39m select_examples(raw_datasets[\u001b[38;5;124m'\u001b[39m\u001b[38;5;124mvalidation\u001b[39m\u001b[38;5;124m'\u001b[39m], \u001b[38;5;241m500\u001b[39m)\n",
      "\u001b[0;31mNameError\u001b[0m: name 'select_examples' is not defined"
     ]
    }
   ],
   "source": [
    "import pandas as pd\n",
    "\n",
    "filtered_train = select_examples(raw_datasets['train'], 500)\n",
    "filtered_train = pd.DataFrame(filtered_train, columns=['Formula', 'Embedding'])\n",
    "\n",
    "filtered_eval = select_examples(raw_datasets['validation'], 500)\n",
    "filtered_eval = pd.DataFrame(filtered_eval, columns=['Formula', 'Embedding'])"
   ]
  },
  {
   "cell_type": "code",
   "execution_count": 39,
   "metadata": {
    "id": "xByO-XuWPMUO"
   },
   "outputs": [],
   "source": [
    "def pad_formula(formula, target_length=500, pad_char=config.pad_token_id):\n",
    "  delta = len(tokenizer.tokenize(formula))\n",
    "  padded_formula = tokenizer.encode(formula) + [pad_char] * (target_length - delta)\n",
    "  return padded_formula"
   ]
  },
  {
   "cell_type": "code",
   "execution_count": 40,
   "metadata": {
    "id": "wNEdWm4AVbvk"
   },
   "outputs": [],
   "source": [
    "filtered_train['Encoded_Formula'] = filtered_train['Formula'].apply(lambda x: pad_formula(x, target_length=500, pad_char=config.pad_token_id))\n",
    "filtered_eval['Encoded_Formula'] = filtered_eval['Formula'].apply(lambda x: pad_formula(x, target_length=500, pad_char=config.pad_token_id))"
   ]
  },
  {
   "cell_type": "code",
   "execution_count": 13,
   "metadata": {
    "id": "ornimTDt2LUv"
   },
   "outputs": [],
   "source": [
    "import torch\n",
    "from torch.utils.data import Dataset\n",
    "import ast\n",
    "\n",
    "# Definiamo il nostro Dataset personalizzato\n",
    "class CustomDataset(Dataset):\n",
    "    def __init__(self, df, device='cpu'):\n",
    "        self.df = df\n",
    "        self.device = device  # Dispositivo su cui trasferire i tensori\n",
    "\n",
    "    def __len__(self):\n",
    "        return len(self.df)\n",
    "\n",
    "    def __getitem__(self, idx):\n",
    "        # Per ogni riga, recuperiamo 'Encoded_Formula'\n",
    "        encoded_formula = self.df['Encoded_Formula'][idx]\n",
    "        # encoded_formula = ast.literal_eval(encoded_formula)\n",
    "        \n",
    "        # Creiamo input_ids e labels\n",
    "        input_ids = encoded_formula[:-1] # Tutti tranne l'ultimo\n",
    "        labels = encoded_formula[1:]     # Tutti tranne il primo\n",
    "\n",
    "        # Creiamo l'attention_mask\n",
    "        attention_mask = [1 if token == '1' else 0 for token in input_ids]\n",
    "\n",
    "        # Converte in tensori\n",
    "        input_ids = torch.tensor(input_ids, dtype=torch.long).to(self.device)\n",
    "        labels = torch.tensor(labels, dtype=torch.long).to(self.device)\n",
    "        attention_mask = torch.tensor(attention_mask, dtype=torch.long).to(self.device)\n",
    "\n",
    "        return {\n",
    "            'input_ids': input_ids,\n",
    "            'labels': labels,\n",
    "            'attention_mask': attention_mask\n",
    "        }\n",
    "\n",
    "# Verifica il dispositivo disponibile\n",
    "device = torch.device('cuda' if torch.cuda.is_available() else 'cpu')"
   ]
  },
  {
   "cell_type": "code",
   "execution_count": 14,
   "metadata": {
    "id": "jIOilMUgNeit"
   },
   "outputs": [
    {
     "ename": "NameError",
     "evalue": "name 'filtered_train' is not defined",
     "output_type": "error",
     "traceback": [
      "\u001b[0;31m---------------------------------------------------------------------------\u001b[0m",
      "\u001b[0;31mNameError\u001b[0m                                 Traceback (most recent call last)",
      "Cell \u001b[0;32mIn[14], line 2\u001b[0m\n\u001b[1;32m      1\u001b[0m \u001b[38;5;66;03m# Crea il tuo dataset personalizzato, passando il dispositivo\u001b[39;00m\n\u001b[0;32m----> 2\u001b[0m train_dataset \u001b[38;5;241m=\u001b[39m CustomDataset(\u001b[43mfiltered_train\u001b[49m, device\u001b[38;5;241m=\u001b[39mdevice)\n\u001b[1;32m      3\u001b[0m eval_dataset \u001b[38;5;241m=\u001b[39m CustomDataset(filtered_eval, device\u001b[38;5;241m=\u001b[39mdevice)\n",
      "\u001b[0;31mNameError\u001b[0m: name 'filtered_train' is not defined"
     ]
    }
   ],
   "source": [
    "# Crea il tuo dataset personalizzato, passando il dispositivo\n",
    "train_dataset = CustomDataset(filtered_train, device=device)\n",
    "eval_dataset = CustomDataset(filtered_eval, device=device)"
   ]
  },
  {
   "cell_type": "code",
   "execution_count": 87,
   "metadata": {},
   "outputs": [
    {
     "data": {
      "text/plain": [
       "<__main__.CustomDataset at 0x7f8dfbabee80>"
      ]
     },
     "execution_count": 87,
     "metadata": {},
     "output_type": "execute_result"
    }
   ],
   "source": [
    "train_dataset"
   ]
  },
  {
   "cell_type": "markdown",
   "metadata": {
    "id": "RlE512TZz60G"
   },
   "source": [
    "Qua devi aggiungere anche attention_mask e labels"
   ]
  },
  {
   "cell_type": "code",
   "execution_count": 88,
   "metadata": {
    "id": "7ivjZ--rW8e3"
   },
   "outputs": [],
   "source": [
    "# DataLoaders creation:\n",
    "train_dataloader = DataLoader(\n",
    "    train_dataset, shuffle=True, collate_fn=default_data_collator, batch_size=args[\"batch_size\"]\n",
    ")\n",
    "\n",
    "eval_dataloader = DataLoader(\n",
    "    eval_dataset, shuffle=True, collate_fn=default_data_collator, batch_size=args[\"batch_size\"]\n",
    ")"
   ]
  },
  {
   "cell_type": "code",
   "execution_count": 89,
   "metadata": {
    "id": "WO1xi9SCXSgt"
   },
   "outputs": [],
   "source": [
    "# Optimizer\n",
    "# Split weights in two groups, one with weight decay and the other not.\n",
    "no_decay = [\"bias\", \"layer_norm.weight\"]\n",
    "optimizer_grouped_parameters = [\n",
    "    {\n",
    "        \"params\": [p for n, p in model.named_parameters() if not any(nd in n for nd in no_decay)],\n",
    "        \"weight_decay\": args[\"weight_decay\"],\n",
    "    },\n",
    "    {\n",
    "        \"params\": [p for n, p in model.named_parameters() if any(nd in n for nd in no_decay)],\n",
    "        \"weight_decay\": 0.0,\n",
    "    },\n",
    "]\n",
    "\n",
    "optimizer = torch.optim.AdamW(optimizer_grouped_parameters, lr=args[\"learning_rate\"], betas=(0.9, 0.99))"
   ]
  },
  {
   "cell_type": "code",
   "execution_count": 90,
   "metadata": {
    "id": "yOMUW57eX2wi"
   },
   "outputs": [],
   "source": [
    "# Scheduler and math around the number of training steps.\n",
    "overrode_max_train_steps = False\n",
    "num_update_steps_per_epoch = math.ceil(len(train_dataloader) / args[\"gradient_accumulation_steps\"])\n",
    "if args[\"max_train_steps\"] is None:\n",
    "  args[\"max_train_steps\"] = args[\"num_train_epochs\"] * num_update_steps_per_epoch\n",
    "  overrode_max_train_steps = True"
   ]
  },
  {
   "cell_type": "code",
   "execution_count": 91,
   "metadata": {
    "id": "ILZXl8m-YCTG"
   },
   "outputs": [],
   "source": [
    "lr_scheduler = get_scheduler(\n",
    "    name=args[\"lr_scheduler_type\"],\n",
    "    optimizer=optimizer,\n",
    "    num_warmup_steps=args[\"num_warmup_steps\"] * accelerator.num_processes,\n",
    "    num_training_steps=args[\"max_train_steps\"]\n",
    "    if overrode_max_train_steps\n",
    "    else args[\"max_train_steps\"] * accelerator.num_processes,\n",
    ")"
   ]
  },
  {
   "cell_type": "code",
   "execution_count": 92,
   "metadata": {
    "id": "j5SFzpzRXv4C"
   },
   "outputs": [],
   "source": [
    "# Prepare everything with our `accelerator`.\n",
    "model, optimizer, train_dataloader, eval_dataloader, lr_scheduler = accelerator.prepare(\n",
    "    model, optimizer, train_dataloader, eval_dataloader, lr_scheduler\n",
    "    )"
   ]
  },
  {
   "cell_type": "code",
   "execution_count": 93,
   "metadata": {
    "id": "15pLuFoOXEwp"
   },
   "outputs": [],
   "source": [
    "# We need to recalculate our total training steps as the size of the training dataloader may have changed.\n",
    "num_update_steps_per_epoch = math.ceil(len(train_dataloader) / args[\"gradient_accumulation_steps\"])\n",
    "if overrode_max_train_steps:\n",
    "  args[\"max_train_steps\"] = args[\"num_train_epochs\"] * num_update_steps_per_epoch\n",
    "  # Afterwards we recalculate our number of training epochs\n",
    "  args[\"num_train_epochs\"] = math.ceil(args[\"max_train_steps\"] / num_update_steps_per_epoch)\n",
    "\n",
    "# Figure out how many steps we should save the Accelerator states\n",
    "checkpointing_steps = args[\"checkpointing_steps\"]\n",
    "if checkpointing_steps is not None and checkpointing_steps.isdigit():\n",
    "  checkpointing_steps = int(checkpointing_steps)"
   ]
  },
  {
   "cell_type": "code",
   "execution_count": 94,
   "metadata": {
    "id": "quLePauIg5y9"
   },
   "outputs": [],
   "source": [
    "# We need to initialize the trackers we use, and also store our configuration.\n",
    "# The trackers initializes automatically on the main process.\n",
    "if args[\"with_tracking\"]:\n",
    "  experiment_config = args\n",
    "  # TensorBoard cannot log Enums, need the raw value\n",
    "  experiment_config[\"lr_scheduler_type\"] = experiment_config[\"lr_scheduler_type\"]\n",
    "  accelerator.init_trackers(\"clm_no_trainer\", experiment_config)"
   ]
  },
  {
   "cell_type": "code",
   "execution_count": 95,
   "metadata": {
    "colab": {
     "base_uri": "https://localhost:8080/",
     "height": 49,
     "referenced_widgets": [
      "0d9eb80fcf444448ba9169ea5e52109c",
      "732f497e5f3246b893a8a3f639ad37cd",
      "121c00cb11214325bf0076ec0dd77d61",
      "d35d4042d3994d9fac0d2d48ff441a48",
      "2348e20818f142c899c0f2a750c15849",
      "804e8a87572340b6bdbdeea500410d86",
      "2d7a8f776743485e838f3f302200c8d1",
      "df7078d68cec4d168fbadf978a5ce398",
      "2de6aef86ef34f4b9519077065a25aa5",
      "2a6355be8b4a49dd8341261936c16384",
      "e245799da528494ea5414366cebc4532"
     ]
    },
    "id": "ytzaHyu-hqm2",
    "outputId": "51091e35-71ec-4850-f4c8-9df362f8c0de"
   },
   "outputs": [
    {
     "name": "stderr",
     "output_type": "stream",
     "text": [
      "01/14/2025 10:52:00 - INFO - __main__ - ***** Running training *****\n",
      "01/14/2025 10:52:00 - INFO - __main__ -   Num examples = 884\n",
      "01/14/2025 10:52:00 - INFO - __main__ -   Num Epochs = 3\n",
      "01/14/2025 10:52:00 - INFO - __main__ -   Instantaneous batch size per device = 8\n",
      "01/14/2025 10:52:00 - INFO - __main__ -   Total train batch size (w. parallel, distributed & accumulation) = 8\n",
      "01/14/2025 10:52:00 - INFO - __main__ -   Gradient Accumulation steps = 1\n",
      "01/14/2025 10:52:00 - INFO - __main__ -   Total optimization steps = 1000\n"
     ]
    },
    {
     "data": {
      "application/vnd.jupyter.widget-view+json": {
       "model_id": "a64258025e484130adfb4f4450d242eb",
       "version_major": 2,
       "version_minor": 0
      },
      "text/plain": [
       "  0%|          | 0/1000 [00:00<?, ?it/s]"
      ]
     },
     "metadata": {},
     "output_type": "display_data"
    }
   ],
   "source": [
    "# Train!\n",
    "total_batch_size = args[\"per_device_train_batch_size\"] * accelerator.num_processes * args[\"gradient_accumulation_steps\"]\n",
    "\n",
    "logger.info(\"***** Running training *****\")\n",
    "logger.info(f\"  Num examples = {len(train_dataset)}\")\n",
    "\n",
    "num_train_epochs = args[\"num_train_epochs\"]\n",
    "per_device_train_batch_size = args[\"per_device_train_batch_size\"]\n",
    "gradient_acc_steps = args[\"gradient_accumulation_steps\"]\n",
    "max_train_steps = args[\"max_train_steps\"]\n",
    "\n",
    "logger.info(f\"  Num Epochs = {num_train_epochs}\")\n",
    "logger.info(f\"  Instantaneous batch size per device = {per_device_train_batch_size}\")\n",
    "logger.info(f\"  Total train batch size (w. parallel, distributed & accumulation) = {total_batch_size}\")\n",
    "logger.info(f\"  Gradient Accumulation steps = {gradient_acc_steps}\")\n",
    "logger.info(f\"  Total optimization steps = {max_train_steps}\")\n",
    "\n",
    "# Only show the progress bar once on each machine.\n",
    "progress_bar = tqdm(range(args[\"max_train_steps\"]), disable=not accelerator.is_local_main_process) # i 1000 sono questi!\n",
    "completed_steps = 0\n",
    "starting_epoch = 0"
   ]
  },
  {
   "cell_type": "code",
   "execution_count": 96,
   "metadata": {},
   "outputs": [
    {
     "name": "stdout",
     "output_type": "stream",
     "text": [
      "None\n"
     ]
    }
   ],
   "source": [
    "print(args[\"resume_from_checkpoint\"])"
   ]
  },
  {
   "cell_type": "code",
   "execution_count": 97,
   "metadata": {
    "colab": {
     "base_uri": "https://localhost:8080/",
     "height": 211
    },
    "id": "ryIC2_VzjYv5",
    "outputId": "e0b98e25-9907-4b33-d5ab-6344adbea947"
   },
   "outputs": [],
   "source": [
    "# Potentially load in the weights and states from a previous save\n",
    "if args[\"resume_from_checkpoint\"]:\n",
    "    print(\"questo non dovrebbe succedere\")\n",
    "    if args[\"resume_from_checkpoint\"] is not None or args[\"resume_from_checkpoint\"] != \"\":\n",
    "        checkpoint_path = args[\"resume_from_checkpoint\"]\n",
    "        path = os.path.basename(args[\"resume_from_checkpoint\"])\n",
    "    else:\n",
    "      # Get the most recent checkpoint\n",
    "      dirs = [f.name for f in os.scandir(os.getcwd()) if f.is_dir()]\n",
    "      dirs.sort(key=os.path.getctime)\n",
    "      path = dirs[-1]  # Sorts folders by date modified, most recent checkpoint is the last\n",
    "      checkpoint_path = path\n",
    "      path = os.path.basename(checkpoint_path)\n",
    "\n",
    "    accelerator.print(f\"Resumed from checkpoint: {checkpoint_path}\")\n",
    "    accelerator.load_state(checkpoint_path)\n",
    "    # Extract `epoch_{i}` or `step_{i}`\n",
    "    training_difference = os.path.splitext(path)[0]\n",
    "\n",
    "    if \"epoch\" in training_difference:\n",
    "      starting_epoch = int(training_difference.replace(\"epoch_\", \"\")) + 1\n",
    "      resume_step = None\n",
    "      completed_steps = starting_epoch * num_update_steps_per_epoch\n",
    "    \n",
    "    else:\n",
    "      # need to multiply `gradient_accumulation_steps` to reflect real steps\n",
    "      resume_step = int(training_difference.replace(\"step_\", \"\")) * args[\"gradient_accumulation_steps\"]\n",
    "      starting_epoch = resume_step // len(train_dataloader)\n",
    "      completed_steps = resume_step // args.gradient_accumulation_steps\n",
    "      resume_step -= starting_epoch * len(train_dataloader)"
   ]
  },
  {
   "cell_type": "code",
   "execution_count": 98,
   "metadata": {},
   "outputs": [
    {
     "data": {
      "text/plain": [
       "True"
      ]
     },
     "execution_count": 98,
     "metadata": {},
     "output_type": "execute_result"
    }
   ],
   "source": [
    "# update the progress_bar if load from checkpoint\n",
    "progress_bar.update(completed_steps)"
   ]
  },
  {
   "cell_type": "code",
   "execution_count": 99,
   "metadata": {
    "colab": {
     "base_uri": "https://localhost:8080/"
    },
    "id": "2k50hh85op6O",
    "outputId": "7b8ca94a-e0a9-4e69-b887-220129dea1f3",
    "scrolled": true
   },
   "outputs": [],
   "source": [
    "for epoch in range(starting_epoch, 1):\n",
    "  model.train()\n",
    "  if args[\"with_tracking\"]:\n",
    "    total_loss = 0\n",
    "  if args[\"resume_from_checkpoint\"] and epoch == starting_epoch and resume_step is not None:\n",
    "    active_dataloader = accelerator.skip_first_batches(train_dataloader, resume_step)\n",
    "  else:\n",
    "    active_dataloader = train_dataloader\n",
    "\n",
    "  for step, batch in enumerate(active_dataloader):\n",
    "    with accelerator.accumulate(model):\n",
    "      outputs = model(**batch)\n",
    "      loss = outputs.loss\n",
    "      # print(loss)\n",
    "      if args[\"with_tracking\"]:\n",
    "        total_loss += loss.detach().float()\n",
    "      accelerator.backward(loss)\n",
    "      optimizer.step()\n",
    "      lr_scheduler.step()\n",
    "      optimizer.zero_grad()"
   ]
  },
  {
   "cell_type": "code",
   "execution_count": 100,
   "metadata": {
    "colab": {
     "base_uri": "https://localhost:8080/"
    },
    "id": "0wkOz5-vaPQs",
    "outputId": "3244277e-95ea-4eba-c76f-76fca31146b1"
   },
   "outputs": [
    {
     "data": {
      "text/plain": [
       "tensor(69.2572, device='cuda:0')"
      ]
     },
     "execution_count": 100,
     "metadata": {},
     "output_type": "execute_result"
    }
   ],
   "source": [
    "total_loss"
   ]
  },
  {
   "cell_type": "markdown",
   "metadata": {
    "id": "KHaktnXKoq2K"
   },
   "source": [
    "quindi se abbiamo [BOS, the, cat, is, on, the, mat, EOS] avremo che:\n",
    "\n",
    "- input_ids: [BOS, the, cat, is, on, the, mat]\n",
    "- labels: [the, cat, is, on, the, mat, EOS]"
   ]
  },
  {
   "cell_type": "code",
   "execution_count": 7,
   "metadata": {
    "id": "SS0AvCDj1Tn2"
   },
   "outputs": [
    {
     "ename": "NameError",
     "evalue": "name 'eval_dataloader' is not defined",
     "output_type": "error",
     "traceback": [
      "\u001b[0;31m---------------------------------------------------------------------------\u001b[0m",
      "\u001b[0;31mNameError\u001b[0m                                 Traceback (most recent call last)",
      "Cell \u001b[0;32mIn[7], line 3\u001b[0m\n\u001b[1;32m      1\u001b[0m model\u001b[38;5;241m.\u001b[39meval()\n\u001b[1;32m      2\u001b[0m losses \u001b[38;5;241m=\u001b[39m []\n\u001b[0;32m----> 3\u001b[0m \u001b[38;5;28;01mfor\u001b[39;00m step, batch \u001b[38;5;129;01min\u001b[39;00m \u001b[38;5;28menumerate\u001b[39m(\u001b[43meval_dataloader\u001b[49m):\n\u001b[1;32m      4\u001b[0m     \u001b[38;5;28;01mwith\u001b[39;00m torch\u001b[38;5;241m.\u001b[39mno_grad():\n\u001b[1;32m      5\u001b[0m         outputs \u001b[38;5;241m=\u001b[39m model(\u001b[38;5;241m*\u001b[39m\u001b[38;5;241m*\u001b[39mbatch)   \n",
      "\u001b[0;31mNameError\u001b[0m: name 'eval_dataloader' is not defined"
     ]
    }
   ],
   "source": [
    "model.eval()\n",
    "losses = []\n",
    "for step, batch in enumerate(eval_dataloader):\n",
    "    with torch.no_grad():\n",
    "        outputs = model(**batch)   \n",
    "    loss = outputs.loss\n",
    "    # print(loss)\n",
    "    losses.append(accelerator.gather_for_metrics(loss.repeat(args[\"per_device_eval_batch_size\"])))\n",
    "\n",
    "losses = torch.cat(losses)\n",
    "try:\n",
    "    eval_loss = torch.mean(losses)\n",
    "    perplexity = math.exp(eval_loss)\n",
    "except OverflowError:\n",
    "    perplexity = float(\"inf\")"
   ]
  },
  {
   "cell_type": "code",
   "execution_count": 102,
   "metadata": {},
   "outputs": [
    {
     "name": "stderr",
     "output_type": "stream",
     "text": [
      "01/14/2025 10:52:46 - INFO - __main__ - epoch 0: perplexity: 1.738564057727676 eval_loss: 0.5530595183372498\n"
     ]
    }
   ],
   "source": [
    "logger.info(f\"epoch {epoch}: perplexity: {perplexity} eval_loss: {eval_loss}\")"
   ]
  },
  {
   "cell_type": "code",
   "execution_count": 103,
   "metadata": {},
   "outputs": [],
   "source": [
    "if args[\"with_tracking\"]:\n",
    "    accelerator.log(\n",
    "        {\n",
    "            \"perplexity\": perplexity,\n",
    "            \"eval_loss\": eval_loss,\n",
    "            \"train_loss\": total_loss.item() / len(train_dataloader),\n",
    "            \"epoch\": epoch,\n",
    "            \"step\": completed_steps,\n",
    "        },\n",
    "        step=completed_steps,\n",
    "    )"
   ]
  },
  {
   "cell_type": "code",
   "execution_count": null,
   "metadata": {},
   "outputs": [],
   "source": []
  }
 ],
 "metadata": {
  "accelerator": "GPU",
  "colab": {
   "gpuType": "T4",
   "provenance": []
  },
  "kernelspec": {
   "display_name": "Python 3 (ipykernel)",
   "language": "python",
   "name": "python3"
  },
  "language_info": {
   "codemirror_mode": {
    "name": "ipython",
    "version": 3
   },
   "file_extension": ".py",
   "mimetype": "text/x-python",
   "name": "python",
   "nbconvert_exporter": "python",
   "pygments_lexer": "ipython3",
   "version": "3.9.18"
  },
  "widgets": {
   "application/vnd.jupyter.widget-state+json": {
    "0d9eb80fcf444448ba9169ea5e52109c": {
     "model_module": "@jupyter-widgets/controls",
     "model_module_version": "1.5.0",
     "model_name": "HBoxModel",
     "state": {
      "_dom_classes": [],
      "_model_module": "@jupyter-widgets/controls",
      "_model_module_version": "1.5.0",
      "_model_name": "HBoxModel",
      "_view_count": null,
      "_view_module": "@jupyter-widgets/controls",
      "_view_module_version": "1.5.0",
      "_view_name": "HBoxView",
      "box_style": "",
      "children": [
       "IPY_MODEL_732f497e5f3246b893a8a3f639ad37cd",
       "IPY_MODEL_121c00cb11214325bf0076ec0dd77d61",
       "IPY_MODEL_d35d4042d3994d9fac0d2d48ff441a48"
      ],
      "layout": "IPY_MODEL_2348e20818f142c899c0f2a750c15849"
     }
    },
    "121c00cb11214325bf0076ec0dd77d61": {
     "model_module": "@jupyter-widgets/controls",
     "model_module_version": "1.5.0",
     "model_name": "FloatProgressModel",
     "state": {
      "_dom_classes": [],
      "_model_module": "@jupyter-widgets/controls",
      "_model_module_version": "1.5.0",
      "_model_name": "FloatProgressModel",
      "_view_count": null,
      "_view_module": "@jupyter-widgets/controls",
      "_view_module_version": "1.5.0",
      "_view_name": "ProgressView",
      "bar_style": "",
      "description": "",
      "description_tooltip": null,
      "layout": "IPY_MODEL_df7078d68cec4d168fbadf978a5ce398",
      "max": 1000,
      "min": 0,
      "orientation": "horizontal",
      "style": "IPY_MODEL_2de6aef86ef34f4b9519077065a25aa5",
      "value": 0
     }
    },
    "2348e20818f142c899c0f2a750c15849": {
     "model_module": "@jupyter-widgets/base",
     "model_module_version": "1.2.0",
     "model_name": "LayoutModel",
     "state": {
      "_model_module": "@jupyter-widgets/base",
      "_model_module_version": "1.2.0",
      "_model_name": "LayoutModel",
      "_view_count": null,
      "_view_module": "@jupyter-widgets/base",
      "_view_module_version": "1.2.0",
      "_view_name": "LayoutView",
      "align_content": null,
      "align_items": null,
      "align_self": null,
      "border": null,
      "bottom": null,
      "display": null,
      "flex": null,
      "flex_flow": null,
      "grid_area": null,
      "grid_auto_columns": null,
      "grid_auto_flow": null,
      "grid_auto_rows": null,
      "grid_column": null,
      "grid_gap": null,
      "grid_row": null,
      "grid_template_areas": null,
      "grid_template_columns": null,
      "grid_template_rows": null,
      "height": null,
      "justify_content": null,
      "justify_items": null,
      "left": null,
      "margin": null,
      "max_height": null,
      "max_width": null,
      "min_height": null,
      "min_width": null,
      "object_fit": null,
      "object_position": null,
      "order": null,
      "overflow": null,
      "overflow_x": null,
      "overflow_y": null,
      "padding": null,
      "right": null,
      "top": null,
      "visibility": null,
      "width": null
     }
    },
    "29d4ff57b47c449f82c63706b0c9505a": {
     "model_module": "@jupyter-widgets/base",
     "model_module_version": "1.2.0",
     "model_name": "LayoutModel",
     "state": {
      "_model_module": "@jupyter-widgets/base",
      "_model_module_version": "1.2.0",
      "_model_name": "LayoutModel",
      "_view_count": null,
      "_view_module": "@jupyter-widgets/base",
      "_view_module_version": "1.2.0",
      "_view_name": "LayoutView",
      "align_content": null,
      "align_items": null,
      "align_self": null,
      "border": null,
      "bottom": null,
      "display": null,
      "flex": null,
      "flex_flow": null,
      "grid_area": null,
      "grid_auto_columns": null,
      "grid_auto_flow": null,
      "grid_auto_rows": null,
      "grid_column": null,
      "grid_gap": null,
      "grid_row": null,
      "grid_template_areas": null,
      "grid_template_columns": null,
      "grid_template_rows": null,
      "height": null,
      "justify_content": null,
      "justify_items": null,
      "left": null,
      "margin": null,
      "max_height": null,
      "max_width": null,
      "min_height": null,
      "min_width": null,
      "object_fit": null,
      "object_position": null,
      "order": null,
      "overflow": null,
      "overflow_x": null,
      "overflow_y": null,
      "padding": null,
      "right": null,
      "top": null,
      "visibility": null,
      "width": "20px"
     }
    },
    "2a6355be8b4a49dd8341261936c16384": {
     "model_module": "@jupyter-widgets/base",
     "model_module_version": "1.2.0",
     "model_name": "LayoutModel",
     "state": {
      "_model_module": "@jupyter-widgets/base",
      "_model_module_version": "1.2.0",
      "_model_name": "LayoutModel",
      "_view_count": null,
      "_view_module": "@jupyter-widgets/base",
      "_view_module_version": "1.2.0",
      "_view_name": "LayoutView",
      "align_content": null,
      "align_items": null,
      "align_self": null,
      "border": null,
      "bottom": null,
      "display": null,
      "flex": null,
      "flex_flow": null,
      "grid_area": null,
      "grid_auto_columns": null,
      "grid_auto_flow": null,
      "grid_auto_rows": null,
      "grid_column": null,
      "grid_gap": null,
      "grid_row": null,
      "grid_template_areas": null,
      "grid_template_columns": null,
      "grid_template_rows": null,
      "height": null,
      "justify_content": null,
      "justify_items": null,
      "left": null,
      "margin": null,
      "max_height": null,
      "max_width": null,
      "min_height": null,
      "min_width": null,
      "object_fit": null,
      "object_position": null,
      "order": null,
      "overflow": null,
      "overflow_x": null,
      "overflow_y": null,
      "padding": null,
      "right": null,
      "top": null,
      "visibility": null,
      "width": null
     }
    },
    "2d7a8f776743485e838f3f302200c8d1": {
     "model_module": "@jupyter-widgets/controls",
     "model_module_version": "1.5.0",
     "model_name": "DescriptionStyleModel",
     "state": {
      "_model_module": "@jupyter-widgets/controls",
      "_model_module_version": "1.5.0",
      "_model_name": "DescriptionStyleModel",
      "_view_count": null,
      "_view_module": "@jupyter-widgets/base",
      "_view_module_version": "1.2.0",
      "_view_name": "StyleView",
      "description_width": ""
     }
    },
    "2de6aef86ef34f4b9519077065a25aa5": {
     "model_module": "@jupyter-widgets/controls",
     "model_module_version": "1.5.0",
     "model_name": "ProgressStyleModel",
     "state": {
      "_model_module": "@jupyter-widgets/controls",
      "_model_module_version": "1.5.0",
      "_model_name": "ProgressStyleModel",
      "_view_count": null,
      "_view_module": "@jupyter-widgets/base",
      "_view_module_version": "1.2.0",
      "_view_name": "StyleView",
      "bar_color": null,
      "description_width": ""
     }
    },
    "311b037a42ef42f5aae3395f1a8be839": {
     "model_module": "@jupyter-widgets/controls",
     "model_module_version": "1.5.0",
     "model_name": "HTMLModel",
     "state": {
      "_dom_classes": [],
      "_model_module": "@jupyter-widgets/controls",
      "_model_module_version": "1.5.0",
      "_model_name": "HTMLModel",
      "_view_count": null,
      "_view_module": "@jupyter-widgets/controls",
      "_view_module_version": "1.5.0",
      "_view_name": "HTMLView",
      "description": "",
      "description_tooltip": null,
      "layout": "IPY_MODEL_7b7cb4c5ebd449e8a542426eee194ac2",
      "placeholder": "​",
      "style": "IPY_MODEL_801399b752144f0699773e1725111f8b",
      "value": " 100/0 [00:00&lt;00:00, 154.12 examples/s]"
     }
    },
    "3be571d86d3e4ec2b80dd8c332c2ccf2": {
     "model_module": "@jupyter-widgets/controls",
     "model_module_version": "1.5.0",
     "model_name": "HTMLModel",
     "state": {
      "_dom_classes": [],
      "_model_module": "@jupyter-widgets/controls",
      "_model_module_version": "1.5.0",
      "_model_name": "HTMLModel",
      "_view_count": null,
      "_view_module": "@jupyter-widgets/controls",
      "_view_module_version": "1.5.0",
      "_view_name": "HTMLView",
      "description": "",
      "description_tooltip": null,
      "layout": "IPY_MODEL_e97607fa69b5480b9c7604eff08ad0e8",
      "placeholder": "​",
      "style": "IPY_MODEL_f696f7ab4e614fee9472bb9ec93e3823",
      "value": " 900/0 [00:01&lt;00:00, 868.03 examples/s]"
     }
    },
    "441d95b97e37493f8b6693172f32696c": {
     "model_module": "@jupyter-widgets/controls",
     "model_module_version": "1.5.0",
     "model_name": "ProgressStyleModel",
     "state": {
      "_model_module": "@jupyter-widgets/controls",
      "_model_module_version": "1.5.0",
      "_model_name": "ProgressStyleModel",
      "_view_count": null,
      "_view_module": "@jupyter-widgets/base",
      "_view_module_version": "1.2.0",
      "_view_name": "StyleView",
      "bar_color": null,
      "description_width": ""
     }
    },
    "5143349d57bb480180424c46e3e0fe28": {
     "model_module": "@jupyter-widgets/controls",
     "model_module_version": "1.5.0",
     "model_name": "DescriptionStyleModel",
     "state": {
      "_model_module": "@jupyter-widgets/controls",
      "_model_module_version": "1.5.0",
      "_model_name": "DescriptionStyleModel",
      "_view_count": null,
      "_view_module": "@jupyter-widgets/base",
      "_view_module_version": "1.2.0",
      "_view_name": "StyleView",
      "description_width": ""
     }
    },
    "5c3a1d5586e243afa818389b22da34c3": {
     "model_module": "@jupyter-widgets/base",
     "model_module_version": "1.2.0",
     "model_name": "LayoutModel",
     "state": {
      "_model_module": "@jupyter-widgets/base",
      "_model_module_version": "1.2.0",
      "_model_name": "LayoutModel",
      "_view_count": null,
      "_view_module": "@jupyter-widgets/base",
      "_view_module_version": "1.2.0",
      "_view_name": "LayoutView",
      "align_content": null,
      "align_items": null,
      "align_self": null,
      "border": null,
      "bottom": null,
      "display": null,
      "flex": null,
      "flex_flow": null,
      "grid_area": null,
      "grid_auto_columns": null,
      "grid_auto_flow": null,
      "grid_auto_rows": null,
      "grid_column": null,
      "grid_gap": null,
      "grid_row": null,
      "grid_template_areas": null,
      "grid_template_columns": null,
      "grid_template_rows": null,
      "height": null,
      "justify_content": null,
      "justify_items": null,
      "left": null,
      "margin": null,
      "max_height": null,
      "max_width": null,
      "min_height": null,
      "min_width": null,
      "object_fit": null,
      "object_position": null,
      "order": null,
      "overflow": null,
      "overflow_x": null,
      "overflow_y": null,
      "padding": null,
      "right": null,
      "top": null,
      "visibility": null,
      "width": null
     }
    },
    "6375fedc2faf4cf8b562efa4615fb2ef": {
     "model_module": "@jupyter-widgets/base",
     "model_module_version": "1.2.0",
     "model_name": "LayoutModel",
     "state": {
      "_model_module": "@jupyter-widgets/base",
      "_model_module_version": "1.2.0",
      "_model_name": "LayoutModel",
      "_view_count": null,
      "_view_module": "@jupyter-widgets/base",
      "_view_module_version": "1.2.0",
      "_view_name": "LayoutView",
      "align_content": null,
      "align_items": null,
      "align_self": null,
      "border": null,
      "bottom": null,
      "display": null,
      "flex": null,
      "flex_flow": null,
      "grid_area": null,
      "grid_auto_columns": null,
      "grid_auto_flow": null,
      "grid_auto_rows": null,
      "grid_column": null,
      "grid_gap": null,
      "grid_row": null,
      "grid_template_areas": null,
      "grid_template_columns": null,
      "grid_template_rows": null,
      "height": null,
      "justify_content": null,
      "justify_items": null,
      "left": null,
      "margin": null,
      "max_height": null,
      "max_width": null,
      "min_height": null,
      "min_width": null,
      "object_fit": null,
      "object_position": null,
      "order": null,
      "overflow": null,
      "overflow_x": null,
      "overflow_y": null,
      "padding": null,
      "right": null,
      "top": null,
      "visibility": null,
      "width": null
     }
    },
    "6faa1ca4775e4c538667f7094a9ab422": {
     "model_module": "@jupyter-widgets/controls",
     "model_module_version": "1.5.0",
     "model_name": "FloatProgressModel",
     "state": {
      "_dom_classes": [],
      "_model_module": "@jupyter-widgets/controls",
      "_model_module_version": "1.5.0",
      "_model_name": "FloatProgressModel",
      "_view_count": null,
      "_view_module": "@jupyter-widgets/controls",
      "_view_module_version": "1.5.0",
      "_view_name": "ProgressView",
      "bar_style": "success",
      "description": "",
      "description_tooltip": null,
      "layout": "IPY_MODEL_d6196ceea86843c0801a5ba1e2e4b9ff",
      "max": 1,
      "min": 0,
      "orientation": "horizontal",
      "style": "IPY_MODEL_7c65825ddf7746a09e30d301a2d7d0ea",
      "value": 1
     }
    },
    "732f497e5f3246b893a8a3f639ad37cd": {
     "model_module": "@jupyter-widgets/controls",
     "model_module_version": "1.5.0",
     "model_name": "HTMLModel",
     "state": {
      "_dom_classes": [],
      "_model_module": "@jupyter-widgets/controls",
      "_model_module_version": "1.5.0",
      "_model_name": "HTMLModel",
      "_view_count": null,
      "_view_module": "@jupyter-widgets/controls",
      "_view_module_version": "1.5.0",
      "_view_name": "HTMLView",
      "description": "",
      "description_tooltip": null,
      "layout": "IPY_MODEL_804e8a87572340b6bdbdeea500410d86",
      "placeholder": "​",
      "style": "IPY_MODEL_2d7a8f776743485e838f3f302200c8d1",
      "value": "  0%"
     }
    },
    "7b7cb4c5ebd449e8a542426eee194ac2": {
     "model_module": "@jupyter-widgets/base",
     "model_module_version": "1.2.0",
     "model_name": "LayoutModel",
     "state": {
      "_model_module": "@jupyter-widgets/base",
      "_model_module_version": "1.2.0",
      "_model_name": "LayoutModel",
      "_view_count": null,
      "_view_module": "@jupyter-widgets/base",
      "_view_module_version": "1.2.0",
      "_view_name": "LayoutView",
      "align_content": null,
      "align_items": null,
      "align_self": null,
      "border": null,
      "bottom": null,
      "display": null,
      "flex": null,
      "flex_flow": null,
      "grid_area": null,
      "grid_auto_columns": null,
      "grid_auto_flow": null,
      "grid_auto_rows": null,
      "grid_column": null,
      "grid_gap": null,
      "grid_row": null,
      "grid_template_areas": null,
      "grid_template_columns": null,
      "grid_template_rows": null,
      "height": null,
      "justify_content": null,
      "justify_items": null,
      "left": null,
      "margin": null,
      "max_height": null,
      "max_width": null,
      "min_height": null,
      "min_width": null,
      "object_fit": null,
      "object_position": null,
      "order": null,
      "overflow": null,
      "overflow_x": null,
      "overflow_y": null,
      "padding": null,
      "right": null,
      "top": null,
      "visibility": null,
      "width": null
     }
    },
    "7c65825ddf7746a09e30d301a2d7d0ea": {
     "model_module": "@jupyter-widgets/controls",
     "model_module_version": "1.5.0",
     "model_name": "ProgressStyleModel",
     "state": {
      "_model_module": "@jupyter-widgets/controls",
      "_model_module_version": "1.5.0",
      "_model_name": "ProgressStyleModel",
      "_view_count": null,
      "_view_module": "@jupyter-widgets/base",
      "_view_module_version": "1.2.0",
      "_view_name": "StyleView",
      "bar_color": null,
      "description_width": ""
     }
    },
    "7d9f36ee5a1f4a97910e7f5ddac9a40d": {
     "model_module": "@jupyter-widgets/controls",
     "model_module_version": "1.5.0",
     "model_name": "HBoxModel",
     "state": {
      "_dom_classes": [],
      "_model_module": "@jupyter-widgets/controls",
      "_model_module_version": "1.5.0",
      "_model_name": "HBoxModel",
      "_view_count": null,
      "_view_module": "@jupyter-widgets/controls",
      "_view_module_version": "1.5.0",
      "_view_name": "HBoxView",
      "box_style": "",
      "children": [
       "IPY_MODEL_e8b63542aab1481cbdc50829b592dae0",
       "IPY_MODEL_6faa1ca4775e4c538667f7094a9ab422",
       "IPY_MODEL_311b037a42ef42f5aae3395f1a8be839"
      ],
      "layout": "IPY_MODEL_5c3a1d5586e243afa818389b22da34c3"
     }
    },
    "801399b752144f0699773e1725111f8b": {
     "model_module": "@jupyter-widgets/controls",
     "model_module_version": "1.5.0",
     "model_name": "DescriptionStyleModel",
     "state": {
      "_model_module": "@jupyter-widgets/controls",
      "_model_module_version": "1.5.0",
      "_model_name": "DescriptionStyleModel",
      "_view_count": null,
      "_view_module": "@jupyter-widgets/base",
      "_view_module_version": "1.2.0",
      "_view_name": "StyleView",
      "description_width": ""
     }
    },
    "804e8a87572340b6bdbdeea500410d86": {
     "model_module": "@jupyter-widgets/base",
     "model_module_version": "1.2.0",
     "model_name": "LayoutModel",
     "state": {
      "_model_module": "@jupyter-widgets/base",
      "_model_module_version": "1.2.0",
      "_model_name": "LayoutModel",
      "_view_count": null,
      "_view_module": "@jupyter-widgets/base",
      "_view_module_version": "1.2.0",
      "_view_name": "LayoutView",
      "align_content": null,
      "align_items": null,
      "align_self": null,
      "border": null,
      "bottom": null,
      "display": null,
      "flex": null,
      "flex_flow": null,
      "grid_area": null,
      "grid_auto_columns": null,
      "grid_auto_flow": null,
      "grid_auto_rows": null,
      "grid_column": null,
      "grid_gap": null,
      "grid_row": null,
      "grid_template_areas": null,
      "grid_template_columns": null,
      "grid_template_rows": null,
      "height": null,
      "justify_content": null,
      "justify_items": null,
      "left": null,
      "margin": null,
      "max_height": null,
      "max_width": null,
      "min_height": null,
      "min_width": null,
      "object_fit": null,
      "object_position": null,
      "order": null,
      "overflow": null,
      "overflow_x": null,
      "overflow_y": null,
      "padding": null,
      "right": null,
      "top": null,
      "visibility": null,
      "width": null
     }
    },
    "aff91b6eefb8450fb4ce614eb6818525": {
     "model_module": "@jupyter-widgets/controls",
     "model_module_version": "1.5.0",
     "model_name": "DescriptionStyleModel",
     "state": {
      "_model_module": "@jupyter-widgets/controls",
      "_model_module_version": "1.5.0",
      "_model_name": "DescriptionStyleModel",
      "_view_count": null,
      "_view_module": "@jupyter-widgets/base",
      "_view_module_version": "1.2.0",
      "_view_name": "StyleView",
      "description_width": ""
     }
    },
    "b0abd7276b82472a844a9d6372ed4ea0": {
     "model_module": "@jupyter-widgets/controls",
     "model_module_version": "1.5.0",
     "model_name": "HBoxModel",
     "state": {
      "_dom_classes": [],
      "_model_module": "@jupyter-widgets/controls",
      "_model_module_version": "1.5.0",
      "_model_name": "HBoxModel",
      "_view_count": null,
      "_view_module": "@jupyter-widgets/controls",
      "_view_module_version": "1.5.0",
      "_view_name": "HBoxView",
      "box_style": "",
      "children": [
       "IPY_MODEL_c315fc3e4d4f4b91a0acf880b0ca4b46",
       "IPY_MODEL_f2f2a543ede2491baa779a2fdf8e6099",
       "IPY_MODEL_3be571d86d3e4ec2b80dd8c332c2ccf2"
      ],
      "layout": "IPY_MODEL_6375fedc2faf4cf8b562efa4615fb2ef"
     }
    },
    "bf65e16c5d83490daa2c3c702b2f9fca": {
     "model_module": "@jupyter-widgets/base",
     "model_module_version": "1.2.0",
     "model_name": "LayoutModel",
     "state": {
      "_model_module": "@jupyter-widgets/base",
      "_model_module_version": "1.2.0",
      "_model_name": "LayoutModel",
      "_view_count": null,
      "_view_module": "@jupyter-widgets/base",
      "_view_module_version": "1.2.0",
      "_view_name": "LayoutView",
      "align_content": null,
      "align_items": null,
      "align_self": null,
      "border": null,
      "bottom": null,
      "display": null,
      "flex": null,
      "flex_flow": null,
      "grid_area": null,
      "grid_auto_columns": null,
      "grid_auto_flow": null,
      "grid_auto_rows": null,
      "grid_column": null,
      "grid_gap": null,
      "grid_row": null,
      "grid_template_areas": null,
      "grid_template_columns": null,
      "grid_template_rows": null,
      "height": null,
      "justify_content": null,
      "justify_items": null,
      "left": null,
      "margin": null,
      "max_height": null,
      "max_width": null,
      "min_height": null,
      "min_width": null,
      "object_fit": null,
      "object_position": null,
      "order": null,
      "overflow": null,
      "overflow_x": null,
      "overflow_y": null,
      "padding": null,
      "right": null,
      "top": null,
      "visibility": null,
      "width": null
     }
    },
    "c315fc3e4d4f4b91a0acf880b0ca4b46": {
     "model_module": "@jupyter-widgets/controls",
     "model_module_version": "1.5.0",
     "model_name": "HTMLModel",
     "state": {
      "_dom_classes": [],
      "_model_module": "@jupyter-widgets/controls",
      "_model_module_version": "1.5.0",
      "_model_name": "HTMLModel",
      "_view_count": null,
      "_view_module": "@jupyter-widgets/controls",
      "_view_module_version": "1.5.0",
      "_view_name": "HTMLView",
      "description": "",
      "description_tooltip": null,
      "layout": "IPY_MODEL_eaca07d945664b7892e058a5b192a96a",
      "placeholder": "​",
      "style": "IPY_MODEL_5143349d57bb480180424c46e3e0fe28",
      "value": "Generating train split: "
     }
    },
    "d35d4042d3994d9fac0d2d48ff441a48": {
     "model_module": "@jupyter-widgets/controls",
     "model_module_version": "1.5.0",
     "model_name": "HTMLModel",
     "state": {
      "_dom_classes": [],
      "_model_module": "@jupyter-widgets/controls",
      "_model_module_version": "1.5.0",
      "_model_name": "HTMLModel",
      "_view_count": null,
      "_view_module": "@jupyter-widgets/controls",
      "_view_module_version": "1.5.0",
      "_view_name": "HTMLView",
      "description": "",
      "description_tooltip": null,
      "layout": "IPY_MODEL_2a6355be8b4a49dd8341261936c16384",
      "placeholder": "​",
      "style": "IPY_MODEL_e245799da528494ea5414366cebc4532",
      "value": " 0/1000 [00:00&lt;?, ?it/s]"
     }
    },
    "d6196ceea86843c0801a5ba1e2e4b9ff": {
     "model_module": "@jupyter-widgets/base",
     "model_module_version": "1.2.0",
     "model_name": "LayoutModel",
     "state": {
      "_model_module": "@jupyter-widgets/base",
      "_model_module_version": "1.2.0",
      "_model_name": "LayoutModel",
      "_view_count": null,
      "_view_module": "@jupyter-widgets/base",
      "_view_module_version": "1.2.0",
      "_view_name": "LayoutView",
      "align_content": null,
      "align_items": null,
      "align_self": null,
      "border": null,
      "bottom": null,
      "display": null,
      "flex": null,
      "flex_flow": null,
      "grid_area": null,
      "grid_auto_columns": null,
      "grid_auto_flow": null,
      "grid_auto_rows": null,
      "grid_column": null,
      "grid_gap": null,
      "grid_row": null,
      "grid_template_areas": null,
      "grid_template_columns": null,
      "grid_template_rows": null,
      "height": null,
      "justify_content": null,
      "justify_items": null,
      "left": null,
      "margin": null,
      "max_height": null,
      "max_width": null,
      "min_height": null,
      "min_width": null,
      "object_fit": null,
      "object_position": null,
      "order": null,
      "overflow": null,
      "overflow_x": null,
      "overflow_y": null,
      "padding": null,
      "right": null,
      "top": null,
      "visibility": null,
      "width": "20px"
     }
    },
    "df7078d68cec4d168fbadf978a5ce398": {
     "model_module": "@jupyter-widgets/base",
     "model_module_version": "1.2.0",
     "model_name": "LayoutModel",
     "state": {
      "_model_module": "@jupyter-widgets/base",
      "_model_module_version": "1.2.0",
      "_model_name": "LayoutModel",
      "_view_count": null,
      "_view_module": "@jupyter-widgets/base",
      "_view_module_version": "1.2.0",
      "_view_name": "LayoutView",
      "align_content": null,
      "align_items": null,
      "align_self": null,
      "border": null,
      "bottom": null,
      "display": null,
      "flex": null,
      "flex_flow": null,
      "grid_area": null,
      "grid_auto_columns": null,
      "grid_auto_flow": null,
      "grid_auto_rows": null,
      "grid_column": null,
      "grid_gap": null,
      "grid_row": null,
      "grid_template_areas": null,
      "grid_template_columns": null,
      "grid_template_rows": null,
      "height": null,
      "justify_content": null,
      "justify_items": null,
      "left": null,
      "margin": null,
      "max_height": null,
      "max_width": null,
      "min_height": null,
      "min_width": null,
      "object_fit": null,
      "object_position": null,
      "order": null,
      "overflow": null,
      "overflow_x": null,
      "overflow_y": null,
      "padding": null,
      "right": null,
      "top": null,
      "visibility": null,
      "width": null
     }
    },
    "e245799da528494ea5414366cebc4532": {
     "model_module": "@jupyter-widgets/controls",
     "model_module_version": "1.5.0",
     "model_name": "DescriptionStyleModel",
     "state": {
      "_model_module": "@jupyter-widgets/controls",
      "_model_module_version": "1.5.0",
      "_model_name": "DescriptionStyleModel",
      "_view_count": null,
      "_view_module": "@jupyter-widgets/base",
      "_view_module_version": "1.2.0",
      "_view_name": "StyleView",
      "description_width": ""
     }
    },
    "e8b63542aab1481cbdc50829b592dae0": {
     "model_module": "@jupyter-widgets/controls",
     "model_module_version": "1.5.0",
     "model_name": "HTMLModel",
     "state": {
      "_dom_classes": [],
      "_model_module": "@jupyter-widgets/controls",
      "_model_module_version": "1.5.0",
      "_model_name": "HTMLModel",
      "_view_count": null,
      "_view_module": "@jupyter-widgets/controls",
      "_view_module_version": "1.5.0",
      "_view_name": "HTMLView",
      "description": "",
      "description_tooltip": null,
      "layout": "IPY_MODEL_bf65e16c5d83490daa2c3c702b2f9fca",
      "placeholder": "​",
      "style": "IPY_MODEL_aff91b6eefb8450fb4ce614eb6818525",
      "value": "Generating validation split: "
     }
    },
    "e97607fa69b5480b9c7604eff08ad0e8": {
     "model_module": "@jupyter-widgets/base",
     "model_module_version": "1.2.0",
     "model_name": "LayoutModel",
     "state": {
      "_model_module": "@jupyter-widgets/base",
      "_model_module_version": "1.2.0",
      "_model_name": "LayoutModel",
      "_view_count": null,
      "_view_module": "@jupyter-widgets/base",
      "_view_module_version": "1.2.0",
      "_view_name": "LayoutView",
      "align_content": null,
      "align_items": null,
      "align_self": null,
      "border": null,
      "bottom": null,
      "display": null,
      "flex": null,
      "flex_flow": null,
      "grid_area": null,
      "grid_auto_columns": null,
      "grid_auto_flow": null,
      "grid_auto_rows": null,
      "grid_column": null,
      "grid_gap": null,
      "grid_row": null,
      "grid_template_areas": null,
      "grid_template_columns": null,
      "grid_template_rows": null,
      "height": null,
      "justify_content": null,
      "justify_items": null,
      "left": null,
      "margin": null,
      "max_height": null,
      "max_width": null,
      "min_height": null,
      "min_width": null,
      "object_fit": null,
      "object_position": null,
      "order": null,
      "overflow": null,
      "overflow_x": null,
      "overflow_y": null,
      "padding": null,
      "right": null,
      "top": null,
      "visibility": null,
      "width": null
     }
    },
    "eaca07d945664b7892e058a5b192a96a": {
     "model_module": "@jupyter-widgets/base",
     "model_module_version": "1.2.0",
     "model_name": "LayoutModel",
     "state": {
      "_model_module": "@jupyter-widgets/base",
      "_model_module_version": "1.2.0",
      "_model_name": "LayoutModel",
      "_view_count": null,
      "_view_module": "@jupyter-widgets/base",
      "_view_module_version": "1.2.0",
      "_view_name": "LayoutView",
      "align_content": null,
      "align_items": null,
      "align_self": null,
      "border": null,
      "bottom": null,
      "display": null,
      "flex": null,
      "flex_flow": null,
      "grid_area": null,
      "grid_auto_columns": null,
      "grid_auto_flow": null,
      "grid_auto_rows": null,
      "grid_column": null,
      "grid_gap": null,
      "grid_row": null,
      "grid_template_areas": null,
      "grid_template_columns": null,
      "grid_template_rows": null,
      "height": null,
      "justify_content": null,
      "justify_items": null,
      "left": null,
      "margin": null,
      "max_height": null,
      "max_width": null,
      "min_height": null,
      "min_width": null,
      "object_fit": null,
      "object_position": null,
      "order": null,
      "overflow": null,
      "overflow_x": null,
      "overflow_y": null,
      "padding": null,
      "right": null,
      "top": null,
      "visibility": null,
      "width": null
     }
    },
    "f2f2a543ede2491baa779a2fdf8e6099": {
     "model_module": "@jupyter-widgets/controls",
     "model_module_version": "1.5.0",
     "model_name": "FloatProgressModel",
     "state": {
      "_dom_classes": [],
      "_model_module": "@jupyter-widgets/controls",
      "_model_module_version": "1.5.0",
      "_model_name": "FloatProgressModel",
      "_view_count": null,
      "_view_module": "@jupyter-widgets/controls",
      "_view_module_version": "1.5.0",
      "_view_name": "ProgressView",
      "bar_style": "success",
      "description": "",
      "description_tooltip": null,
      "layout": "IPY_MODEL_29d4ff57b47c449f82c63706b0c9505a",
      "max": 1,
      "min": 0,
      "orientation": "horizontal",
      "style": "IPY_MODEL_441d95b97e37493f8b6693172f32696c",
      "value": 1
     }
    },
    "f696f7ab4e614fee9472bb9ec93e3823": {
     "model_module": "@jupyter-widgets/controls",
     "model_module_version": "1.5.0",
     "model_name": "DescriptionStyleModel",
     "state": {
      "_model_module": "@jupyter-widgets/controls",
      "_model_module_version": "1.5.0",
      "_model_name": "DescriptionStyleModel",
      "_view_count": null,
      "_view_module": "@jupyter-widgets/base",
      "_view_module_version": "1.2.0",
      "_view_name": "StyleView",
      "description_width": ""
     }
    }
   }
  }
 },
 "nbformat": 4,
 "nbformat_minor": 4
}
