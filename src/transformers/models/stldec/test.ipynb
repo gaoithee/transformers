{
 "cells": [
  {
   "cell_type": "code",
   "execution_count": 2,
   "metadata": {},
   "outputs": [
    {
     "ename": "AttributeError",
     "evalue": "'StlGenerator' object has no attribute '_sample_internalnode'",
     "output_type": "error",
     "traceback": [
      "\u001b[0;31m---------------------------------------------------------------------------\u001b[0m",
      "\u001b[0;31mAttributeError\u001b[0m                            Traceback (most recent call last)",
      "Cell \u001b[0;32mIn[2], line 1\u001b[0m\n\u001b[0;32m----> 1\u001b[0m \u001b[38;5;28;01mfrom\u001b[39;00m \u001b[38;5;21;01mencoder\u001b[39;00m \u001b[38;5;28;01mimport\u001b[39;00m STLEncoder\n",
      "File \u001b[0;32m~/transformers/src/transformers/models/stldec/encoder.py:13\u001b[0m\n\u001b[1;32m     10\u001b[0m \u001b[38;5;28;01mfrom\u001b[39;00m \u001b[38;5;21;01mutils\u001b[39;00m \u001b[38;5;28;01mimport\u001b[39;00m from_string_to_formula, load_pickle, dump_pickle\n\u001b[1;32m     11\u001b[0m \u001b[38;5;28;01mfrom\u001b[39;00m \u001b[38;5;21;01mkernel\u001b[39;00m \u001b[38;5;28;01mimport\u001b[39;00m StlKernel\n\u001b[0;32m---> 13\u001b[0m \u001b[38;5;28;01mfrom\u001b[39;00m \u001b[38;5;21;01manchor_set_generation\u001b[39;00m \u001b[38;5;28;01mimport\u001b[39;00m anchorGeneration\n\u001b[1;32m     16\u001b[0m \u001b[38;5;28;01mclass\u001b[39;00m \u001b[38;5;21;01mSTLEncoder\u001b[39;00m():\n\u001b[1;32m     17\u001b[0m     \u001b[38;5;28;01mdef\u001b[39;00m \u001b[38;5;21m__init__\u001b[39m(\u001b[38;5;28mself\u001b[39m, \n\u001b[1;32m     18\u001b[0m                  embed_dim: \u001b[38;5;28mint\u001b[39m,\n\u001b[1;32m     19\u001b[0m                  anchor_filename: Optional[\u001b[38;5;28mstr\u001b[39m] \u001b[38;5;241m=\u001b[39m \u001b[38;5;28;01mNone\u001b[39;00m,\n\u001b[1;32m     20\u001b[0m                  n_vars: \u001b[38;5;28mint\u001b[39m \u001b[38;5;241m=\u001b[39m \u001b[38;5;241m3\u001b[39m):\n",
      "File \u001b[0;32m~/transformers/src/transformers/models/stldec/anchor_set_generation.py:77\u001b[0m\n\u001b[1;32m     73\u001b[0m     \u001b[38;5;28;01mreturn\u001b[39;00m filename\n\u001b[1;32m     76\u001b[0m \u001b[38;5;66;03m# EXAMPLE OF USAGE\u001b[39;00m\n\u001b[0;32m---> 77\u001b[0m \u001b[43manchorGeneration\u001b[49m\u001b[43m(\u001b[49m\u001b[43mdiff_init\u001b[49m\u001b[43m \u001b[49m\u001b[38;5;241;43m=\u001b[39;49m\u001b[43m \u001b[49m\u001b[38;5;28;43;01mTrue\u001b[39;49;00m\u001b[43m,\u001b[49m\u001b[43m \u001b[49m\u001b[43membed_dim\u001b[49m\u001b[43m \u001b[49m\u001b[38;5;241;43m=\u001b[39;49m\u001b[43m \u001b[49m\u001b[38;5;241;43m1024\u001b[39;49m\u001b[43m)\u001b[49m\n",
      "File \u001b[0;32m~/transformers/src/transformers/models/stldec/anchor_set_generation.py:40\u001b[0m, in \u001b[0;36manchorGeneration\u001b[0;34m(diff_init, embed_dim, n_vars, leaf_prob, cosine_similarity_threshold)\u001b[0m\n\u001b[1;32m     36\u001b[0m anchor_rob_vectors \u001b[38;5;241m=\u001b[39m torch\u001b[38;5;241m.\u001b[39mcat([phi\u001b[38;5;241m.\u001b[39mquantitative(signals, normalize\u001b[38;5;241m=\u001b[39m\u001b[38;5;28;01mTrue\u001b[39;00m)\u001b[38;5;241m.\u001b[39munsqueeze(\u001b[38;5;241m0\u001b[39m) \u001b[38;5;28;01mfor\u001b[39;00m phi \u001b[38;5;129;01min\u001b[39;00m diff_anchor_set], \u001b[38;5;241m0\u001b[39m)\n\u001b[1;32m     38\u001b[0m \u001b[38;5;28;01mwhile\u001b[39;00m \u001b[38;5;28mlen\u001b[39m(diff_anchor_set) \u001b[38;5;241m<\u001b[39m embed_dim:\n\u001b[1;32m     39\u001b[0m     \u001b[38;5;66;03m# sample the 'remaining' formulae to reach the desired number of `embed_dim` formulae:\u001b[39;00m\n\u001b[0;32m---> 40\u001b[0m     candidate_anchors \u001b[38;5;241m=\u001b[39m \u001b[43msampler\u001b[49m\u001b[38;5;241;43m.\u001b[39;49m\u001b[43mbag_sample\u001b[49m\u001b[43m(\u001b[49m\u001b[43membed_dim\u001b[49m\u001b[43m \u001b[49m\u001b[38;5;241;43m-\u001b[39;49m\u001b[43m \u001b[49m\u001b[38;5;28;43mlen\u001b[39;49m\u001b[43m(\u001b[49m\u001b[43mdiff_anchor_set\u001b[49m\u001b[43m)\u001b[49m\u001b[43m,\u001b[49m\u001b[43m \u001b[49m\u001b[43mnvars\u001b[49m\u001b[43m \u001b[49m\u001b[38;5;241;43m=\u001b[39;49m\u001b[43m \u001b[49m\u001b[43mn_vars\u001b[49m\u001b[43m)\u001b[49m\n\u001b[1;32m     42\u001b[0m     \u001b[38;5;66;03m# compute robustness of candidate anchor formulae on the same signals as previous anchor set\u001b[39;00m\n\u001b[1;32m     43\u001b[0m     candidate_robs \u001b[38;5;241m=\u001b[39m torch\u001b[38;5;241m.\u001b[39mcat([phi\u001b[38;5;241m.\u001b[39mquantitative(signals, normalize\u001b[38;5;241m=\u001b[39m\u001b[38;5;28;01mTrue\u001b[39;00m)\u001b[38;5;241m.\u001b[39munsqueeze(\u001b[38;5;241m0\u001b[39m) \u001b[38;5;28;01mfor\u001b[39;00m phi \u001b[38;5;129;01min\u001b[39;00m candidate_anchors], \u001b[38;5;241m0\u001b[39m)\n",
      "File \u001b[0;32m~/transformers/src/transformers/models/stldec/phis_generator.py:91\u001b[0m, in \u001b[0;36mStlGenerator.bag_sample\u001b[0;34m(self, bag_size, nvars)\u001b[0m\n\u001b[1;32m     89\u001b[0m formulae \u001b[38;5;241m=\u001b[39m []\n\u001b[1;32m     90\u001b[0m \u001b[38;5;28;01mfor\u001b[39;00m _ \u001b[38;5;129;01min\u001b[39;00m \u001b[38;5;28mrange\u001b[39m(bag_size):\n\u001b[0;32m---> 91\u001b[0m     phi \u001b[38;5;241m=\u001b[39m \u001b[38;5;28;43mself\u001b[39;49m\u001b[38;5;241;43m.\u001b[39;49m\u001b[43msample\u001b[49m\u001b[43m(\u001b[49m\u001b[43mnvars\u001b[49m\u001b[43m)\u001b[49m\n\u001b[1;32m     92\u001b[0m     formulae\u001b[38;5;241m.\u001b[39mappend(phi)\n\u001b[1;32m     93\u001b[0m \u001b[38;5;28;01mreturn\u001b[39;00m formulae\n",
      "File \u001b[0;32m~/transformers/src/transformers/models/stldec/phis_generator.py:71\u001b[0m, in \u001b[0;36mStlGenerator.sample\u001b[0;34m(self, nvars)\u001b[0m\n\u001b[1;32m     56\u001b[0m \u001b[38;5;28;01mdef\u001b[39;00m \u001b[38;5;21msample\u001b[39m(\u001b[38;5;28mself\u001b[39m, nvars):\n\u001b[1;32m     57\u001b[0m \u001b[38;5;250m    \u001b[39m\u001b[38;5;124;03m\"\"\"\u001b[39;00m\n\u001b[1;32m     58\u001b[0m \u001b[38;5;124;03m    Samples a random formula with distribution defined in class instance parameters\u001b[39;00m\n\u001b[1;32m     59\u001b[0m \n\u001b[0;32m   (...)\u001b[0m\n\u001b[1;32m     69\u001b[0m \n\u001b[1;32m     70\u001b[0m \u001b[38;5;124;03m    \"\"\"\u001b[39;00m\n\u001b[0;32m---> 71\u001b[0m     \u001b[38;5;28;01mreturn\u001b[39;00m \u001b[38;5;28;43mself\u001b[39;49m\u001b[38;5;241;43m.\u001b[39;49m\u001b[43m_sample_internal_node\u001b[49m\u001b[43m(\u001b[49m\u001b[43mnvars\u001b[49m\u001b[43m)\u001b[49m\n",
      "File \u001b[0;32m~/transformers/src/transformers/models/stldec/phis_generator.py:103\u001b[0m, in \u001b[0;36mStlGenerator._sample_internal_node\u001b[0;34m(self, nvars)\u001b[0m\n\u001b[1;32m    101\u001b[0m \u001b[38;5;28;01mwhile\u001b[39;00m \u001b[38;5;28;01mTrue\u001b[39;00m:\n\u001b[1;32m    102\u001b[0m     \u001b[38;5;28;01mif\u001b[39;00m nodetype \u001b[38;5;241m==\u001b[39m \u001b[38;5;124m\"\u001b[39m\u001b[38;5;124mnot\u001b[39m\u001b[38;5;124m\"\u001b[39m:\n\u001b[0;32m--> 103\u001b[0m         n \u001b[38;5;241m=\u001b[39m \u001b[38;5;28;43mself\u001b[39;49m\u001b[38;5;241;43m.\u001b[39;49m\u001b[43m_sample_node\u001b[49m\u001b[43m(\u001b[49m\u001b[43mnvars\u001b[49m\u001b[43m)\u001b[49m\n\u001b[1;32m    104\u001b[0m         node \u001b[38;5;241m=\u001b[39m stl\u001b[38;5;241m.\u001b[39mNot(n)\n\u001b[1;32m    105\u001b[0m     \u001b[38;5;28;01melif\u001b[39;00m nodetype \u001b[38;5;241m==\u001b[39m \u001b[38;5;124m\"\u001b[39m\u001b[38;5;124mand\u001b[39m\u001b[38;5;124m\"\u001b[39m:\n",
      "File \u001b[0;32m~/transformers/src/transformers/models/stldec/phis_generator.py:142\u001b[0m, in \u001b[0;36mStlGenerator._sample_node\u001b[0;34m(self, nvars)\u001b[0m\n\u001b[1;32m    140\u001b[0m     \u001b[38;5;28;01mreturn\u001b[39;00m stl\u001b[38;5;241m.\u001b[39mAtom(var, thr, lte)\n\u001b[1;32m    141\u001b[0m \u001b[38;5;28;01melse\u001b[39;00m:\n\u001b[0;32m--> 142\u001b[0m     \u001b[38;5;28;01mreturn\u001b[39;00m \u001b[38;5;28;43mself\u001b[39;49m\u001b[38;5;241;43m.\u001b[39;49m\u001b[43m_sample_internalnode\u001b[49m(nvars)\n",
      "\u001b[0;31mAttributeError\u001b[0m: 'StlGenerator' object has no attribute '_sample_internalnode'"
     ]
    }
   ],
   "source": [
    "from encoder import STLEncoder"
   ]
  },
  {
   "cell_type": "code",
   "execution_count": null,
   "metadata": {},
   "outputs": [],
   "source": [
    "formulae_to_embed = [\"always ( eventually[6,20] ( x_1 >= -0.7636 ) )\"]\n",
    "encoder = STLEncoder(embed_dim=1024, anchor_filename='anchor_set_1024_dim.pickle')"
   ]
  },
  {
   "cell_type": "code",
   "execution_count": null,
   "metadata": {},
   "outputs": [],
   "source": []
  }
 ],
 "metadata": {
  "kernelspec": {
   "display_name": "stdenv",
   "language": "python",
   "name": "python3"
  },
  "language_info": {
   "codemirror_mode": {
    "name": "ipython",
    "version": 3
   },
   "file_extension": ".py",
   "mimetype": "text/x-python",
   "name": "python",
   "nbconvert_exporter": "python",
   "pygments_lexer": "ipython3",
   "version": "3.11.11"
  }
 },
 "nbformat": 4,
 "nbformat_minor": 2
}
