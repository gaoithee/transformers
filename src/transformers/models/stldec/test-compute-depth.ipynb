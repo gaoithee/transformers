{
 "cells": [
  {
   "cell_type": "code",
   "execution_count": 2,
   "metadata": {},
   "outputs": [],
   "source": [
    "import networkx as nx\n",
    "import stl\n",
    "from utils import from_string_to_formula, load_pickle, dump_pickle\n",
    "import numpy as np\n",
    "import pandas as pd\n",
    "import phis_generator_depth "
   ]
  },
  {
   "cell_type": "code",
   "execution_count": 3,
   "metadata": {},
   "outputs": [],
   "source": [
    "\n",
    "def get_name_given_type(formula):\n",
    "    \"\"\"\n",
    "    Returns the type of node (as a string) of the top node of the formula/sub-formula\n",
    "    \"\"\"\n",
    "    name_dict = {stl.And: 'and', stl.Or: 'or', stl.Not: 'not', stl.Eventually: 'F', stl.Globally: 'G', stl.Until: 'U',\n",
    "                 stl.Atom: 'x'}\n",
    "    return name_dict[type(formula)]\n",
    "\n",
    "\n",
    "def get_id(child_name, name, label_dict, idx):\n",
    "    \"\"\"\n",
    "    Get unique identifier for a node\n",
    "    \"\"\"\n",
    "    while child_name in label_dict.keys():  # if the name is already present\n",
    "        idx += 1\n",
    "        child_name = name + \"(\" + str(idx) + \")\"\n",
    "    return child_name, idx                  # returns both the child name and the identifier\n",
    "\n",
    "\n",
    "def get_temporal_list(temporal_node):\n",
    "    \"\"\"\n",
    "    Returns the features vector for temporal nodes (the two bounds of the temporal interval)\n",
    "    Variant and num_arg modify the length of the list to return (3, 4 or 5)\n",
    "    \"\"\"\n",
    "    left = float(temporal_node.left_time_bound) if temporal_node.unbound is False else 0.\n",
    "    right = float(temporal_node.right_time_bound) if (temporal_node.unbound is False and\n",
    "                                                      temporal_node.right_unbound is False) else -1.\n",
    "    vector_l = [left, right, 0.]      # third slot for sign and fourth for threshold        # add another slot for argument number\n",
    "    return vector_l\n",
    "\n",
    "\n",
    "def add_internal_child(current_child, current_idx, label_dict):\n",
    "    child_name = get_name_given_type(current_child) + '(' + str(current_idx) + ')'\n",
    "    child_name, current_idx = get_id(child_name, get_name_given_type(current_child), label_dict, current_idx)\n",
    "    return child_name, current_idx\n",
    "\n",
    "\n",
    "def add_leaf_child(node, name, label_dict, idx):\n",
    "    \"\"\"\n",
    "    Add the edges and update the label_dictionary and the identifier count for a leaf node (variable)\n",
    "    variant = ['original', 'threshold-sign', 'all-in-var']\n",
    "    shared_var = [True, False] denotes if shared variables for all the DAG or single variables (tree-like)\n",
    "    num_arg = [True, False] if true argument number is one-hot encoded in the feature vector\n",
    "    until_right is a flag to detect when the argument number encoding should be 1\n",
    "    \"\"\"\n",
    "    new_e = []\n",
    "    label_dict[name] = [0., 0., 0.]     # te\n",
    "    atom_idx =str(node).split()[0] +  '(' + str(idx) + ')'\n",
    "    # different names for the same variables (e.g. x_1(5), x_1(8))\n",
    "    idx += 1\n",
    "    if atom_idx not in label_dict.keys():\n",
    "        label_dict[atom_idx] = [0., 0., 0.]\n",
    "\n",
    "    if str(node).split()[1] == '<=':\n",
    "        label_dict[name] = [0., 0., round(node.threshold, 4)]\n",
    "    else:\n",
    "        label_dict[name] = [0., 0., round(node.threshold, 4)]\n",
    "    new_e.append([name, atom_idx])\n",
    "    return new_e, label_dict, idx+1\n",
    "\n",
    "\n",
    "def traverse_formula(formula, idx, label_dict):\n",
    "    current_node = formula\n",
    "    edges = []\n",
    "    if type(current_node) is not stl.Atom:\n",
    "        current_name = get_name_given_type(current_node) + '(' + str(idx) + ')'\n",
    "        if (type(current_node) is stl.And) or (type(current_node) is stl.Or) or (type(current_node) is stl.Not):\n",
    "            label_dict[current_name] = [0., 0., 0. ] # temp_left, temp_right, threshold\n",
    "        else:\n",
    "            label_dict[current_name] = get_temporal_list(current_node)\n",
    "        if (type(current_node) is stl.And) or (type(current_node) is stl.Or) or (type(current_node) is stl.Until):\n",
    "            left_child_name, current_idx = add_internal_child(current_node.left_child, idx + 1, label_dict)\n",
    "            edges.append([current_name, left_child_name])\n",
    "            if type(current_node.left_child) is stl.Atom:\n",
    "                e, d, current_idx = add_leaf_child(current_node.left_child, left_child_name, label_dict, current_idx+1)\n",
    "                edges += e\n",
    "                label_dict.update(d)\n",
    "            e, d = traverse_formula(current_node.left_child, current_idx, label_dict)\n",
    "            edges += e\n",
    "            label_dict.update(d)\n",
    "            right_child_name, current_idx = add_internal_child(current_node.right_child, current_idx + 1, label_dict)\n",
    "            edges.append([current_name, right_child_name])\n",
    "            if type(current_node.right_child) is stl.Atom:\n",
    "                e, d, current_idx = add_leaf_child(current_node.right_child, right_child_name, label_dict,\n",
    "                                                   current_idx+1)\n",
    "                edges += e\n",
    "                label_dict.update(d)\n",
    "            e, d = traverse_formula(current_node.right_child, current_idx, label_dict)\n",
    "            edges += e\n",
    "            label_dict.update(d)\n",
    "        else:\n",
    "            # eventually, globally, not\n",
    "            child_name, current_idx = add_internal_child(current_node.child, idx + 1, label_dict)\n",
    "            edges.append([current_name, child_name])\n",
    "            if type(current_node.child) is stl.Atom:\n",
    "                e, d, current_idx = add_leaf_child(current_node.child, child_name, label_dict, current_idx+1)\n",
    "                edges += e\n",
    "                label_dict.update(d)\n",
    "            e, d = traverse_formula(current_node.child, current_idx, label_dict)\n",
    "            edges += e\n",
    "            label_dict.update(d)\n",
    "    return edges, label_dict\n",
    "\n",
    "\n",
    "def build_dag(formula):\n",
    "    edges, label_dict = traverse_formula(formula, 0, {})\n",
    "    graph = nx.from_edgelist(edges, create_using=nx.DiGraph)\n",
    "    assert(nx.is_directed_acyclic_graph(graph))\n",
    "    return graph, label_dict\n",
    "\n",
    "\n",
    "def get_depth(formula):\n",
    "    phi_g = build_dag(formula)[0]\n",
    "    return len(nx.dag_longest_path(phi_g)) - 1"
   ]
  },
  {
   "cell_type": "code",
   "execution_count": 47,
   "metadata": {},
   "outputs": [
    {
     "data": {
      "text/html": [
       "<div>\n",
       "<style scoped>\n",
       "    .dataframe tbody tr th:only-of-type {\n",
       "        vertical-align: middle;\n",
       "    }\n",
       "\n",
       "    .dataframe tbody tr th {\n",
       "        vertical-align: top;\n",
       "    }\n",
       "\n",
       "    .dataframe thead th {\n",
       "        text-align: right;\n",
       "    }\n",
       "</style>\n",
       "<table border=\"1\" class=\"dataframe\">\n",
       "  <thead>\n",
       "    <tr style=\"text-align: right;\">\n",
       "      <th></th>\n",
       "      <th>Unnamed: 0.1</th>\n",
       "      <th>Unnamed: 0</th>\n",
       "      <th>Gold Formula</th>\n",
       "      <th>Generated Formula</th>\n",
       "      <th>Embedding Gold Formula</th>\n",
       "      <th>Embedding Generated Formula</th>\n",
       "    </tr>\n",
       "  </thead>\n",
       "  <tbody>\n",
       "    <tr>\n",
       "      <th>0</th>\n",
       "      <td>0</td>\n",
       "      <td>0</td>\n",
       "      <td>always[10,inf] ( x_0 &gt;= 0.9475 )</td>\n",
       "      <td>( x_0 &gt;= 0.888 until[17,21] x_0 &gt;= 0.888 )</td>\n",
       "      <td>[0.006420445162802935, 0.03939420357346535, 0....</td>\n",
       "      <td>[0.009619303978979588, 0.060488030314445496, 0...</td>\n",
       "    </tr>\n",
       "    <tr>\n",
       "      <th>1</th>\n",
       "      <td>1</td>\n",
       "      <td>1</td>\n",
       "      <td>not ( always[14,19] ( eventually[7,inf] ( x_0 ...</td>\n",
       "      <td>always[18,21] ( x_0 &gt;= -0.8881 )</td>\n",
       "      <td>[0.4136229455471039, 0.7028579711914062, 0.000...</td>\n",
       "      <td>[0.5880542397499084, 0.721400797367096, 0.0004...</td>\n",
       "    </tr>\n",
       "    <tr>\n",
       "      <th>2</th>\n",
       "      <td>2</td>\n",
       "      <td>2</td>\n",
       "      <td>( x_2 &lt;= -0.2641 until[6,9] x_1 &lt;= 0.7181 )</td>\n",
       "      <td>( x_2 &lt;= -0.0401 and x_2 &lt;= -0.181 )</td>\n",
       "      <td>[0.001527473097667098, 0.0028579006902873516, ...</td>\n",
       "      <td>[0.003919020760804415, 0.004877804778516293, 0...</td>\n",
       "    </tr>\n",
       "    <tr>\n",
       "      <th>3</th>\n",
       "      <td>3</td>\n",
       "      <td>3</td>\n",
       "      <td>not ( x_0 &lt;= 0.2762 )</td>\n",
       "      <td>not ( x_0 &lt;= 0.0444 )</td>\n",
       "      <td>[0.07814296334981918, 0.36237552762031555, 0.0...</td>\n",
       "      <td>[0.17230193316936493, 0.6238083839416504, 0.00...</td>\n",
       "    </tr>\n",
       "    <tr>\n",
       "      <th>4</th>\n",
       "      <td>4</td>\n",
       "      <td>4</td>\n",
       "      <td>eventually[6,15] ( x_2 &lt;= 0.54 )</td>\n",
       "      <td>always[17,21] ( x_2 &lt;= 0.8881 )</td>\n",
       "      <td>[0.029973845928907394, 0.015523881651461124, 0...</td>\n",
       "      <td>[0.04811500012874603, 0.02031852677464485, 0.0...</td>\n",
       "    </tr>\n",
       "  </tbody>\n",
       "</table>\n",
       "</div>"
      ],
      "text/plain": [
       "   Unnamed: 0.1  Unnamed: 0  \\\n",
       "0             0           0   \n",
       "1             1           1   \n",
       "2             2           2   \n",
       "3             3           3   \n",
       "4             4           4   \n",
       "\n",
       "                                        Gold Formula  \\\n",
       "0                   always[10,inf] ( x_0 >= 0.9475 )   \n",
       "1  not ( always[14,19] ( eventually[7,inf] ( x_0 ...   \n",
       "2        ( x_2 <= -0.2641 until[6,9] x_1 <= 0.7181 )   \n",
       "3                              not ( x_0 <= 0.2762 )   \n",
       "4                   eventually[6,15] ( x_2 <= 0.54 )   \n",
       "\n",
       "                            Generated Formula  \\\n",
       "0  ( x_0 >= 0.888 until[17,21] x_0 >= 0.888 )   \n",
       "1            always[18,21] ( x_0 >= -0.8881 )   \n",
       "2        ( x_2 <= -0.0401 and x_2 <= -0.181 )   \n",
       "3                       not ( x_0 <= 0.0444 )   \n",
       "4             always[17,21] ( x_2 <= 0.8881 )   \n",
       "\n",
       "                              Embedding Gold Formula  \\\n",
       "0  [0.006420445162802935, 0.03939420357346535, 0....   \n",
       "1  [0.4136229455471039, 0.7028579711914062, 0.000...   \n",
       "2  [0.001527473097667098, 0.0028579006902873516, ...   \n",
       "3  [0.07814296334981918, 0.36237552762031555, 0.0...   \n",
       "4  [0.029973845928907394, 0.015523881651461124, 0...   \n",
       "\n",
       "                         Embedding Generated Formula  \n",
       "0  [0.009619303978979588, 0.060488030314445496, 0...  \n",
       "1  [0.5880542397499084, 0.721400797367096, 0.0004...  \n",
       "2  [0.003919020760804415, 0.004877804778516293, 0...  \n",
       "3  [0.17230193316936493, 0.6238083839416504, 0.00...  \n",
       "4  [0.04811500012874603, 0.02031852677464485, 0.0...  "
      ]
     },
     "execution_count": 47,
     "metadata": {},
     "output_type": "execute_result"
    }
   ],
   "source": [
    "df = pd.read_csv('formulae_mining/step_7200_formulae.csv')\n",
    "df.head()"
   ]
  },
  {
   "cell_type": "code",
   "execution_count": 48,
   "metadata": {},
   "outputs": [
    {
     "data": {
      "text/plain": [
       "'always[10,inf] ( x_0 >= 0.9475 )'"
      ]
     },
     "execution_count": 48,
     "metadata": {},
     "output_type": "execute_result"
    }
   ],
   "source": [
    "df['Gold Formula'][0]"
   ]
  },
  {
   "cell_type": "code",
   "execution_count": 53,
   "metadata": {},
   "outputs": [
    {
     "data": {
      "text/plain": [
       "<stl.Eventually at 0x7fd9f66c8310>"
      ]
     },
     "execution_count": 53,
     "metadata": {},
     "output_type": "execute_result"
    }
   ],
   "source": [
    "from_string_to_formula(df['Gold Formula'][50])"
   ]
  },
  {
   "cell_type": "code",
   "execution_count": 54,
   "metadata": {},
   "outputs": [
    {
     "name": "stdout",
     "output_type": "stream",
     "text": [
      "2\n"
     ]
    }
   ],
   "source": [
    "test_formula = from_string_to_formula(df['Gold Formula'][0])\n",
    "print(get_depth(test_formula))"
   ]
  },
  {
   "cell_type": "code",
   "execution_count": 55,
   "metadata": {},
   "outputs": [],
   "source": [
    "def mean_formulae_depth(dataset):\n",
    "    formulae_depths = []\n",
    "    for idx in range(len(dataset)):\n",
    "        object_formula = from_string_to_formula(df['Gold Formula'][idx])\n",
    "        formulae_depths.append(get_depth(object_formula))\n",
    "\n",
    "    return np.mean(formulae_depths)"
   ]
  },
  {
   "cell_type": "code",
   "execution_count": 56,
   "metadata": {},
   "outputs": [
    {
     "data": {
      "text/plain": [
       "4.75"
      ]
     },
     "execution_count": 56,
     "metadata": {},
     "output_type": "execute_result"
    }
   ],
   "source": [
    "mean_formulae_depth(df)"
   ]
  },
  {
   "cell_type": "code",
   "execution_count": 41,
   "metadata": {},
   "outputs": [],
   "source": [
    "stl_gen = StlGenerator(max_depth=5)"
   ]
  },
  {
   "cell_type": "code",
   "execution_count": 42,
   "metadata": {},
   "outputs": [],
   "source": [
    "formulae = []\n",
    "for i in range(100):\n",
    "    formulae.append(get_depth(stl_gen.sample(3)))"
   ]
  },
  {
   "cell_type": "code",
   "execution_count": 43,
   "metadata": {},
   "outputs": [
    {
     "data": {
      "text/plain": [
       "4.68"
      ]
     },
     "execution_count": 43,
     "metadata": {},
     "output_type": "execute_result"
    }
   ],
   "source": [
    "np.mean(formulae)"
   ]
  },
  {
   "cell_type": "code",
   "execution_count": 44,
   "metadata": {},
   "outputs": [
    {
     "data": {
      "text/plain": [
       "6"
      ]
     },
     "execution_count": 44,
     "metadata": {},
     "output_type": "execute_result"
    }
   ],
   "source": [
    "np.max(formulae)"
   ]
  },
  {
   "cell_type": "code",
   "execution_count": 45,
   "metadata": {},
   "outputs": [
    {
     "data": {
      "text/plain": [
       "2"
      ]
     },
     "execution_count": 45,
     "metadata": {},
     "output_type": "execute_result"
    }
   ],
   "source": [
    "np.min(formulae)"
   ]
  },
  {
   "cell_type": "code",
   "execution_count": null,
   "metadata": {},
   "outputs": [],
   "source": []
  },
  {
   "cell_type": "code",
   "execution_count": null,
   "metadata": {},
   "outputs": [],
   "source": []
  },
  {
   "cell_type": "code",
   "execution_count": 1,
   "metadata": {},
   "outputs": [
    {
     "name": "stderr",
     "output_type": "stream",
     "text": [
      "/home/saracandussio/.conda/envs/stdenv/lib/python3.11/site-packages/tqdm/auto.py:21: TqdmWarning: IProgress not found. Please update jupyter and ipywidgets. See https://ipywidgets.readthedocs.io/en/stable/user_install.html\n",
      "  from .autonotebook import tqdm as notebook_tqdm\n"
     ]
    }
   ],
   "source": [
    "import os\n",
    "import torch\n",
    "from torch.nn.functional import normalize\n",
    "import copy\n",
    "import numpy as np\n",
    "import pandas as pd\n",
    "import stl \n",
    "from encoder import STLEncoder\n",
    "\n",
    "from phis_generator_depth import StlGenerator\n",
    "from traj_measure import BaseMeasure\n",
    "from utils import from_string_to_formula, load_pickle, dump_pickle, get_depth\n",
    "from kernel import StlKernel"
   ]
  },
  {
   "cell_type": "code",
   "execution_count": 6,
   "metadata": {},
   "outputs": [],
   "source": [
    "from handcoded_tokenizer import STLTokenizer\n",
    "tokenizer = STLTokenizer('tokenizer_files/tokenizer.json')"
   ]
  },
  {
   "cell_type": "code",
   "execution_count": 7,
   "metadata": {},
   "outputs": [],
   "source": [
    "def generate_formulae_depth(n_phis, n_vars, depth):\n",
    "\n",
    "    # Helper function to generate and filter formulae\n",
    "    def generate_and_filter(n_phis, n_vars, depth):\n",
    "        sampler = StlGenerator(max_depth=depth, min_depth=depth)\n",
    "        sampled_objs = sampler.bag_sample(bag_size=n_phis, nvars=n_vars)\n",
    "\n",
    "        # convert to string\n",
    "        sampled_objs = list(map(str, sampled_objs))\n",
    "\n",
    "        lengths = []\n",
    "        for obj in sampled_objs:\n",
    "            lengths.append(len(tokenizer.encode(obj)))\n",
    "\n",
    "        # filter sampled_objs where length is less than 500\n",
    "        filtered_objs = [obj for i, obj in enumerate(sampled_objs) if lengths[i] < 500]\n",
    "        return filtered_objs\n",
    "\n",
    "    # Generate initial batch of formulae\n",
    "    formulae = generate_and_filter(n_phis, n_vars, depth)\n",
    "\n",
    "    # If we don't have enough formulae, regenerate until we meet the required number\n",
    "    while len(formulae) < n_phis:\n",
    "        additional_formulae = generate_and_filter(n_phis - len(formulae), n_vars, depth)\n",
    "        formulae.extend(additional_formulae)\n",
    "\n",
    "    # Truncate the list to exactly n_phis formulae if needed\n",
    "    formulae = formulae[:n_phis]\n",
    "\n",
    "    # Create DataFrame with the filtered formulae\n",
    "    df = pd.DataFrame({'Formula': formulae})\n",
    "\n",
    "    return df"
   ]
  },
  {
   "cell_type": "code",
   "execution_count": 13,
   "metadata": {},
   "outputs": [
    {
     "data": {
      "text/html": [
       "<div>\n",
       "<style scoped>\n",
       "    .dataframe tbody tr th:only-of-type {\n",
       "        vertical-align: middle;\n",
       "    }\n",
       "\n",
       "    .dataframe tbody tr th {\n",
       "        vertical-align: top;\n",
       "    }\n",
       "\n",
       "    .dataframe thead th {\n",
       "        text-align: right;\n",
       "    }\n",
       "</style>\n",
       "<table border=\"1\" class=\"dataframe\">\n",
       "  <thead>\n",
       "    <tr style=\"text-align: right;\">\n",
       "      <th></th>\n",
       "      <th>Formula</th>\n",
       "    </tr>\n",
       "  </thead>\n",
       "  <tbody>\n",
       "    <tr>\n",
       "      <th>0</th>\n",
       "      <td>not ( ( not ( eventually[3,12] ( ( always[9,34...</td>\n",
       "    </tr>\n",
       "    <tr>\n",
       "      <th>1</th>\n",
       "      <td>( eventually[0,9] ( not ( not ( ( ( ( always[3...</td>\n",
       "    </tr>\n",
       "  </tbody>\n",
       "</table>\n",
       "</div>"
      ],
      "text/plain": [
       "                                             Formula\n",
       "0  not ( ( not ( eventually[3,12] ( ( always[9,34...\n",
       "1  ( eventually[0,9] ( not ( not ( ( ( ( always[3..."
      ]
     },
     "execution_count": 13,
     "metadata": {},
     "output_type": "execute_result"
    }
   ],
   "source": [
    "generate_formulae_depth(2, 3, 8)"
   ]
  },
  {
   "cell_type": "code",
   "execution_count": 3,
   "metadata": {},
   "outputs": [],
   "source": [
    "test_sampled_collection = []\n",
    "\n",
    "for i in range(len(test_sampled)):\n",
    "    if get_depth(test_sampled[i]) == 4:\n",
    "        test_sampled_collection.append(test_sampled)"
   ]
  },
  {
   "cell_type": "code",
   "execution_count": 4,
   "metadata": {},
   "outputs": [
    {
     "data": {
      "text/plain": [
       "[[<stl.Or at 0x7f79436bd690>,\n",
       "  <stl.Not at 0x7f79436bd790>,\n",
       "  <stl.Until at 0x7f79436bdc90>,\n",
       "  <stl.Not at 0x7f79436bdf50>,\n",
       "  <stl.Globally at 0x7f79436be050>,\n",
       "  <stl.Not at 0x7f79436be290>,\n",
       "  <stl.Or at 0x7f79436be850>,\n",
       "  <stl.Not at 0x7f79436be950>,\n",
       "  <stl.Eventually at 0x7f79436bed10>,\n",
       "  <stl.Globally at 0x7f79436bedd0>],\n",
       " [<stl.Or at 0x7f79436bd690>,\n",
       "  <stl.Not at 0x7f79436bd790>,\n",
       "  <stl.Until at 0x7f79436bdc90>,\n",
       "  <stl.Not at 0x7f79436bdf50>,\n",
       "  <stl.Globally at 0x7f79436be050>,\n",
       "  <stl.Not at 0x7f79436be290>,\n",
       "  <stl.Or at 0x7f79436be850>,\n",
       "  <stl.Not at 0x7f79436be950>,\n",
       "  <stl.Eventually at 0x7f79436bed10>,\n",
       "  <stl.Globally at 0x7f79436bedd0>],\n",
       " [<stl.Or at 0x7f79436bd690>,\n",
       "  <stl.Not at 0x7f79436bd790>,\n",
       "  <stl.Until at 0x7f79436bdc90>,\n",
       "  <stl.Not at 0x7f79436bdf50>,\n",
       "  <stl.Globally at 0x7f79436be050>,\n",
       "  <stl.Not at 0x7f79436be290>,\n",
       "  <stl.Or at 0x7f79436be850>,\n",
       "  <stl.Not at 0x7f79436be950>,\n",
       "  <stl.Eventually at 0x7f79436bed10>,\n",
       "  <stl.Globally at 0x7f79436bedd0>],\n",
       " [<stl.Or at 0x7f79436bd690>,\n",
       "  <stl.Not at 0x7f79436bd790>,\n",
       "  <stl.Until at 0x7f79436bdc90>,\n",
       "  <stl.Not at 0x7f79436bdf50>,\n",
       "  <stl.Globally at 0x7f79436be050>,\n",
       "  <stl.Not at 0x7f79436be290>,\n",
       "  <stl.Or at 0x7f79436be850>,\n",
       "  <stl.Not at 0x7f79436be950>,\n",
       "  <stl.Eventually at 0x7f79436bed10>,\n",
       "  <stl.Globally at 0x7f79436bedd0>],\n",
       " [<stl.Or at 0x7f79436bd690>,\n",
       "  <stl.Not at 0x7f79436bd790>,\n",
       "  <stl.Until at 0x7f79436bdc90>,\n",
       "  <stl.Not at 0x7f79436bdf50>,\n",
       "  <stl.Globally at 0x7f79436be050>,\n",
       "  <stl.Not at 0x7f79436be290>,\n",
       "  <stl.Or at 0x7f79436be850>,\n",
       "  <stl.Not at 0x7f79436be950>,\n",
       "  <stl.Eventually at 0x7f79436bed10>,\n",
       "  <stl.Globally at 0x7f79436bedd0>],\n",
       " [<stl.Or at 0x7f79436bd690>,\n",
       "  <stl.Not at 0x7f79436bd790>,\n",
       "  <stl.Until at 0x7f79436bdc90>,\n",
       "  <stl.Not at 0x7f79436bdf50>,\n",
       "  <stl.Globally at 0x7f79436be050>,\n",
       "  <stl.Not at 0x7f79436be290>,\n",
       "  <stl.Or at 0x7f79436be850>,\n",
       "  <stl.Not at 0x7f79436be950>,\n",
       "  <stl.Eventually at 0x7f79436bed10>,\n",
       "  <stl.Globally at 0x7f79436bedd0>],\n",
       " [<stl.Or at 0x7f79436bd690>,\n",
       "  <stl.Not at 0x7f79436bd790>,\n",
       "  <stl.Until at 0x7f79436bdc90>,\n",
       "  <stl.Not at 0x7f79436bdf50>,\n",
       "  <stl.Globally at 0x7f79436be050>,\n",
       "  <stl.Not at 0x7f79436be290>,\n",
       "  <stl.Or at 0x7f79436be850>,\n",
       "  <stl.Not at 0x7f79436be950>,\n",
       "  <stl.Eventually at 0x7f79436bed10>,\n",
       "  <stl.Globally at 0x7f79436bedd0>],\n",
       " [<stl.Or at 0x7f79436bd690>,\n",
       "  <stl.Not at 0x7f79436bd790>,\n",
       "  <stl.Until at 0x7f79436bdc90>,\n",
       "  <stl.Not at 0x7f79436bdf50>,\n",
       "  <stl.Globally at 0x7f79436be050>,\n",
       "  <stl.Not at 0x7f79436be290>,\n",
       "  <stl.Or at 0x7f79436be850>,\n",
       "  <stl.Not at 0x7f79436be950>,\n",
       "  <stl.Eventually at 0x7f79436bed10>,\n",
       "  <stl.Globally at 0x7f79436bedd0>],\n",
       " [<stl.Or at 0x7f79436bd690>,\n",
       "  <stl.Not at 0x7f79436bd790>,\n",
       "  <stl.Until at 0x7f79436bdc90>,\n",
       "  <stl.Not at 0x7f79436bdf50>,\n",
       "  <stl.Globally at 0x7f79436be050>,\n",
       "  <stl.Not at 0x7f79436be290>,\n",
       "  <stl.Or at 0x7f79436be850>,\n",
       "  <stl.Not at 0x7f79436be950>,\n",
       "  <stl.Eventually at 0x7f79436bed10>,\n",
       "  <stl.Globally at 0x7f79436bedd0>],\n",
       " [<stl.Or at 0x7f79436bd690>,\n",
       "  <stl.Not at 0x7f79436bd790>,\n",
       "  <stl.Until at 0x7f79436bdc90>,\n",
       "  <stl.Not at 0x7f79436bdf50>,\n",
       "  <stl.Globally at 0x7f79436be050>,\n",
       "  <stl.Not at 0x7f79436be290>,\n",
       "  <stl.Or at 0x7f79436be850>,\n",
       "  <stl.Not at 0x7f79436be950>,\n",
       "  <stl.Eventually at 0x7f79436bed10>,\n",
       "  <stl.Globally at 0x7f79436bedd0>]]"
      ]
     },
     "execution_count": 4,
     "metadata": {},
     "output_type": "execute_result"
    }
   ],
   "source": [
    "test_sampled_collection"
   ]
  },
  {
   "cell_type": "code",
   "execution_count": 5,
   "metadata": {},
   "outputs": [
    {
     "data": {
      "text/plain": [
       "['( ( ( x_1 >= 0.1802 or x_2 >= -0.9572 ) and eventually[11,15] ( x_2 >= 0.3763 ) ) or ( not ( x_1 <= -0.7689 ) until[4,12] ( x_0 >= 1.1819 until[34,36] x_2 >= -0.302 ) ) )',\n",
       " 'not ( always[10,12] ( ( x_0 >= 0.2989 or x_1 >= -0.3329 ) ) )',\n",
       " '( not ( eventually ( x_0 <= -0.6442 ) ) until[28,31] ( always[28,33] ( x_0 >= -0.0131 ) and ( x_1 >= -0.1231 and x_0 >= 0.3661 ) ) )',\n",
       " 'not ( ( ( x_2 <= 0.3782 and x_1 <= 1.4215 ) or not ( x_2 <= -0.4135 ) ) )',\n",
       " 'always[34,36] ( always[17,22] ( ( x_0 <= -0.6427 and x_2 >= 0.4317 ) ) )',\n",
       " 'not ( eventually[31,inf] ( not ( x_2 >= 0.5838 ) ) )',\n",
       " '( ( ( x_1 <= -0.0126 and x_1 <= 0.0025 ) or always[21,27] ( x_1 <= 0.2289 ) ) or ( ( x_2 <= 2.2102 and x_0 >= -2.7682 ) and eventually[21,35] ( x_1 >= -0.3583 ) ) )',\n",
       " 'not ( always[27,29] ( ( x_1 <= 0.4385 or x_0 <= 1.1103 ) ) )',\n",
       " 'eventually[25,31] ( ( always[27,34] ( x_2 <= -0.0535 ) and ( x_2 >= 0.2818 and x_2 >= -0.5559 ) ) )',\n",
       " 'always[30,32] ( always[3,12] ( not ( x_0 >= -1.7098 ) ) )']"
      ]
     },
     "execution_count": 5,
     "metadata": {},
     "output_type": "execute_result"
    }
   ],
   "source": [
    "test_sampled = list(map(str, test_sampled))\n",
    "test_sampled"
   ]
  },
  {
   "cell_type": "code",
   "execution_count": 14,
   "metadata": {},
   "outputs": [],
   "source": [
    "encoder = encoder.STLEncoder(embed_dim = 1024, anchor_filename = \"anchor_set_1024_dim.pickle\")"
   ]
  },
  {
   "cell_type": "code",
   "execution_count": 15,
   "metadata": {},
   "outputs": [],
   "source": [
    "def generate_formulae_depth(n_phis, n_vars, depth):\n",
    "\n",
    "    # generate formulae of depth equal to (depth + 1) \n",
    "    sampler = StlGenerator(max_depth = depth, min_depth = depth)\n",
    "    sampled_objs = sampler.bag_sample(bag_size = n_phis, nvars = n_vars)\n",
    "\n",
    "    # check on the formulae depths\n",
    "    for i in range(len(sampled_objs)):\n",
    "        assert get_depth(sampled_objs[i]) == (depth+1)\n",
    "\n",
    "    # converted into strings\n",
    "    sampled_formulae = list(map(str, sampled_objs))\n",
    "    encoded_formulae = encoder.compute_embeddings(sampled_formulae)\n",
    "\n",
    "    df = pd.DataFrame({'Formula': sampled_formulae, 'Embedding': encoded_formulae})\n",
    "    \n",
    "    return df"
   ]
  },
  {
   "cell_type": "code",
   "execution_count": 17,
   "metadata": {},
   "outputs": [
    {
     "ename": "KeyboardInterrupt",
     "evalue": "",
     "output_type": "error",
     "traceback": [
      "\u001b[0;31m---------------------------------------------------------------------------\u001b[0m",
      "\u001b[0;31mKeyboardInterrupt\u001b[0m                         Traceback (most recent call last)",
      "Cell \u001b[0;32mIn[17], line 1\u001b[0m\n\u001b[0;32m----> 1\u001b[0m \u001b[43mgenerate_formulae_depth\u001b[49m\u001b[43m(\u001b[49m\u001b[38;5;241;43m2\u001b[39;49m\u001b[43m,\u001b[49m\u001b[43m \u001b[49m\u001b[38;5;241;43m3\u001b[39;49m\u001b[43m,\u001b[49m\u001b[43m \u001b[49m\u001b[38;5;241;43m3\u001b[39;49m\u001b[43m)\u001b[49m\n",
      "Cell \u001b[0;32mIn[15], line 13\u001b[0m, in \u001b[0;36mgenerate_formulae_depth\u001b[0;34m(n_phis, n_vars, depth)\u001b[0m\n\u001b[1;32m     11\u001b[0m \u001b[38;5;66;03m# converted into strings\u001b[39;00m\n\u001b[1;32m     12\u001b[0m sampled_formulae \u001b[38;5;241m=\u001b[39m \u001b[38;5;28mlist\u001b[39m(\u001b[38;5;28mmap\u001b[39m(\u001b[38;5;28mstr\u001b[39m, sampled_objs))\n\u001b[0;32m---> 13\u001b[0m encoded_formulae \u001b[38;5;241m=\u001b[39m \u001b[43mencoder\u001b[49m\u001b[38;5;241;43m.\u001b[39;49m\u001b[43mcompute_embeddings\u001b[49m\u001b[43m(\u001b[49m\u001b[43msampled_formulae\u001b[49m\u001b[43m)\u001b[49m\n\u001b[1;32m     15\u001b[0m df \u001b[38;5;241m=\u001b[39m pd\u001b[38;5;241m.\u001b[39mDataFrame({\u001b[38;5;124m'\u001b[39m\u001b[38;5;124mFormula\u001b[39m\u001b[38;5;124m'\u001b[39m: sampled_formulae, \u001b[38;5;124m'\u001b[39m\u001b[38;5;124mEmbedding\u001b[39m\u001b[38;5;124m'\u001b[39m: encoded_formulae})\n\u001b[1;32m     17\u001b[0m \u001b[38;5;28;01mreturn\u001b[39;00m df\n",
      "File \u001b[0;32m~/transformers/src/transformers/models/stldec/encoder.py:42\u001b[0m, in \u001b[0;36mSTLEncoder.compute_embeddings\u001b[0;34m(self, formula)\u001b[0m\n\u001b[1;32m     40\u001b[0m \u001b[38;5;28;01mdef\u001b[39;00m \u001b[38;5;21mcompute_embeddings\u001b[39m(\u001b[38;5;28mself\u001b[39m, formula: List[\u001b[38;5;28mstr\u001b[39m]):\n\u001b[1;32m     41\u001b[0m     converted_formula \u001b[38;5;241m=\u001b[39m \u001b[38;5;28mlist\u001b[39m(\u001b[38;5;28mmap\u001b[39m(from_string_to_formula, formula))\n\u001b[0;32m---> 42\u001b[0m     \u001b[38;5;28;01mreturn\u001b[39;00m \u001b[38;5;28;43mself\u001b[39;49m\u001b[38;5;241;43m.\u001b[39;49m\u001b[43mkernel\u001b[49m\u001b[38;5;241;43m.\u001b[39;49m\u001b[43mcompute_bag_bag\u001b[49m\u001b[43m(\u001b[49m\u001b[43mconverted_formula\u001b[49m\u001b[43m,\u001b[49m\u001b[43m \u001b[49m\u001b[38;5;28;43mself\u001b[39;49m\u001b[38;5;241;43m.\u001b[39;49m\u001b[43manchor_set\u001b[49m\u001b[43m)\u001b[49m\n",
      "File \u001b[0;32m~/transformers/src/transformers/models/stldec/kernel.py:70\u001b[0m, in \u001b[0;36mStlKernel.compute_bag_bag\u001b[0;34m(self, phis1, phis2, return_robustness)\u001b[0m\n\u001b[1;32m     68\u001b[0m \u001b[38;5;28;01melse\u001b[39;00m:\n\u001b[1;32m     69\u001b[0m     rhos1, selfk1 \u001b[38;5;241m=\u001b[39m \u001b[38;5;28mself\u001b[39m\u001b[38;5;241m.\u001b[39m_compute_robustness_no_time(phis1)\n\u001b[0;32m---> 70\u001b[0m     rhos2, selfk2 \u001b[38;5;241m=\u001b[39m \u001b[38;5;28;43mself\u001b[39;49m\u001b[38;5;241;43m.\u001b[39;49m\u001b[43m_compute_robustness_no_time\u001b[49m\u001b[43m(\u001b[49m\u001b[43mphis2\u001b[49m\u001b[43m)\u001b[49m\n\u001b[1;32m     71\u001b[0m     len1, len2 \u001b[38;5;241m=\u001b[39m [\u001b[38;5;28;01mNone\u001b[39;00m, \u001b[38;5;28;01mNone\u001b[39;00m]\n\u001b[1;32m     72\u001b[0m     kernel_matrix \u001b[38;5;241m=\u001b[39m \u001b[38;5;28mself\u001b[39m\u001b[38;5;241m.\u001b[39m_compute_kernel_no_time(rhos1, rhos2, selfk1, selfk2)\n",
      "File \u001b[0;32m~/transformers/src/transformers/models/stldec/kernel.py:129\u001b[0m, in \u001b[0;36mStlKernel._compute_robustness_no_time\u001b[0;34m(self, phis)\u001b[0m\n\u001b[1;32m    127\u001b[0m     rho[rho \u001b[38;5;241m==\u001b[39m \u001b[38;5;241m0.0\u001b[39m] \u001b[38;5;241m=\u001b[39m \u001b[38;5;241m-\u001b[39m\u001b[38;5;241m1.0\u001b[39m\n\u001b[1;32m    128\u001b[0m \u001b[38;5;28;01melse\u001b[39;00m:\n\u001b[0;32m--> 129\u001b[0m     rho \u001b[38;5;241m=\u001b[39m \u001b[43mphi\u001b[49m\u001b[38;5;241;43m.\u001b[39;49m\u001b[43mquantitative\u001b[49m\u001b[43m(\u001b[49m\u001b[38;5;28;43mself\u001b[39;49m\u001b[38;5;241;43m.\u001b[39;49m\u001b[43msignals\u001b[49m\u001b[43m,\u001b[49m\u001b[43m \u001b[49m\u001b[43mevaluate_at_all_times\u001b[49m\u001b[38;5;241;43m=\u001b[39;49m\u001b[38;5;28;43;01mFalse\u001b[39;49;00m\u001b[43m)\u001b[49m\n\u001b[1;32m    130\u001b[0m self_kernels[i] \u001b[38;5;241m=\u001b[39m rho\u001b[38;5;241m.\u001b[39mdot(rho) \u001b[38;5;241m/\u001b[39m n\n\u001b[1;32m    131\u001b[0m rhos[i, :] \u001b[38;5;241m=\u001b[39m rho\n",
      "File \u001b[0;32m~/transformers/src/transformers/models/stldec/stl.py:88\u001b[0m, in \u001b[0;36mNode.quantitative\u001b[0;34m(self, x, normalize, evaluate_at_all_times)\u001b[0m\n\u001b[1;32m     63\u001b[0m \u001b[38;5;28;01mdef\u001b[39;00m \u001b[38;5;21mquantitative\u001b[39m(\n\u001b[1;32m     64\u001b[0m     \u001b[38;5;28mself\u001b[39m,\n\u001b[1;32m     65\u001b[0m     x: Tensor,\n\u001b[1;32m     66\u001b[0m     normalize: \u001b[38;5;28mbool\u001b[39m \u001b[38;5;241m=\u001b[39m \u001b[38;5;28;01mFalse\u001b[39;00m,\n\u001b[1;32m     67\u001b[0m     evaluate_at_all_times: \u001b[38;5;28mbool\u001b[39m \u001b[38;5;241m=\u001b[39m \u001b[38;5;28;01mFalse\u001b[39;00m,\n\u001b[1;32m     68\u001b[0m ) \u001b[38;5;241m-\u001b[39m\u001b[38;5;241m>\u001b[39m Tensor:\n\u001b[1;32m     69\u001b[0m \u001b[38;5;250m    \u001b[39m\u001b[38;5;124;03m\"\"\"\u001b[39;00m\n\u001b[1;32m     70\u001b[0m \u001b[38;5;124;03m    Evaluates the quantitative semantics at the node.\u001b[39;00m\n\u001b[1;32m     71\u001b[0m \n\u001b[0;32m   (...)\u001b[0m\n\u001b[1;32m     86\u001b[0m \u001b[38;5;124;03m    A tensor with the quantitative semantics for the node.\u001b[39;00m\n\u001b[1;32m     87\u001b[0m \u001b[38;5;124;03m    \"\"\"\u001b[39;00m\n\u001b[0;32m---> 88\u001b[0m     z: Tensor \u001b[38;5;241m=\u001b[39m \u001b[38;5;28;43mself\u001b[39;49m\u001b[38;5;241;43m.\u001b[39;49m\u001b[43m_quantitative\u001b[49m\u001b[43m(\u001b[49m\u001b[43mx\u001b[49m\u001b[43m,\u001b[49m\u001b[43m \u001b[49m\u001b[43mnormalize\u001b[49m\u001b[43m)\u001b[49m\n\u001b[1;32m     89\u001b[0m     \u001b[38;5;28;01mif\u001b[39;00m evaluate_at_all_times:\n\u001b[1;32m     90\u001b[0m         \u001b[38;5;28;01mreturn\u001b[39;00m z\n",
      "File \u001b[0;32m~/transformers/src/transformers/models/stldec/stl.py:216\u001b[0m, in \u001b[0;36mAnd._quantitative\u001b[0;34m(self, x, normalize)\u001b[0m\n\u001b[1;32m    215\u001b[0m \u001b[38;5;28;01mdef\u001b[39;00m \u001b[38;5;21m_quantitative\u001b[39m(\u001b[38;5;28mself\u001b[39m, x: Tensor, normalize: \u001b[38;5;28mbool\u001b[39m \u001b[38;5;241m=\u001b[39m \u001b[38;5;28;01mFalse\u001b[39;00m) \u001b[38;5;241m-\u001b[39m\u001b[38;5;241m>\u001b[39m Tensor:\n\u001b[0;32m--> 216\u001b[0m     z1: Tensor \u001b[38;5;241m=\u001b[39m \u001b[38;5;28;43mself\u001b[39;49m\u001b[38;5;241;43m.\u001b[39;49m\u001b[43mleft_child\u001b[49m\u001b[38;5;241;43m.\u001b[39;49m\u001b[43m_quantitative\u001b[49m\u001b[43m(\u001b[49m\u001b[43mx\u001b[49m\u001b[43m,\u001b[49m\u001b[43m \u001b[49m\u001b[43mnormalize\u001b[49m\u001b[43m)\u001b[49m\n\u001b[1;32m    217\u001b[0m     z2: Tensor \u001b[38;5;241m=\u001b[39m \u001b[38;5;28mself\u001b[39m\u001b[38;5;241m.\u001b[39mright_child\u001b[38;5;241m.\u001b[39m_quantitative(x, normalize)\n\u001b[1;32m    218\u001b[0m     size: \u001b[38;5;28mint\u001b[39m \u001b[38;5;241m=\u001b[39m \u001b[38;5;28mmin\u001b[39m(z1\u001b[38;5;241m.\u001b[39msize()[\u001b[38;5;241m2\u001b[39m], z2\u001b[38;5;241m.\u001b[39msize()[\u001b[38;5;241m2\u001b[39m])\n",
      "File \u001b[0;32m~/transformers/src/transformers/models/stldec/stl.py:217\u001b[0m, in \u001b[0;36mAnd._quantitative\u001b[0;34m(self, x, normalize)\u001b[0m\n\u001b[1;32m    215\u001b[0m \u001b[38;5;28;01mdef\u001b[39;00m \u001b[38;5;21m_quantitative\u001b[39m(\u001b[38;5;28mself\u001b[39m, x: Tensor, normalize: \u001b[38;5;28mbool\u001b[39m \u001b[38;5;241m=\u001b[39m \u001b[38;5;28;01mFalse\u001b[39;00m) \u001b[38;5;241m-\u001b[39m\u001b[38;5;241m>\u001b[39m Tensor:\n\u001b[1;32m    216\u001b[0m     z1: Tensor \u001b[38;5;241m=\u001b[39m \u001b[38;5;28mself\u001b[39m\u001b[38;5;241m.\u001b[39mleft_child\u001b[38;5;241m.\u001b[39m_quantitative(x, normalize)\n\u001b[0;32m--> 217\u001b[0m     z2: Tensor \u001b[38;5;241m=\u001b[39m \u001b[38;5;28;43mself\u001b[39;49m\u001b[38;5;241;43m.\u001b[39;49m\u001b[43mright_child\u001b[49m\u001b[38;5;241;43m.\u001b[39;49m\u001b[43m_quantitative\u001b[49m\u001b[43m(\u001b[49m\u001b[43mx\u001b[49m\u001b[43m,\u001b[49m\u001b[43m \u001b[49m\u001b[43mnormalize\u001b[49m\u001b[43m)\u001b[49m\n\u001b[1;32m    218\u001b[0m     size: \u001b[38;5;28mint\u001b[39m \u001b[38;5;241m=\u001b[39m \u001b[38;5;28mmin\u001b[39m(z1\u001b[38;5;241m.\u001b[39msize()[\u001b[38;5;241m2\u001b[39m], z2\u001b[38;5;241m.\u001b[39msize()[\u001b[38;5;241m2\u001b[39m])\n\u001b[1;32m    219\u001b[0m     z1: Tensor \u001b[38;5;241m=\u001b[39m z1[:, :, :size]\n",
      "File \u001b[0;32m~/transformers/src/transformers/models/stldec/stl.py:217\u001b[0m, in \u001b[0;36mAnd._quantitative\u001b[0;34m(self, x, normalize)\u001b[0m\n\u001b[1;32m    215\u001b[0m \u001b[38;5;28;01mdef\u001b[39;00m \u001b[38;5;21m_quantitative\u001b[39m(\u001b[38;5;28mself\u001b[39m, x: Tensor, normalize: \u001b[38;5;28mbool\u001b[39m \u001b[38;5;241m=\u001b[39m \u001b[38;5;28;01mFalse\u001b[39;00m) \u001b[38;5;241m-\u001b[39m\u001b[38;5;241m>\u001b[39m Tensor:\n\u001b[1;32m    216\u001b[0m     z1: Tensor \u001b[38;5;241m=\u001b[39m \u001b[38;5;28mself\u001b[39m\u001b[38;5;241m.\u001b[39mleft_child\u001b[38;5;241m.\u001b[39m_quantitative(x, normalize)\n\u001b[0;32m--> 217\u001b[0m     z2: Tensor \u001b[38;5;241m=\u001b[39m \u001b[38;5;28;43mself\u001b[39;49m\u001b[38;5;241;43m.\u001b[39;49m\u001b[43mright_child\u001b[49m\u001b[38;5;241;43m.\u001b[39;49m\u001b[43m_quantitative\u001b[49m\u001b[43m(\u001b[49m\u001b[43mx\u001b[49m\u001b[43m,\u001b[49m\u001b[43m \u001b[49m\u001b[43mnormalize\u001b[49m\u001b[43m)\u001b[49m\n\u001b[1;32m    218\u001b[0m     size: \u001b[38;5;28mint\u001b[39m \u001b[38;5;241m=\u001b[39m \u001b[38;5;28mmin\u001b[39m(z1\u001b[38;5;241m.\u001b[39msize()[\u001b[38;5;241m2\u001b[39m], z2\u001b[38;5;241m.\u001b[39msize()[\u001b[38;5;241m2\u001b[39m])\n\u001b[1;32m    219\u001b[0m     z1: Tensor \u001b[38;5;241m=\u001b[39m z1[:, :, :size]\n",
      "File \u001b[0;32m~/transformers/src/transformers/models/stldec/stl.py:514\u001b[0m, in \u001b[0;36mUntil._quantitative\u001b[0;34m(self, x, normalize)\u001b[0m\n\u001b[1;32m    508\u001b[0m \u001b[38;5;28;01melif\u001b[39;00m \u001b[38;5;28mself\u001b[39m\u001b[38;5;241m.\u001b[39mright_unbound:\n\u001b[1;32m    509\u001b[0m     timed_until: Node \u001b[38;5;241m=\u001b[39m And(Globally(\u001b[38;5;28mself\u001b[39m\u001b[38;5;241m.\u001b[39mleft_child, left_time_bound\u001b[38;5;241m=\u001b[39m\u001b[38;5;241m0\u001b[39m, right_time_bound\u001b[38;5;241m=\u001b[39m\u001b[38;5;28mself\u001b[39m\u001b[38;5;241m.\u001b[39mleft_time_bound),\n\u001b[1;32m    510\u001b[0m                             And(Eventually(\u001b[38;5;28mself\u001b[39m\u001b[38;5;241m.\u001b[39mright_child, right_unbound\u001b[38;5;241m=\u001b[39m\u001b[38;5;28;01mTrue\u001b[39;00m,\n\u001b[1;32m    511\u001b[0m                                            left_time_bound\u001b[38;5;241m=\u001b[39m\u001b[38;5;28mself\u001b[39m\u001b[38;5;241m.\u001b[39mleft_time_bound),\n\u001b[1;32m    512\u001b[0m                                 Eventually(Until(\u001b[38;5;28mself\u001b[39m\u001b[38;5;241m.\u001b[39mleft_child, \u001b[38;5;28mself\u001b[39m\u001b[38;5;241m.\u001b[39mright_child, unbound\u001b[38;5;241m=\u001b[39m\u001b[38;5;28;01mTrue\u001b[39;00m),\n\u001b[1;32m    513\u001b[0m                                            left_time_bound\u001b[38;5;241m=\u001b[39m\u001b[38;5;28mself\u001b[39m\u001b[38;5;241m.\u001b[39mleft_time_bound, right_unbound\u001b[38;5;241m=\u001b[39m\u001b[38;5;28;01mTrue\u001b[39;00m)))\n\u001b[0;32m--> 514\u001b[0m     z: Tensor \u001b[38;5;241m=\u001b[39m \u001b[43mtimed_until\u001b[49m\u001b[38;5;241;43m.\u001b[39;49m\u001b[43m_quantitative\u001b[49m\u001b[43m(\u001b[49m\u001b[43mx\u001b[49m\u001b[43m,\u001b[49m\u001b[43m \u001b[49m\u001b[43mnormalize\u001b[49m\u001b[38;5;241;43m=\u001b[39;49m\u001b[43mnormalize\u001b[49m\u001b[43m)\u001b[49m\n\u001b[1;32m    515\u001b[0m \u001b[38;5;28;01melse\u001b[39;00m:\n\u001b[1;32m    516\u001b[0m     timed_until: Node \u001b[38;5;241m=\u001b[39m And(Globally(\u001b[38;5;28mself\u001b[39m\u001b[38;5;241m.\u001b[39mleft_child, left_time_bound\u001b[38;5;241m=\u001b[39m\u001b[38;5;241m0\u001b[39m, right_time_bound\u001b[38;5;241m=\u001b[39m\u001b[38;5;28mself\u001b[39m\u001b[38;5;241m.\u001b[39mleft_time_bound),\n\u001b[1;32m    517\u001b[0m                             And(Eventually(\u001b[38;5;28mself\u001b[39m\u001b[38;5;241m.\u001b[39mright_child, left_time_bound\u001b[38;5;241m=\u001b[39m\u001b[38;5;28mself\u001b[39m\u001b[38;5;241m.\u001b[39mleft_time_bound,\n\u001b[1;32m    518\u001b[0m                                            right_time_bound\u001b[38;5;241m=\u001b[39m\u001b[38;5;28mself\u001b[39m\u001b[38;5;241m.\u001b[39mright_time_bound\u001b[38;5;241m-\u001b[39m\u001b[38;5;241m1\u001b[39m),\n\u001b[1;32m    519\u001b[0m                                 Eventually(Until(\u001b[38;5;28mself\u001b[39m\u001b[38;5;241m.\u001b[39mleft_child, \u001b[38;5;28mself\u001b[39m\u001b[38;5;241m.\u001b[39mright_child, unbound\u001b[38;5;241m=\u001b[39m\u001b[38;5;28;01mTrue\u001b[39;00m),\n\u001b[1;32m    520\u001b[0m                                            left_time_bound\u001b[38;5;241m=\u001b[39m\u001b[38;5;28mself\u001b[39m\u001b[38;5;241m.\u001b[39mleft_time_bound, right_unbound\u001b[38;5;241m=\u001b[39m\u001b[38;5;28;01mTrue\u001b[39;00m)))\n",
      "File \u001b[0;32m~/transformers/src/transformers/models/stldec/stl.py:217\u001b[0m, in \u001b[0;36mAnd._quantitative\u001b[0;34m(self, x, normalize)\u001b[0m\n\u001b[1;32m    215\u001b[0m \u001b[38;5;28;01mdef\u001b[39;00m \u001b[38;5;21m_quantitative\u001b[39m(\u001b[38;5;28mself\u001b[39m, x: Tensor, normalize: \u001b[38;5;28mbool\u001b[39m \u001b[38;5;241m=\u001b[39m \u001b[38;5;28;01mFalse\u001b[39;00m) \u001b[38;5;241m-\u001b[39m\u001b[38;5;241m>\u001b[39m Tensor:\n\u001b[1;32m    216\u001b[0m     z1: Tensor \u001b[38;5;241m=\u001b[39m \u001b[38;5;28mself\u001b[39m\u001b[38;5;241m.\u001b[39mleft_child\u001b[38;5;241m.\u001b[39m_quantitative(x, normalize)\n\u001b[0;32m--> 217\u001b[0m     z2: Tensor \u001b[38;5;241m=\u001b[39m \u001b[38;5;28;43mself\u001b[39;49m\u001b[38;5;241;43m.\u001b[39;49m\u001b[43mright_child\u001b[49m\u001b[38;5;241;43m.\u001b[39;49m\u001b[43m_quantitative\u001b[49m\u001b[43m(\u001b[49m\u001b[43mx\u001b[49m\u001b[43m,\u001b[49m\u001b[43m \u001b[49m\u001b[43mnormalize\u001b[49m\u001b[43m)\u001b[49m\n\u001b[1;32m    218\u001b[0m     size: \u001b[38;5;28mint\u001b[39m \u001b[38;5;241m=\u001b[39m \u001b[38;5;28mmin\u001b[39m(z1\u001b[38;5;241m.\u001b[39msize()[\u001b[38;5;241m2\u001b[39m], z2\u001b[38;5;241m.\u001b[39msize()[\u001b[38;5;241m2\u001b[39m])\n\u001b[1;32m    219\u001b[0m     z1: Tensor \u001b[38;5;241m=\u001b[39m z1[:, :, :size]\n",
      "File \u001b[0;32m~/transformers/src/transformers/models/stldec/stl.py:217\u001b[0m, in \u001b[0;36mAnd._quantitative\u001b[0;34m(self, x, normalize)\u001b[0m\n\u001b[1;32m    215\u001b[0m \u001b[38;5;28;01mdef\u001b[39;00m \u001b[38;5;21m_quantitative\u001b[39m(\u001b[38;5;28mself\u001b[39m, x: Tensor, normalize: \u001b[38;5;28mbool\u001b[39m \u001b[38;5;241m=\u001b[39m \u001b[38;5;28;01mFalse\u001b[39;00m) \u001b[38;5;241m-\u001b[39m\u001b[38;5;241m>\u001b[39m Tensor:\n\u001b[1;32m    216\u001b[0m     z1: Tensor \u001b[38;5;241m=\u001b[39m \u001b[38;5;28mself\u001b[39m\u001b[38;5;241m.\u001b[39mleft_child\u001b[38;5;241m.\u001b[39m_quantitative(x, normalize)\n\u001b[0;32m--> 217\u001b[0m     z2: Tensor \u001b[38;5;241m=\u001b[39m \u001b[38;5;28;43mself\u001b[39;49m\u001b[38;5;241;43m.\u001b[39;49m\u001b[43mright_child\u001b[49m\u001b[38;5;241;43m.\u001b[39;49m\u001b[43m_quantitative\u001b[49m\u001b[43m(\u001b[49m\u001b[43mx\u001b[49m\u001b[43m,\u001b[49m\u001b[43m \u001b[49m\u001b[43mnormalize\u001b[49m\u001b[43m)\u001b[49m\n\u001b[1;32m    218\u001b[0m     size: \u001b[38;5;28mint\u001b[39m \u001b[38;5;241m=\u001b[39m \u001b[38;5;28mmin\u001b[39m(z1\u001b[38;5;241m.\u001b[39msize()[\u001b[38;5;241m2\u001b[39m], z2\u001b[38;5;241m.\u001b[39msize()[\u001b[38;5;241m2\u001b[39m])\n\u001b[1;32m    219\u001b[0m     z1: Tensor \u001b[38;5;241m=\u001b[39m z1[:, :, :size]\n",
      "File \u001b[0;32m~/transformers/src/transformers/models/stldec/stl.py:394\u001b[0m, in \u001b[0;36mEventually._quantitative\u001b[0;34m(self, x, normalize)\u001b[0m\n\u001b[1;32m    393\u001b[0m \u001b[38;5;28;01mdef\u001b[39;00m \u001b[38;5;21m_quantitative\u001b[39m(\u001b[38;5;28mself\u001b[39m, x: Tensor, normalize: \u001b[38;5;28mbool\u001b[39m \u001b[38;5;241m=\u001b[39m \u001b[38;5;28;01mFalse\u001b[39;00m) \u001b[38;5;241m-\u001b[39m\u001b[38;5;241m>\u001b[39m Tensor:\n\u001b[0;32m--> 394\u001b[0m     z1: Tensor \u001b[38;5;241m=\u001b[39m \u001b[38;5;28;43mself\u001b[39;49m\u001b[38;5;241;43m.\u001b[39;49m\u001b[43mchild\u001b[49m\u001b[38;5;241;43m.\u001b[39;49m\u001b[43m_quantitative\u001b[49m\u001b[43m(\u001b[49m\u001b[43mx\u001b[49m\u001b[43m[\u001b[49m\u001b[43m:\u001b[49m\u001b[43m,\u001b[49m\u001b[43m \u001b[49m\u001b[43m:\u001b[49m\u001b[43m,\u001b[49m\u001b[43m \u001b[49m\u001b[38;5;28;43mself\u001b[39;49m\u001b[38;5;241;43m.\u001b[39;49m\u001b[43mleft_time_bound\u001b[49m\u001b[43m:\u001b[49m\u001b[43m]\u001b[49m\u001b[43m,\u001b[49m\u001b[43m \u001b[49m\u001b[43mnormalize\u001b[49m\u001b[43m)\u001b[49m\n\u001b[1;32m    395\u001b[0m     \u001b[38;5;28;01mif\u001b[39;00m \u001b[38;5;28mself\u001b[39m\u001b[38;5;241m.\u001b[39munbound \u001b[38;5;129;01mor\u001b[39;00m \u001b[38;5;28mself\u001b[39m\u001b[38;5;241m.\u001b[39mright_unbound:\n\u001b[1;32m    396\u001b[0m         \u001b[38;5;28;01mif\u001b[39;00m \u001b[38;5;28mself\u001b[39m\u001b[38;5;241m.\u001b[39madapt_unbound:\n",
      "File \u001b[0;32m~/transformers/src/transformers/models/stldec/stl.py:505\u001b[0m, in \u001b[0;36mUntil._quantitative\u001b[0;34m(self, x, normalize)\u001b[0m\n\u001b[1;32m    492\u001b[0m     z2: Tensor \u001b[38;5;241m=\u001b[39m z2[:, :, :size]\n\u001b[1;32m    494\u001b[0m     \u001b[38;5;66;03m# z1_rep = torch.repeat_interleave(z1.unsqueeze(2), z1.unsqueeze(2).shape[-1], 2)\u001b[39;00m\n\u001b[1;32m    495\u001b[0m     \u001b[38;5;66;03m# z1_tril = torch.tril(z1_rep.transpose(2, 3), diagonal=-1)\u001b[39;00m\n\u001b[1;32m    496\u001b[0m     \u001b[38;5;66;03m# z1_triu = torch.triu(z1_rep)\u001b[39;00m\n\u001b[0;32m   (...)\u001b[0m\n\u001b[1;32m    503\u001b[0m     \u001b[38;5;66;03m# z: Tensor = torch.max(torch.min(torch.cat([z1_def.unsqueeze(-1), z2_def.unsqueeze(-1)], dim=-1), dim=-1)[0],\u001b[39;00m\n\u001b[1;32m    504\u001b[0m     \u001b[38;5;66;03m#                       dim=-1)[0]\u001b[39;00m\n\u001b[0;32m--> 505\u001b[0m     z: Tensor \u001b[38;5;241m=\u001b[39m torch\u001b[38;5;241m.\u001b[39mcat(\u001b[43m[\u001b[49m\u001b[43mtorch\u001b[49m\u001b[38;5;241;43m.\u001b[39;49m\u001b[43mmax\u001b[49m\u001b[43m(\u001b[49m\u001b[43mtorch\u001b[49m\u001b[38;5;241;43m.\u001b[39;49m\u001b[43mmin\u001b[49m\u001b[43m(\u001b[49m\n\u001b[1;32m    506\u001b[0m \u001b[43m        \u001b[49m\u001b[43mtorch\u001b[49m\u001b[38;5;241;43m.\u001b[39;49m\u001b[43mcat\u001b[49m\u001b[43m(\u001b[49m\u001b[43m[\u001b[49m\u001b[43mtorch\u001b[49m\u001b[38;5;241;43m.\u001b[39;49m\u001b[43mcummin\u001b[49m\u001b[43m(\u001b[49m\u001b[43mz1\u001b[49m\u001b[43m[\u001b[49m\u001b[43m:\u001b[49m\u001b[43m,\u001b[49m\u001b[43m \u001b[49m\u001b[43m:\u001b[49m\u001b[43m,\u001b[49m\u001b[43m \u001b[49m\u001b[43mt\u001b[49m\u001b[43m:\u001b[49m\u001b[43m]\u001b[49m\u001b[38;5;241;43m.\u001b[39;49m\u001b[43munsqueeze\u001b[49m\u001b[43m(\u001b[49m\u001b[38;5;241;43m-\u001b[39;49m\u001b[38;5;241;43m1\u001b[39;49m\u001b[43m)\u001b[49m\u001b[43m,\u001b[49m\u001b[43m \u001b[49m\u001b[43mdim\u001b[49m\u001b[38;5;241;43m=\u001b[39;49m\u001b[38;5;241;43m2\u001b[39;49m\u001b[43m)\u001b[49m\u001b[43m[\u001b[49m\u001b[38;5;241;43m0\u001b[39;49m\u001b[43m]\u001b[49m\u001b[43m,\u001b[49m\u001b[43m \u001b[49m\u001b[43mz2\u001b[49m\u001b[43m[\u001b[49m\u001b[43m:\u001b[49m\u001b[43m,\u001b[49m\u001b[43m \u001b[49m\u001b[43m:\u001b[49m\u001b[43m,\u001b[49m\u001b[43m \u001b[49m\u001b[43mt\u001b[49m\u001b[43m:\u001b[49m\u001b[43m]\u001b[49m\u001b[38;5;241;43m.\u001b[39;49m\u001b[43munsqueeze\u001b[49m\u001b[43m(\u001b[49m\u001b[38;5;241;43m-\u001b[39;49m\u001b[38;5;241;43m1\u001b[39;49m\u001b[43m)\u001b[49m\u001b[43m]\u001b[49m\u001b[43m,\u001b[49m\u001b[43m \u001b[49m\u001b[43mdim\u001b[49m\u001b[38;5;241;43m=\u001b[39;49m\u001b[38;5;241;43m-\u001b[39;49m\u001b[38;5;241;43m1\u001b[39;49m\u001b[43m)\u001b[49m\u001b[43m,\u001b[49m\n\u001b[1;32m    507\u001b[0m \u001b[43m        \u001b[49m\u001b[43mdim\u001b[49m\u001b[38;5;241;43m=\u001b[39;49m\u001b[38;5;241;43m-\u001b[39;49m\u001b[38;5;241;43m1\u001b[39;49m\u001b[43m)\u001b[49m\u001b[43m[\u001b[49m\u001b[38;5;241;43m0\u001b[39;49m\u001b[43m]\u001b[49m\u001b[43m,\u001b[49m\u001b[43m \u001b[49m\u001b[43mdim\u001b[49m\u001b[38;5;241;43m=\u001b[39;49m\u001b[38;5;241;43m2\u001b[39;49m\u001b[43m,\u001b[49m\u001b[43m \u001b[49m\u001b[43mkeepdim\u001b[49m\u001b[38;5;241;43m=\u001b[39;49m\u001b[38;5;28;43;01mTrue\u001b[39;49;00m\u001b[43m)\u001b[49m\u001b[43m[\u001b[49m\u001b[38;5;241;43m0\u001b[39;49m\u001b[43m]\u001b[49m\u001b[43m \u001b[49m\u001b[38;5;28;43;01mfor\u001b[39;49;00m\u001b[43m \u001b[49m\u001b[43mt\u001b[49m\u001b[43m \u001b[49m\u001b[38;5;129;43;01min\u001b[39;49;00m\u001b[43m \u001b[49m\u001b[38;5;28;43mrange\u001b[39;49m\u001b[43m(\u001b[49m\u001b[43msize\u001b[49m\u001b[43m)\u001b[49m\u001b[43m]\u001b[49m, dim\u001b[38;5;241m=\u001b[39m\u001b[38;5;241m2\u001b[39m)\n\u001b[1;32m    508\u001b[0m \u001b[38;5;28;01melif\u001b[39;00m \u001b[38;5;28mself\u001b[39m\u001b[38;5;241m.\u001b[39mright_unbound:\n\u001b[1;32m    509\u001b[0m     timed_until: Node \u001b[38;5;241m=\u001b[39m And(Globally(\u001b[38;5;28mself\u001b[39m\u001b[38;5;241m.\u001b[39mleft_child, left_time_bound\u001b[38;5;241m=\u001b[39m\u001b[38;5;241m0\u001b[39m, right_time_bound\u001b[38;5;241m=\u001b[39m\u001b[38;5;28mself\u001b[39m\u001b[38;5;241m.\u001b[39mleft_time_bound),\n\u001b[1;32m    510\u001b[0m                             And(Eventually(\u001b[38;5;28mself\u001b[39m\u001b[38;5;241m.\u001b[39mright_child, right_unbound\u001b[38;5;241m=\u001b[39m\u001b[38;5;28;01mTrue\u001b[39;00m,\n\u001b[1;32m    511\u001b[0m                                            left_time_bound\u001b[38;5;241m=\u001b[39m\u001b[38;5;28mself\u001b[39m\u001b[38;5;241m.\u001b[39mleft_time_bound),\n\u001b[1;32m    512\u001b[0m                                 Eventually(Until(\u001b[38;5;28mself\u001b[39m\u001b[38;5;241m.\u001b[39mleft_child, \u001b[38;5;28mself\u001b[39m\u001b[38;5;241m.\u001b[39mright_child, unbound\u001b[38;5;241m=\u001b[39m\u001b[38;5;28;01mTrue\u001b[39;00m),\n\u001b[1;32m    513\u001b[0m                                            left_time_bound\u001b[38;5;241m=\u001b[39m\u001b[38;5;28mself\u001b[39m\u001b[38;5;241m.\u001b[39mleft_time_bound, right_unbound\u001b[38;5;241m=\u001b[39m\u001b[38;5;28;01mTrue\u001b[39;00m)))\n",
      "File \u001b[0;32m~/transformers/src/transformers/models/stldec/stl.py:505\u001b[0m, in \u001b[0;36m<listcomp>\u001b[0;34m(.0)\u001b[0m\n\u001b[1;32m    492\u001b[0m     z2: Tensor \u001b[38;5;241m=\u001b[39m z2[:, :, :size]\n\u001b[1;32m    494\u001b[0m     \u001b[38;5;66;03m# z1_rep = torch.repeat_interleave(z1.unsqueeze(2), z1.unsqueeze(2).shape[-1], 2)\u001b[39;00m\n\u001b[1;32m    495\u001b[0m     \u001b[38;5;66;03m# z1_tril = torch.tril(z1_rep.transpose(2, 3), diagonal=-1)\u001b[39;00m\n\u001b[1;32m    496\u001b[0m     \u001b[38;5;66;03m# z1_triu = torch.triu(z1_rep)\u001b[39;00m\n\u001b[0;32m   (...)\u001b[0m\n\u001b[1;32m    503\u001b[0m     \u001b[38;5;66;03m# z: Tensor = torch.max(torch.min(torch.cat([z1_def.unsqueeze(-1), z2_def.unsqueeze(-1)], dim=-1), dim=-1)[0],\u001b[39;00m\n\u001b[1;32m    504\u001b[0m     \u001b[38;5;66;03m#                       dim=-1)[0]\u001b[39;00m\n\u001b[0;32m--> 505\u001b[0m     z: Tensor \u001b[38;5;241m=\u001b[39m torch\u001b[38;5;241m.\u001b[39mcat([\u001b[43mtorch\u001b[49m\u001b[38;5;241;43m.\u001b[39;49m\u001b[43mmax\u001b[49m\u001b[43m(\u001b[49m\u001b[43mtorch\u001b[49m\u001b[38;5;241;43m.\u001b[39;49m\u001b[43mmin\u001b[49m\u001b[43m(\u001b[49m\n\u001b[1;32m    506\u001b[0m \u001b[43m        \u001b[49m\u001b[43mtorch\u001b[49m\u001b[38;5;241;43m.\u001b[39;49m\u001b[43mcat\u001b[49m\u001b[43m(\u001b[49m\u001b[43m[\u001b[49m\u001b[43mtorch\u001b[49m\u001b[38;5;241;43m.\u001b[39;49m\u001b[43mcummin\u001b[49m\u001b[43m(\u001b[49m\u001b[43mz1\u001b[49m\u001b[43m[\u001b[49m\u001b[43m:\u001b[49m\u001b[43m,\u001b[49m\u001b[43m \u001b[49m\u001b[43m:\u001b[49m\u001b[43m,\u001b[49m\u001b[43m \u001b[49m\u001b[43mt\u001b[49m\u001b[43m:\u001b[49m\u001b[43m]\u001b[49m\u001b[38;5;241;43m.\u001b[39;49m\u001b[43munsqueeze\u001b[49m\u001b[43m(\u001b[49m\u001b[38;5;241;43m-\u001b[39;49m\u001b[38;5;241;43m1\u001b[39;49m\u001b[43m)\u001b[49m\u001b[43m,\u001b[49m\u001b[43m \u001b[49m\u001b[43mdim\u001b[49m\u001b[38;5;241;43m=\u001b[39;49m\u001b[38;5;241;43m2\u001b[39;49m\u001b[43m)\u001b[49m\u001b[43m[\u001b[49m\u001b[38;5;241;43m0\u001b[39;49m\u001b[43m]\u001b[49m\u001b[43m,\u001b[49m\u001b[43m \u001b[49m\u001b[43mz2\u001b[49m\u001b[43m[\u001b[49m\u001b[43m:\u001b[49m\u001b[43m,\u001b[49m\u001b[43m \u001b[49m\u001b[43m:\u001b[49m\u001b[43m,\u001b[49m\u001b[43m \u001b[49m\u001b[43mt\u001b[49m\u001b[43m:\u001b[49m\u001b[43m]\u001b[49m\u001b[38;5;241;43m.\u001b[39;49m\u001b[43munsqueeze\u001b[49m\u001b[43m(\u001b[49m\u001b[38;5;241;43m-\u001b[39;49m\u001b[38;5;241;43m1\u001b[39;49m\u001b[43m)\u001b[49m\u001b[43m]\u001b[49m\u001b[43m,\u001b[49m\u001b[43m \u001b[49m\u001b[43mdim\u001b[49m\u001b[38;5;241;43m=\u001b[39;49m\u001b[38;5;241;43m-\u001b[39;49m\u001b[38;5;241;43m1\u001b[39;49m\u001b[43m)\u001b[49m\u001b[43m,\u001b[49m\n\u001b[1;32m    507\u001b[0m \u001b[43m        \u001b[49m\u001b[43mdim\u001b[49m\u001b[38;5;241;43m=\u001b[39;49m\u001b[38;5;241;43m-\u001b[39;49m\u001b[38;5;241;43m1\u001b[39;49m\u001b[43m)\u001b[49m\u001b[43m[\u001b[49m\u001b[38;5;241;43m0\u001b[39;49m\u001b[43m]\u001b[49m\u001b[43m,\u001b[49m\u001b[43m \u001b[49m\u001b[43mdim\u001b[49m\u001b[38;5;241;43m=\u001b[39;49m\u001b[38;5;241;43m2\u001b[39;49m\u001b[43m,\u001b[49m\u001b[43m \u001b[49m\u001b[43mkeepdim\u001b[49m\u001b[38;5;241;43m=\u001b[39;49m\u001b[38;5;28;43;01mTrue\u001b[39;49;00m\u001b[43m)\u001b[49m[\u001b[38;5;241m0\u001b[39m] \u001b[38;5;28;01mfor\u001b[39;00m t \u001b[38;5;129;01min\u001b[39;00m \u001b[38;5;28mrange\u001b[39m(size)], dim\u001b[38;5;241m=\u001b[39m\u001b[38;5;241m2\u001b[39m)\n\u001b[1;32m    508\u001b[0m \u001b[38;5;28;01melif\u001b[39;00m \u001b[38;5;28mself\u001b[39m\u001b[38;5;241m.\u001b[39mright_unbound:\n\u001b[1;32m    509\u001b[0m     timed_until: Node \u001b[38;5;241m=\u001b[39m And(Globally(\u001b[38;5;28mself\u001b[39m\u001b[38;5;241m.\u001b[39mleft_child, left_time_bound\u001b[38;5;241m=\u001b[39m\u001b[38;5;241m0\u001b[39m, right_time_bound\u001b[38;5;241m=\u001b[39m\u001b[38;5;28mself\u001b[39m\u001b[38;5;241m.\u001b[39mleft_time_bound),\n\u001b[1;32m    510\u001b[0m                             And(Eventually(\u001b[38;5;28mself\u001b[39m\u001b[38;5;241m.\u001b[39mright_child, right_unbound\u001b[38;5;241m=\u001b[39m\u001b[38;5;28;01mTrue\u001b[39;00m,\n\u001b[1;32m    511\u001b[0m                                            left_time_bound\u001b[38;5;241m=\u001b[39m\u001b[38;5;28mself\u001b[39m\u001b[38;5;241m.\u001b[39mleft_time_bound),\n\u001b[1;32m    512\u001b[0m                                 Eventually(Until(\u001b[38;5;28mself\u001b[39m\u001b[38;5;241m.\u001b[39mleft_child, \u001b[38;5;28mself\u001b[39m\u001b[38;5;241m.\u001b[39mright_child, unbound\u001b[38;5;241m=\u001b[39m\u001b[38;5;28;01mTrue\u001b[39;00m),\n\u001b[1;32m    513\u001b[0m                                            left_time_bound\u001b[38;5;241m=\u001b[39m\u001b[38;5;28mself\u001b[39m\u001b[38;5;241m.\u001b[39mleft_time_bound, right_unbound\u001b[38;5;241m=\u001b[39m\u001b[38;5;28;01mTrue\u001b[39;00m)))\n",
      "\u001b[0;31mKeyboardInterrupt\u001b[0m: "
     ]
    }
   ],
   "source": [
    "generate_formulae_depth(2, 3, 3)"
   ]
  },
  {
   "cell_type": "code",
   "execution_count": 1,
   "metadata": {},
   "outputs": [
    {
     "name": "stderr",
     "output_type": "stream",
     "text": [
      "/home/saracandussio/.conda/envs/stdenv/lib/python3.11/site-packages/tqdm/auto.py:21: TqdmWarning: IProgress not found. Please update jupyter and ipywidgets. See https://ipywidgets.readthedocs.io/en/stable/user_install.html\n",
      "  from .autonotebook import tqdm as notebook_tqdm\n"
     ]
    }
   ],
   "source": [
    "import os\n",
    "import torch\n",
    "from torch.nn.functional import normalize\n",
    "import copy\n",
    "import numpy as np\n",
    "import pandas as pd\n",
    "import stl \n",
    "from encoder import STLEncoder\n",
    "from handcoded_tokenizer import STLTokenizer\n",
    "\n",
    "from phis_generator_depth import StlGenerator\n",
    "from traj_measure import BaseMeasure\n",
    "from utils import from_string_to_formula, load_pickle, dump_pickle, get_depth\n",
    "from kernel import StlKernel\n",
    "\n",
    "\n",
    "encoder = STLEncoder(embed_dim = 1024, anchor_filename = \"anchor_set_1024_dim.pickle\")\n",
    "tokenizer = STLTokenizer('tokenizer_files/tokenizer.json')"
   ]
  },
  {
   "cell_type": "code",
   "execution_count": 2,
   "metadata": {},
   "outputs": [],
   "source": [
    "# Helper function to generate and filter formulae\n",
    "def generate_and_filter(n_phis, n_vars, depth):\n",
    "    sampler = StlGenerator(max_depth=depth, min_depth=depth)\n",
    "    sampled_objs = sampler.bag_sample(bag_size=n_phis, nvars=n_vars)\n",
    "\n",
    "    # convert to string\n",
    "    sampled_objs = list(map(str, sampled_objs))\n",
    "\n",
    "    lengths = []\n",
    "    for obj in sampled_objs:\n",
    "        lengths.append(len(tokenizer.encode(obj)))\n",
    "\n",
    "    # filter sampled_objs where length is less than 500\n",
    "    \n",
    "    filtered_objs = [obj for i, obj in enumerate(sampled_objs) if lengths[i] < 500]\n",
    "    return filtered_objs"
   ]
  },
  {
   "cell_type": "code",
   "execution_count": 3,
   "metadata": {},
   "outputs": [],
   "source": [
    "def generate_formulae_depth(n_phis, n_vars, depth):\n",
    "\n",
    "    # Generate initial batch of formulae\n",
    "    formulae = generate_and_filter(n_phis, n_vars, depth)\n",
    "\n",
    "    # If we don't have enough formulae, regenerate until we meet the required number\n",
    "    while len(formulae) < n_phis:\n",
    "        delta = n_phis - len(formulae)\n",
    "        additional_formulae = generate_and_filter(delta, n_vars, depth)\n",
    "        formulae.append(additional_formulae)\n",
    "\n",
    "    # Truncate the list to exactly n_phis formulae if needed\n",
    "    formulae = formulae[:n_phis]\n",
    "\n",
    "    return formulae"
   ]
  },
  {
   "cell_type": "code",
   "execution_count": 4,
   "metadata": {},
   "outputs": [],
   "source": [
    "def embed_generated_formulae(df):\n",
    "    # sampled_formulae = list(map(str, df['Formula Obj']))\n",
    "    formulae_embeddings = encoder.compute_embeddings(df)\n",
    "    return formulae_embeddings.tolist()"
   ]
  },
  {
   "cell_type": "code",
   "execution_count": 8,
   "metadata": {},
   "outputs": [
    {
     "data": {
      "text/plain": [
       "1"
      ]
     },
     "execution_count": 8,
     "metadata": {},
     "output_type": "execute_result"
    }
   ],
   "source": [
    "test = generate_formulae_depth(1, 2, 4)\n",
    "len(test)"
   ]
  },
  {
   "cell_type": "code",
   "execution_count": 9,
   "metadata": {},
   "outputs": [
    {
     "ename": "KeyboardInterrupt",
     "evalue": "",
     "output_type": "error",
     "traceback": [
      "\u001b[0;31m---------------------------------------------------------------------------\u001b[0m",
      "\u001b[0;31mKeyboardInterrupt\u001b[0m                         Traceback (most recent call last)",
      "Cell \u001b[0;32mIn[9], line 1\u001b[0m\n\u001b[0;32m----> 1\u001b[0m \u001b[43membed_generated_formulae\u001b[49m\u001b[43m(\u001b[49m\u001b[43mtest\u001b[49m\u001b[43m)\u001b[49m\n",
      "Cell \u001b[0;32mIn[4], line 3\u001b[0m, in \u001b[0;36membed_generated_formulae\u001b[0;34m(df)\u001b[0m\n\u001b[1;32m      1\u001b[0m \u001b[38;5;28;01mdef\u001b[39;00m \u001b[38;5;21membed_generated_formulae\u001b[39m(df):\n\u001b[1;32m      2\u001b[0m     \u001b[38;5;66;03m# sampled_formulae = list(map(str, df['Formula Obj']))\u001b[39;00m\n\u001b[0;32m----> 3\u001b[0m     formulae_embeddings \u001b[38;5;241m=\u001b[39m \u001b[43mencoder\u001b[49m\u001b[38;5;241;43m.\u001b[39;49m\u001b[43mcompute_embeddings\u001b[49m\u001b[43m(\u001b[49m\u001b[43mdf\u001b[49m\u001b[43m)\u001b[49m\n\u001b[1;32m      4\u001b[0m     \u001b[38;5;28;01mreturn\u001b[39;00m formulae_embeddings\u001b[38;5;241m.\u001b[39mtolist()\n",
      "File \u001b[0;32m~/transformers/src/transformers/models/stldec/encoder.py:42\u001b[0m, in \u001b[0;36mSTLEncoder.compute_embeddings\u001b[0;34m(self, formula)\u001b[0m\n\u001b[1;32m     40\u001b[0m \u001b[38;5;28;01mdef\u001b[39;00m \u001b[38;5;21mcompute_embeddings\u001b[39m(\u001b[38;5;28mself\u001b[39m, formula: List[\u001b[38;5;28mstr\u001b[39m]):\n\u001b[1;32m     41\u001b[0m     converted_formula \u001b[38;5;241m=\u001b[39m \u001b[38;5;28mlist\u001b[39m(\u001b[38;5;28mmap\u001b[39m(from_string_to_formula, formula))\n\u001b[0;32m---> 42\u001b[0m     \u001b[38;5;28;01mreturn\u001b[39;00m \u001b[38;5;28;43mself\u001b[39;49m\u001b[38;5;241;43m.\u001b[39;49m\u001b[43mkernel\u001b[49m\u001b[38;5;241;43m.\u001b[39;49m\u001b[43mcompute_bag_bag\u001b[49m\u001b[43m(\u001b[49m\u001b[43mconverted_formula\u001b[49m\u001b[43m,\u001b[49m\u001b[43m \u001b[49m\u001b[38;5;28;43mself\u001b[39;49m\u001b[38;5;241;43m.\u001b[39;49m\u001b[43manchor_set\u001b[49m\u001b[43m)\u001b[49m\n",
      "File \u001b[0;32m~/transformers/src/transformers/models/stldec/kernel.py:70\u001b[0m, in \u001b[0;36mStlKernel.compute_bag_bag\u001b[0;34m(self, phis1, phis2, return_robustness)\u001b[0m\n\u001b[1;32m     68\u001b[0m \u001b[38;5;28;01melse\u001b[39;00m:\n\u001b[1;32m     69\u001b[0m     rhos1, selfk1 \u001b[38;5;241m=\u001b[39m \u001b[38;5;28mself\u001b[39m\u001b[38;5;241m.\u001b[39m_compute_robustness_no_time(phis1)\n\u001b[0;32m---> 70\u001b[0m     rhos2, selfk2 \u001b[38;5;241m=\u001b[39m \u001b[38;5;28;43mself\u001b[39;49m\u001b[38;5;241;43m.\u001b[39;49m\u001b[43m_compute_robustness_no_time\u001b[49m\u001b[43m(\u001b[49m\u001b[43mphis2\u001b[49m\u001b[43m)\u001b[49m\n\u001b[1;32m     71\u001b[0m     len1, len2 \u001b[38;5;241m=\u001b[39m [\u001b[38;5;28;01mNone\u001b[39;00m, \u001b[38;5;28;01mNone\u001b[39;00m]\n\u001b[1;32m     72\u001b[0m     kernel_matrix \u001b[38;5;241m=\u001b[39m \u001b[38;5;28mself\u001b[39m\u001b[38;5;241m.\u001b[39m_compute_kernel_no_time(rhos1, rhos2, selfk1, selfk2)\n",
      "File \u001b[0;32m~/transformers/src/transformers/models/stldec/kernel.py:129\u001b[0m, in \u001b[0;36mStlKernel._compute_robustness_no_time\u001b[0;34m(self, phis)\u001b[0m\n\u001b[1;32m    127\u001b[0m     rho[rho \u001b[38;5;241m==\u001b[39m \u001b[38;5;241m0.0\u001b[39m] \u001b[38;5;241m=\u001b[39m \u001b[38;5;241m-\u001b[39m\u001b[38;5;241m1.0\u001b[39m\n\u001b[1;32m    128\u001b[0m \u001b[38;5;28;01melse\u001b[39;00m:\n\u001b[0;32m--> 129\u001b[0m     rho \u001b[38;5;241m=\u001b[39m \u001b[43mphi\u001b[49m\u001b[38;5;241;43m.\u001b[39;49m\u001b[43mquantitative\u001b[49m\u001b[43m(\u001b[49m\u001b[38;5;28;43mself\u001b[39;49m\u001b[38;5;241;43m.\u001b[39;49m\u001b[43msignals\u001b[49m\u001b[43m,\u001b[49m\u001b[43m \u001b[49m\u001b[43mevaluate_at_all_times\u001b[49m\u001b[38;5;241;43m=\u001b[39;49m\u001b[38;5;28;43;01mFalse\u001b[39;49;00m\u001b[43m)\u001b[49m\n\u001b[1;32m    130\u001b[0m self_kernels[i] \u001b[38;5;241m=\u001b[39m rho\u001b[38;5;241m.\u001b[39mdot(rho) \u001b[38;5;241m/\u001b[39m n\n\u001b[1;32m    131\u001b[0m rhos[i, :] \u001b[38;5;241m=\u001b[39m rho\n",
      "File \u001b[0;32m~/transformers/src/transformers/models/stldec/stl.py:88\u001b[0m, in \u001b[0;36mNode.quantitative\u001b[0;34m(self, x, normalize, evaluate_at_all_times)\u001b[0m\n\u001b[1;32m     63\u001b[0m \u001b[38;5;28;01mdef\u001b[39;00m \u001b[38;5;21mquantitative\u001b[39m(\n\u001b[1;32m     64\u001b[0m     \u001b[38;5;28mself\u001b[39m,\n\u001b[1;32m     65\u001b[0m     x: Tensor,\n\u001b[1;32m     66\u001b[0m     normalize: \u001b[38;5;28mbool\u001b[39m \u001b[38;5;241m=\u001b[39m \u001b[38;5;28;01mFalse\u001b[39;00m,\n\u001b[1;32m     67\u001b[0m     evaluate_at_all_times: \u001b[38;5;28mbool\u001b[39m \u001b[38;5;241m=\u001b[39m \u001b[38;5;28;01mFalse\u001b[39;00m,\n\u001b[1;32m     68\u001b[0m ) \u001b[38;5;241m-\u001b[39m\u001b[38;5;241m>\u001b[39m Tensor:\n\u001b[1;32m     69\u001b[0m \u001b[38;5;250m    \u001b[39m\u001b[38;5;124;03m\"\"\"\u001b[39;00m\n\u001b[1;32m     70\u001b[0m \u001b[38;5;124;03m    Evaluates the quantitative semantics at the node.\u001b[39;00m\n\u001b[1;32m     71\u001b[0m \n\u001b[0;32m   (...)\u001b[0m\n\u001b[1;32m     86\u001b[0m \u001b[38;5;124;03m    A tensor with the quantitative semantics for the node.\u001b[39;00m\n\u001b[1;32m     87\u001b[0m \u001b[38;5;124;03m    \"\"\"\u001b[39;00m\n\u001b[0;32m---> 88\u001b[0m     z: Tensor \u001b[38;5;241m=\u001b[39m \u001b[38;5;28;43mself\u001b[39;49m\u001b[38;5;241;43m.\u001b[39;49m\u001b[43m_quantitative\u001b[49m\u001b[43m(\u001b[49m\u001b[43mx\u001b[49m\u001b[43m,\u001b[49m\u001b[43m \u001b[49m\u001b[43mnormalize\u001b[49m\u001b[43m)\u001b[49m\n\u001b[1;32m     89\u001b[0m     \u001b[38;5;28;01mif\u001b[39;00m evaluate_at_all_times:\n\u001b[1;32m     90\u001b[0m         \u001b[38;5;28;01mreturn\u001b[39;00m z\n",
      "File \u001b[0;32m~/transformers/src/transformers/models/stldec/stl.py:521\u001b[0m, in \u001b[0;36mUntil._quantitative\u001b[0;34m(self, x, normalize)\u001b[0m\n\u001b[1;32m    515\u001b[0m \u001b[38;5;28;01melse\u001b[39;00m:\n\u001b[1;32m    516\u001b[0m     timed_until: Node \u001b[38;5;241m=\u001b[39m And(Globally(\u001b[38;5;28mself\u001b[39m\u001b[38;5;241m.\u001b[39mleft_child, left_time_bound\u001b[38;5;241m=\u001b[39m\u001b[38;5;241m0\u001b[39m, right_time_bound\u001b[38;5;241m=\u001b[39m\u001b[38;5;28mself\u001b[39m\u001b[38;5;241m.\u001b[39mleft_time_bound),\n\u001b[1;32m    517\u001b[0m                             And(Eventually(\u001b[38;5;28mself\u001b[39m\u001b[38;5;241m.\u001b[39mright_child, left_time_bound\u001b[38;5;241m=\u001b[39m\u001b[38;5;28mself\u001b[39m\u001b[38;5;241m.\u001b[39mleft_time_bound,\n\u001b[1;32m    518\u001b[0m                                            right_time_bound\u001b[38;5;241m=\u001b[39m\u001b[38;5;28mself\u001b[39m\u001b[38;5;241m.\u001b[39mright_time_bound\u001b[38;5;241m-\u001b[39m\u001b[38;5;241m1\u001b[39m),\n\u001b[1;32m    519\u001b[0m                                 Eventually(Until(\u001b[38;5;28mself\u001b[39m\u001b[38;5;241m.\u001b[39mleft_child, \u001b[38;5;28mself\u001b[39m\u001b[38;5;241m.\u001b[39mright_child, unbound\u001b[38;5;241m=\u001b[39m\u001b[38;5;28;01mTrue\u001b[39;00m),\n\u001b[1;32m    520\u001b[0m                                            left_time_bound\u001b[38;5;241m=\u001b[39m\u001b[38;5;28mself\u001b[39m\u001b[38;5;241m.\u001b[39mleft_time_bound, right_unbound\u001b[38;5;241m=\u001b[39m\u001b[38;5;28;01mTrue\u001b[39;00m)))\n\u001b[0;32m--> 521\u001b[0m     z: Tensor \u001b[38;5;241m=\u001b[39m \u001b[43mtimed_until\u001b[49m\u001b[38;5;241;43m.\u001b[39;49m\u001b[43m_quantitative\u001b[49m\u001b[43m(\u001b[49m\u001b[43mx\u001b[49m\u001b[43m,\u001b[49m\u001b[43m \u001b[49m\u001b[43mnormalize\u001b[49m\u001b[38;5;241;43m=\u001b[39;49m\u001b[43mnormalize\u001b[49m\u001b[43m)\u001b[49m\n\u001b[1;32m    522\u001b[0m \u001b[38;5;28;01mreturn\u001b[39;00m z\n",
      "File \u001b[0;32m~/transformers/src/transformers/models/stldec/stl.py:217\u001b[0m, in \u001b[0;36mAnd._quantitative\u001b[0;34m(self, x, normalize)\u001b[0m\n\u001b[1;32m    215\u001b[0m \u001b[38;5;28;01mdef\u001b[39;00m \u001b[38;5;21m_quantitative\u001b[39m(\u001b[38;5;28mself\u001b[39m, x: Tensor, normalize: \u001b[38;5;28mbool\u001b[39m \u001b[38;5;241m=\u001b[39m \u001b[38;5;28;01mFalse\u001b[39;00m) \u001b[38;5;241m-\u001b[39m\u001b[38;5;241m>\u001b[39m Tensor:\n\u001b[1;32m    216\u001b[0m     z1: Tensor \u001b[38;5;241m=\u001b[39m \u001b[38;5;28mself\u001b[39m\u001b[38;5;241m.\u001b[39mleft_child\u001b[38;5;241m.\u001b[39m_quantitative(x, normalize)\n\u001b[0;32m--> 217\u001b[0m     z2: Tensor \u001b[38;5;241m=\u001b[39m \u001b[38;5;28;43mself\u001b[39;49m\u001b[38;5;241;43m.\u001b[39;49m\u001b[43mright_child\u001b[49m\u001b[38;5;241;43m.\u001b[39;49m\u001b[43m_quantitative\u001b[49m\u001b[43m(\u001b[49m\u001b[43mx\u001b[49m\u001b[43m,\u001b[49m\u001b[43m \u001b[49m\u001b[43mnormalize\u001b[49m\u001b[43m)\u001b[49m\n\u001b[1;32m    218\u001b[0m     size: \u001b[38;5;28mint\u001b[39m \u001b[38;5;241m=\u001b[39m \u001b[38;5;28mmin\u001b[39m(z1\u001b[38;5;241m.\u001b[39msize()[\u001b[38;5;241m2\u001b[39m], z2\u001b[38;5;241m.\u001b[39msize()[\u001b[38;5;241m2\u001b[39m])\n\u001b[1;32m    219\u001b[0m     z1: Tensor \u001b[38;5;241m=\u001b[39m z1[:, :, :size]\n",
      "File \u001b[0;32m~/transformers/src/transformers/models/stldec/stl.py:217\u001b[0m, in \u001b[0;36mAnd._quantitative\u001b[0;34m(self, x, normalize)\u001b[0m\n\u001b[1;32m    215\u001b[0m \u001b[38;5;28;01mdef\u001b[39;00m \u001b[38;5;21m_quantitative\u001b[39m(\u001b[38;5;28mself\u001b[39m, x: Tensor, normalize: \u001b[38;5;28mbool\u001b[39m \u001b[38;5;241m=\u001b[39m \u001b[38;5;28;01mFalse\u001b[39;00m) \u001b[38;5;241m-\u001b[39m\u001b[38;5;241m>\u001b[39m Tensor:\n\u001b[1;32m    216\u001b[0m     z1: Tensor \u001b[38;5;241m=\u001b[39m \u001b[38;5;28mself\u001b[39m\u001b[38;5;241m.\u001b[39mleft_child\u001b[38;5;241m.\u001b[39m_quantitative(x, normalize)\n\u001b[0;32m--> 217\u001b[0m     z2: Tensor \u001b[38;5;241m=\u001b[39m \u001b[38;5;28;43mself\u001b[39;49m\u001b[38;5;241;43m.\u001b[39;49m\u001b[43mright_child\u001b[49m\u001b[38;5;241;43m.\u001b[39;49m\u001b[43m_quantitative\u001b[49m\u001b[43m(\u001b[49m\u001b[43mx\u001b[49m\u001b[43m,\u001b[49m\u001b[43m \u001b[49m\u001b[43mnormalize\u001b[49m\u001b[43m)\u001b[49m\n\u001b[1;32m    218\u001b[0m     size: \u001b[38;5;28mint\u001b[39m \u001b[38;5;241m=\u001b[39m \u001b[38;5;28mmin\u001b[39m(z1\u001b[38;5;241m.\u001b[39msize()[\u001b[38;5;241m2\u001b[39m], z2\u001b[38;5;241m.\u001b[39msize()[\u001b[38;5;241m2\u001b[39m])\n\u001b[1;32m    219\u001b[0m     z1: Tensor \u001b[38;5;241m=\u001b[39m z1[:, :, :size]\n",
      "File \u001b[0;32m~/transformers/src/transformers/models/stldec/stl.py:394\u001b[0m, in \u001b[0;36mEventually._quantitative\u001b[0;34m(self, x, normalize)\u001b[0m\n\u001b[1;32m    393\u001b[0m \u001b[38;5;28;01mdef\u001b[39;00m \u001b[38;5;21m_quantitative\u001b[39m(\u001b[38;5;28mself\u001b[39m, x: Tensor, normalize: \u001b[38;5;28mbool\u001b[39m \u001b[38;5;241m=\u001b[39m \u001b[38;5;28;01mFalse\u001b[39;00m) \u001b[38;5;241m-\u001b[39m\u001b[38;5;241m>\u001b[39m Tensor:\n\u001b[0;32m--> 394\u001b[0m     z1: Tensor \u001b[38;5;241m=\u001b[39m \u001b[38;5;28;43mself\u001b[39;49m\u001b[38;5;241;43m.\u001b[39;49m\u001b[43mchild\u001b[49m\u001b[38;5;241;43m.\u001b[39;49m\u001b[43m_quantitative\u001b[49m\u001b[43m(\u001b[49m\u001b[43mx\u001b[49m\u001b[43m[\u001b[49m\u001b[43m:\u001b[49m\u001b[43m,\u001b[49m\u001b[43m \u001b[49m\u001b[43m:\u001b[49m\u001b[43m,\u001b[49m\u001b[43m \u001b[49m\u001b[38;5;28;43mself\u001b[39;49m\u001b[38;5;241;43m.\u001b[39;49m\u001b[43mleft_time_bound\u001b[49m\u001b[43m:\u001b[49m\u001b[43m]\u001b[49m\u001b[43m,\u001b[49m\u001b[43m \u001b[49m\u001b[43mnormalize\u001b[49m\u001b[43m)\u001b[49m\n\u001b[1;32m    395\u001b[0m     \u001b[38;5;28;01mif\u001b[39;00m \u001b[38;5;28mself\u001b[39m\u001b[38;5;241m.\u001b[39munbound \u001b[38;5;129;01mor\u001b[39;00m \u001b[38;5;28mself\u001b[39m\u001b[38;5;241m.\u001b[39mright_unbound:\n\u001b[1;32m    396\u001b[0m         \u001b[38;5;28;01mif\u001b[39;00m \u001b[38;5;28mself\u001b[39m\u001b[38;5;241m.\u001b[39madapt_unbound:\n",
      "File \u001b[0;32m~/transformers/src/transformers/models/stldec/stl.py:505\u001b[0m, in \u001b[0;36mUntil._quantitative\u001b[0;34m(self, x, normalize)\u001b[0m\n\u001b[1;32m    492\u001b[0m     z2: Tensor \u001b[38;5;241m=\u001b[39m z2[:, :, :size]\n\u001b[1;32m    494\u001b[0m     \u001b[38;5;66;03m# z1_rep = torch.repeat_interleave(z1.unsqueeze(2), z1.unsqueeze(2).shape[-1], 2)\u001b[39;00m\n\u001b[1;32m    495\u001b[0m     \u001b[38;5;66;03m# z1_tril = torch.tril(z1_rep.transpose(2, 3), diagonal=-1)\u001b[39;00m\n\u001b[1;32m    496\u001b[0m     \u001b[38;5;66;03m# z1_triu = torch.triu(z1_rep)\u001b[39;00m\n\u001b[0;32m   (...)\u001b[0m\n\u001b[1;32m    503\u001b[0m     \u001b[38;5;66;03m# z: Tensor = torch.max(torch.min(torch.cat([z1_def.unsqueeze(-1), z2_def.unsqueeze(-1)], dim=-1), dim=-1)[0],\u001b[39;00m\n\u001b[1;32m    504\u001b[0m     \u001b[38;5;66;03m#                       dim=-1)[0]\u001b[39;00m\n\u001b[0;32m--> 505\u001b[0m     z: Tensor \u001b[38;5;241m=\u001b[39m torch\u001b[38;5;241m.\u001b[39mcat(\u001b[43m[\u001b[49m\u001b[43mtorch\u001b[49m\u001b[38;5;241;43m.\u001b[39;49m\u001b[43mmax\u001b[49m\u001b[43m(\u001b[49m\u001b[43mtorch\u001b[49m\u001b[38;5;241;43m.\u001b[39;49m\u001b[43mmin\u001b[49m\u001b[43m(\u001b[49m\n\u001b[1;32m    506\u001b[0m \u001b[43m        \u001b[49m\u001b[43mtorch\u001b[49m\u001b[38;5;241;43m.\u001b[39;49m\u001b[43mcat\u001b[49m\u001b[43m(\u001b[49m\u001b[43m[\u001b[49m\u001b[43mtorch\u001b[49m\u001b[38;5;241;43m.\u001b[39;49m\u001b[43mcummin\u001b[49m\u001b[43m(\u001b[49m\u001b[43mz1\u001b[49m\u001b[43m[\u001b[49m\u001b[43m:\u001b[49m\u001b[43m,\u001b[49m\u001b[43m \u001b[49m\u001b[43m:\u001b[49m\u001b[43m,\u001b[49m\u001b[43m \u001b[49m\u001b[43mt\u001b[49m\u001b[43m:\u001b[49m\u001b[43m]\u001b[49m\u001b[38;5;241;43m.\u001b[39;49m\u001b[43munsqueeze\u001b[49m\u001b[43m(\u001b[49m\u001b[38;5;241;43m-\u001b[39;49m\u001b[38;5;241;43m1\u001b[39;49m\u001b[43m)\u001b[49m\u001b[43m,\u001b[49m\u001b[43m \u001b[49m\u001b[43mdim\u001b[49m\u001b[38;5;241;43m=\u001b[39;49m\u001b[38;5;241;43m2\u001b[39;49m\u001b[43m)\u001b[49m\u001b[43m[\u001b[49m\u001b[38;5;241;43m0\u001b[39;49m\u001b[43m]\u001b[49m\u001b[43m,\u001b[49m\u001b[43m \u001b[49m\u001b[43mz2\u001b[49m\u001b[43m[\u001b[49m\u001b[43m:\u001b[49m\u001b[43m,\u001b[49m\u001b[43m \u001b[49m\u001b[43m:\u001b[49m\u001b[43m,\u001b[49m\u001b[43m \u001b[49m\u001b[43mt\u001b[49m\u001b[43m:\u001b[49m\u001b[43m]\u001b[49m\u001b[38;5;241;43m.\u001b[39;49m\u001b[43munsqueeze\u001b[49m\u001b[43m(\u001b[49m\u001b[38;5;241;43m-\u001b[39;49m\u001b[38;5;241;43m1\u001b[39;49m\u001b[43m)\u001b[49m\u001b[43m]\u001b[49m\u001b[43m,\u001b[49m\u001b[43m \u001b[49m\u001b[43mdim\u001b[49m\u001b[38;5;241;43m=\u001b[39;49m\u001b[38;5;241;43m-\u001b[39;49m\u001b[38;5;241;43m1\u001b[39;49m\u001b[43m)\u001b[49m\u001b[43m,\u001b[49m\n\u001b[1;32m    507\u001b[0m \u001b[43m        \u001b[49m\u001b[43mdim\u001b[49m\u001b[38;5;241;43m=\u001b[39;49m\u001b[38;5;241;43m-\u001b[39;49m\u001b[38;5;241;43m1\u001b[39;49m\u001b[43m)\u001b[49m\u001b[43m[\u001b[49m\u001b[38;5;241;43m0\u001b[39;49m\u001b[43m]\u001b[49m\u001b[43m,\u001b[49m\u001b[43m \u001b[49m\u001b[43mdim\u001b[49m\u001b[38;5;241;43m=\u001b[39;49m\u001b[38;5;241;43m2\u001b[39;49m\u001b[43m,\u001b[49m\u001b[43m \u001b[49m\u001b[43mkeepdim\u001b[49m\u001b[38;5;241;43m=\u001b[39;49m\u001b[38;5;28;43;01mTrue\u001b[39;49;00m\u001b[43m)\u001b[49m\u001b[43m[\u001b[49m\u001b[38;5;241;43m0\u001b[39;49m\u001b[43m]\u001b[49m\u001b[43m \u001b[49m\u001b[38;5;28;43;01mfor\u001b[39;49;00m\u001b[43m \u001b[49m\u001b[43mt\u001b[49m\u001b[43m \u001b[49m\u001b[38;5;129;43;01min\u001b[39;49;00m\u001b[43m \u001b[49m\u001b[38;5;28;43mrange\u001b[39;49m\u001b[43m(\u001b[49m\u001b[43msize\u001b[49m\u001b[43m)\u001b[49m\u001b[43m]\u001b[49m, dim\u001b[38;5;241m=\u001b[39m\u001b[38;5;241m2\u001b[39m)\n\u001b[1;32m    508\u001b[0m \u001b[38;5;28;01melif\u001b[39;00m \u001b[38;5;28mself\u001b[39m\u001b[38;5;241m.\u001b[39mright_unbound:\n\u001b[1;32m    509\u001b[0m     timed_until: Node \u001b[38;5;241m=\u001b[39m And(Globally(\u001b[38;5;28mself\u001b[39m\u001b[38;5;241m.\u001b[39mleft_child, left_time_bound\u001b[38;5;241m=\u001b[39m\u001b[38;5;241m0\u001b[39m, right_time_bound\u001b[38;5;241m=\u001b[39m\u001b[38;5;28mself\u001b[39m\u001b[38;5;241m.\u001b[39mleft_time_bound),\n\u001b[1;32m    510\u001b[0m                             And(Eventually(\u001b[38;5;28mself\u001b[39m\u001b[38;5;241m.\u001b[39mright_child, right_unbound\u001b[38;5;241m=\u001b[39m\u001b[38;5;28;01mTrue\u001b[39;00m,\n\u001b[1;32m    511\u001b[0m                                            left_time_bound\u001b[38;5;241m=\u001b[39m\u001b[38;5;28mself\u001b[39m\u001b[38;5;241m.\u001b[39mleft_time_bound),\n\u001b[1;32m    512\u001b[0m                                 Eventually(Until(\u001b[38;5;28mself\u001b[39m\u001b[38;5;241m.\u001b[39mleft_child, \u001b[38;5;28mself\u001b[39m\u001b[38;5;241m.\u001b[39mright_child, unbound\u001b[38;5;241m=\u001b[39m\u001b[38;5;28;01mTrue\u001b[39;00m),\n\u001b[1;32m    513\u001b[0m                                            left_time_bound\u001b[38;5;241m=\u001b[39m\u001b[38;5;28mself\u001b[39m\u001b[38;5;241m.\u001b[39mleft_time_bound, right_unbound\u001b[38;5;241m=\u001b[39m\u001b[38;5;28;01mTrue\u001b[39;00m)))\n",
      "File \u001b[0;32m~/transformers/src/transformers/models/stldec/stl.py:505\u001b[0m, in \u001b[0;36m<listcomp>\u001b[0;34m(.0)\u001b[0m\n\u001b[1;32m    492\u001b[0m     z2: Tensor \u001b[38;5;241m=\u001b[39m z2[:, :, :size]\n\u001b[1;32m    494\u001b[0m     \u001b[38;5;66;03m# z1_rep = torch.repeat_interleave(z1.unsqueeze(2), z1.unsqueeze(2).shape[-1], 2)\u001b[39;00m\n\u001b[1;32m    495\u001b[0m     \u001b[38;5;66;03m# z1_tril = torch.tril(z1_rep.transpose(2, 3), diagonal=-1)\u001b[39;00m\n\u001b[1;32m    496\u001b[0m     \u001b[38;5;66;03m# z1_triu = torch.triu(z1_rep)\u001b[39;00m\n\u001b[0;32m   (...)\u001b[0m\n\u001b[1;32m    503\u001b[0m     \u001b[38;5;66;03m# z: Tensor = torch.max(torch.min(torch.cat([z1_def.unsqueeze(-1), z2_def.unsqueeze(-1)], dim=-1), dim=-1)[0],\u001b[39;00m\n\u001b[1;32m    504\u001b[0m     \u001b[38;5;66;03m#                       dim=-1)[0]\u001b[39;00m\n\u001b[0;32m--> 505\u001b[0m     z: Tensor \u001b[38;5;241m=\u001b[39m torch\u001b[38;5;241m.\u001b[39mcat([torch\u001b[38;5;241m.\u001b[39mmax(\u001b[43mtorch\u001b[49m\u001b[38;5;241;43m.\u001b[39;49m\u001b[43mmin\u001b[49m\u001b[43m(\u001b[49m\n\u001b[1;32m    506\u001b[0m \u001b[43m        \u001b[49m\u001b[43mtorch\u001b[49m\u001b[38;5;241;43m.\u001b[39;49m\u001b[43mcat\u001b[49m\u001b[43m(\u001b[49m\u001b[43m[\u001b[49m\u001b[43mtorch\u001b[49m\u001b[38;5;241;43m.\u001b[39;49m\u001b[43mcummin\u001b[49m\u001b[43m(\u001b[49m\u001b[43mz1\u001b[49m\u001b[43m[\u001b[49m\u001b[43m:\u001b[49m\u001b[43m,\u001b[49m\u001b[43m \u001b[49m\u001b[43m:\u001b[49m\u001b[43m,\u001b[49m\u001b[43m \u001b[49m\u001b[43mt\u001b[49m\u001b[43m:\u001b[49m\u001b[43m]\u001b[49m\u001b[38;5;241;43m.\u001b[39;49m\u001b[43munsqueeze\u001b[49m\u001b[43m(\u001b[49m\u001b[38;5;241;43m-\u001b[39;49m\u001b[38;5;241;43m1\u001b[39;49m\u001b[43m)\u001b[49m\u001b[43m,\u001b[49m\u001b[43m \u001b[49m\u001b[43mdim\u001b[49m\u001b[38;5;241;43m=\u001b[39;49m\u001b[38;5;241;43m2\u001b[39;49m\u001b[43m)\u001b[49m\u001b[43m[\u001b[49m\u001b[38;5;241;43m0\u001b[39;49m\u001b[43m]\u001b[49m\u001b[43m,\u001b[49m\u001b[43m \u001b[49m\u001b[43mz2\u001b[49m\u001b[43m[\u001b[49m\u001b[43m:\u001b[49m\u001b[43m,\u001b[49m\u001b[43m \u001b[49m\u001b[43m:\u001b[49m\u001b[43m,\u001b[49m\u001b[43m \u001b[49m\u001b[43mt\u001b[49m\u001b[43m:\u001b[49m\u001b[43m]\u001b[49m\u001b[38;5;241;43m.\u001b[39;49m\u001b[43munsqueeze\u001b[49m\u001b[43m(\u001b[49m\u001b[38;5;241;43m-\u001b[39;49m\u001b[38;5;241;43m1\u001b[39;49m\u001b[43m)\u001b[49m\u001b[43m]\u001b[49m\u001b[43m,\u001b[49m\u001b[43m \u001b[49m\u001b[43mdim\u001b[49m\u001b[38;5;241;43m=\u001b[39;49m\u001b[38;5;241;43m-\u001b[39;49m\u001b[38;5;241;43m1\u001b[39;49m\u001b[43m)\u001b[49m\u001b[43m,\u001b[49m\n\u001b[1;32m    507\u001b[0m \u001b[43m        \u001b[49m\u001b[43mdim\u001b[49m\u001b[38;5;241;43m=\u001b[39;49m\u001b[38;5;241;43m-\u001b[39;49m\u001b[38;5;241;43m1\u001b[39;49m\u001b[43m)\u001b[49m[\u001b[38;5;241m0\u001b[39m], dim\u001b[38;5;241m=\u001b[39m\u001b[38;5;241m2\u001b[39m, keepdim\u001b[38;5;241m=\u001b[39m\u001b[38;5;28;01mTrue\u001b[39;00m)[\u001b[38;5;241m0\u001b[39m] \u001b[38;5;28;01mfor\u001b[39;00m t \u001b[38;5;129;01min\u001b[39;00m \u001b[38;5;28mrange\u001b[39m(size)], dim\u001b[38;5;241m=\u001b[39m\u001b[38;5;241m2\u001b[39m)\n\u001b[1;32m    508\u001b[0m \u001b[38;5;28;01melif\u001b[39;00m \u001b[38;5;28mself\u001b[39m\u001b[38;5;241m.\u001b[39mright_unbound:\n\u001b[1;32m    509\u001b[0m     timed_until: Node \u001b[38;5;241m=\u001b[39m And(Globally(\u001b[38;5;28mself\u001b[39m\u001b[38;5;241m.\u001b[39mleft_child, left_time_bound\u001b[38;5;241m=\u001b[39m\u001b[38;5;241m0\u001b[39m, right_time_bound\u001b[38;5;241m=\u001b[39m\u001b[38;5;28mself\u001b[39m\u001b[38;5;241m.\u001b[39mleft_time_bound),\n\u001b[1;32m    510\u001b[0m                             And(Eventually(\u001b[38;5;28mself\u001b[39m\u001b[38;5;241m.\u001b[39mright_child, right_unbound\u001b[38;5;241m=\u001b[39m\u001b[38;5;28;01mTrue\u001b[39;00m,\n\u001b[1;32m    511\u001b[0m                                            left_time_bound\u001b[38;5;241m=\u001b[39m\u001b[38;5;28mself\u001b[39m\u001b[38;5;241m.\u001b[39mleft_time_bound),\n\u001b[1;32m    512\u001b[0m                                 Eventually(Until(\u001b[38;5;28mself\u001b[39m\u001b[38;5;241m.\u001b[39mleft_child, \u001b[38;5;28mself\u001b[39m\u001b[38;5;241m.\u001b[39mright_child, unbound\u001b[38;5;241m=\u001b[39m\u001b[38;5;28;01mTrue\u001b[39;00m),\n\u001b[1;32m    513\u001b[0m                                            left_time_bound\u001b[38;5;241m=\u001b[39m\u001b[38;5;28mself\u001b[39m\u001b[38;5;241m.\u001b[39mleft_time_bound, right_unbound\u001b[38;5;241m=\u001b[39m\u001b[38;5;28;01mTrue\u001b[39;00m)))\n",
      "\u001b[0;31mKeyboardInterrupt\u001b[0m: "
     ]
    }
   ],
   "source": [
    "embed_generated_formulae(test)"
   ]
  },
  {
   "cell_type": "code",
   "execution_count": null,
   "metadata": {},
   "outputs": [],
   "source": []
  }
 ],
 "metadata": {
  "kernelspec": {
   "display_name": "stdenv",
   "language": "python",
   "name": "python3"
  },
  "language_info": {
   "codemirror_mode": {
    "name": "ipython",
    "version": 3
   },
   "file_extension": ".py",
   "mimetype": "text/x-python",
   "name": "python",
   "nbconvert_exporter": "python",
   "pygments_lexer": "ipython3",
   "version": "3.11.11"
  }
 },
 "nbformat": 4,
 "nbformat_minor": 2
}
