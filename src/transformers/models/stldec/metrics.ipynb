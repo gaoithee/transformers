{
 "cells": [
  {
   "cell_type": "code",
   "execution_count": 79,
   "metadata": {},
   "outputs": [],
   "source": [
    "import numpy as np\n",
    "import pandas as pd\n",
    "from nltk.translate.bleu_score import sentence_bleu\n",
    "from handcoded_tokenizer import STLTokenizer\n",
    "import ast\n",
    "import torch"
   ]
  },
  {
   "cell_type": "code",
   "execution_count": 24,
   "metadata": {},
   "outputs": [],
   "source": [
    "import warnings\n",
    "warnings.filterwarnings('ignore')"
   ]
  },
  {
   "cell_type": "code",
   "execution_count": 74,
   "metadata": {},
   "outputs": [],
   "source": [
    "s_7200 = pd.read_csv('formulae_mining/step_7200_formulae.csv')\n",
    "s_8000 = pd.read_csv('formulae_mining/step_8000_formulae.csv')\n",
    "s_9600 = pd.read_csv('formulae_mining/step_9600_formulae.csv')\n",
    "s_10000 = pd.read_csv('formulae_mining/step_10000_formulae.csv')\n",
    "s_10400 = pd.read_csv('formulae_mining/step_10400_formulae.csv')\n",
    "s_12000 = pd.read_csv('formulae_mining/step_12000_formulae.csv')"
   ]
  },
  {
   "cell_type": "code",
   "execution_count": 73,
   "metadata": {},
   "outputs": [
    {
     "data": {
      "text/html": [
       "<div>\n",
       "<style scoped>\n",
       "    .dataframe tbody tr th:only-of-type {\n",
       "        vertical-align: middle;\n",
       "    }\n",
       "\n",
       "    .dataframe tbody tr th {\n",
       "        vertical-align: top;\n",
       "    }\n",
       "\n",
       "    .dataframe thead th {\n",
       "        text-align: right;\n",
       "    }\n",
       "</style>\n",
       "<table border=\"1\" class=\"dataframe\">\n",
       "  <thead>\n",
       "    <tr style=\"text-align: right;\">\n",
       "      <th></th>\n",
       "      <th>Unnamed: 0.1</th>\n",
       "      <th>Unnamed: 0</th>\n",
       "      <th>Gold Formula</th>\n",
       "      <th>Generated Formula</th>\n",
       "      <th>Embedding Gold Formula</th>\n",
       "      <th>Embedding Generated Formula</th>\n",
       "    </tr>\n",
       "  </thead>\n",
       "  <tbody>\n",
       "    <tr>\n",
       "      <th>196</th>\n",
       "      <td>196</td>\n",
       "      <td>196.000000</td>\n",
       "      <td>always[6,17] ( x_2 &lt;= 0.5562 )</td>\n",
       "      <td>always[17,21] ( x_2 &lt;= 0.4811 )</td>\n",
       "      <td>[0.026494910940527916, 0.014440430328249931, 0...</td>\n",
       "      <td>[0.023633580654859543, 0.013538600876927376, 0...</td>\n",
       "    </tr>\n",
       "    <tr>\n",
       "      <th>197</th>\n",
       "      <td>197</td>\n",
       "      <td>197.000000</td>\n",
       "      <td>( ( x_2 &lt;= 0.0842 and x_1 &lt;= -0.4233 ) or ( x_...</td>\n",
       "      <td>( x_2 &gt;= -0.088 or ( x_2 &gt;= -0.088 or ( x_2 &gt;=...</td>\n",
       "      <td>[0.08846453577280045, 0.029129117727279663, 0....</td>\n",
       "      <td>[0.011584503576159477, 0.00930745154619217, 0....</td>\n",
       "    </tr>\n",
       "    <tr>\n",
       "      <th>198</th>\n",
       "      <td>198</td>\n",
       "      <td>198.000000</td>\n",
       "      <td>( x_1 &lt;= -0.2029 until[8,19] not ( x_2 &gt;= -0.0...</td>\n",
       "      <td>( x_1 &lt;= -0.0401 and ( x_2 &lt;= -0.081 and x_2 &lt;...</td>\n",
       "      <td>[0.0009152419515885413, 0.0021476703695952892,...</td>\n",
       "      <td>[0.0010684828739613295, 0.0023432974703609943,...</td>\n",
       "    </tr>\n",
       "    <tr>\n",
       "      <th>199</th>\n",
       "      <td>199</td>\n",
       "      <td>199.000000</td>\n",
       "      <td>( x_2 &lt;= -2.3411 until[15,17] ( x_1 &gt;= 0.538 u...</td>\n",
       "      <td>( x_2 &lt;= -1.0841 and x_2 &lt;= -1.181 )</td>\n",
       "      <td>[0.0003933501720894128, 0.0013355386909097433,...</td>\n",
       "      <td>[0.0006671140436083078, 0.0017945998115465045,...</td>\n",
       "    </tr>\n",
       "    <tr>\n",
       "      <th>200</th>\n",
       "      <td>7005710602</td>\n",
       "      <td>0.000102</td>\n",
       "      <td>0.00032462782110087574</td>\n",
       "      <td>0.0025793707463890314</td>\n",
       "      <td>0.011999044567346573]\"</td>\n",
       "      <td>NaN</td>\n",
       "    </tr>\n",
       "  </tbody>\n",
       "</table>\n",
       "</div>"
      ],
      "text/plain": [
       "     Unnamed: 0.1  Unnamed: 0  \\\n",
       "196           196  196.000000   \n",
       "197           197  197.000000   \n",
       "198           198  198.000000   \n",
       "199           199  199.000000   \n",
       "200    7005710602    0.000102   \n",
       "\n",
       "                                          Gold Formula  \\\n",
       "196                     always[6,17] ( x_2 <= 0.5562 )   \n",
       "197  ( ( x_2 <= 0.0842 and x_1 <= -0.4233 ) or ( x_...   \n",
       "198  ( x_1 <= -0.2029 until[8,19] not ( x_2 >= -0.0...   \n",
       "199  ( x_2 <= -2.3411 until[15,17] ( x_1 >= 0.538 u...   \n",
       "200                             0.00032462782110087574   \n",
       "\n",
       "                                     Generated Formula  \\\n",
       "196                    always[17,21] ( x_2 <= 0.4811 )   \n",
       "197  ( x_2 >= -0.088 or ( x_2 >= -0.088 or ( x_2 >=...   \n",
       "198  ( x_1 <= -0.0401 and ( x_2 <= -0.081 and x_2 <...   \n",
       "199               ( x_2 <= -1.0841 and x_2 <= -1.181 )   \n",
       "200                              0.0025793707463890314   \n",
       "\n",
       "                                Embedding Gold Formula  \\\n",
       "196  [0.026494910940527916, 0.014440430328249931, 0...   \n",
       "197  [0.08846453577280045, 0.029129117727279663, 0....   \n",
       "198  [0.0009152419515885413, 0.0021476703695952892,...   \n",
       "199  [0.0003933501720894128, 0.0013355386909097433,...   \n",
       "200                             0.011999044567346573]\"   \n",
       "\n",
       "                           Embedding Generated Formula  \n",
       "196  [0.023633580654859543, 0.013538600876927376, 0...  \n",
       "197  [0.011584503576159477, 0.00930745154619217, 0....  \n",
       "198  [0.0010684828739613295, 0.0023432974703609943,...  \n",
       "199  [0.0006671140436083078, 0.0017945998115465045,...  \n",
       "200                                                NaN  "
      ]
     },
     "execution_count": 73,
     "metadata": {},
     "output_type": "execute_result"
    }
   ],
   "source": [
    "s_7200.tail()"
   ]
  },
  {
   "cell_type": "code",
   "execution_count": 47,
   "metadata": {},
   "outputs": [],
   "source": [
    "def token_division(input_string):\n",
    "    tokenizer = STLTokenizer('tokenizer_files/tokenizer.json')\n",
    "    return [element for element in tokenizer.tokenize(input_string) if element != \"pad\"]"
   ]
  },
  {
   "cell_type": "code",
   "execution_count": 22,
   "metadata": {},
   "outputs": [],
   "source": [
    "def bleu_score(dataset):\n",
    "\n",
    "    bleu_scores = []\n",
    "\n",
    "    for idx in range(len(dataset)):\n",
    "        gold = token_division(dataset[\"Gold Formula\"][idx])\n",
    "        generated = token_division(dataset[\"Generated Formula\"][idx])\n",
    "\n",
    "        bleu_scores.append(sentence_bleu(gold, generated))\n",
    "\n",
    "    return np.min(bleu_scores), np.mean(bleu_scores), np.max(bleu_scores)"
   ]
  },
  {
   "cell_type": "code",
   "execution_count": 36,
   "metadata": {},
   "outputs": [],
   "source": [
    "def exact_match(dataset):\n",
    "\n",
    "    percentage = []\n",
    "\n",
    "    for idx in range(len(dataset)):\n",
    "        gold = token_division(dataset[\"Gold Formula\"][idx])\n",
    "        generated = token_division(dataset[\"Generated Formula\"][idx])\n",
    "\n",
    "        match_count = 0\n",
    "        for gold_token, gen_token in zip(gold, generated):\n",
    "            if gold_token == gen_token:\n",
    "                match_count += 1\n",
    "\n",
    "        percentage.append(match_count/len(gold))\n",
    "\n",
    "\n",
    "        return np.min(percentage), np.mean(percentage), np.max(percentage)        "
   ]
  },
  {
   "cell_type": "code",
   "execution_count": 58,
   "metadata": {},
   "outputs": [],
   "source": [
    "def cosine_similarity(dataset):\n",
    "    \n",
    "    similarities = []\n",
    "    \n",
    "    for idx in range(len(dataset)):\n",
    "        gold = ast.literal_eval(dataset[\"Embedding Gold Formula\"][idx])\n",
    "        gen = ast.literal_eval(dataset[\"Embedding Generated Formula\"][idx])\n",
    "\n",
    "        dot_product = np.dot(gold, gen)\n",
    "        gold_norm = np.linalg.norm(gold)\n",
    "        gen_norm = np.linalg.norm(gen)\n",
    "\n",
    "        similarities.append(dot_product / (gold_norm * gen_norm))\n",
    "\n",
    "    return np.min(similarities), np.mean(similarities), np.max(similarities)           "
   ]
  },
  {
   "cell_type": "code",
   "execution_count": 92,
   "metadata": {},
   "outputs": [],
   "source": [
    "def euclidean_distance(dataset):\n",
    "\n",
    "    distances = []\n",
    "\n",
    "    for idx in range(len(dataset)):\n",
    "\n",
    "        gold = torch.tensor(ast.literal_eval(dataset[\"Embedding Gold Formula\"][idx]))\n",
    "        generated = torch.tensor(ast.literal_eval(dataset[\"Embedding Generated Formula\"][idx]))\n",
    "\n",
    "        distances.append(torch.dist(gold, generated))\n",
    "\n",
    "    return np.min(distances), np.mean(distances), np.max(distances)           "
   ]
  },
  {
   "cell_type": "code",
   "execution_count": 93,
   "metadata": {},
   "outputs": [
    {
     "data": {
      "text/plain": [
       "(0.09882245, 2.5938642, 9.606708)"
      ]
     },
     "execution_count": 93,
     "metadata": {},
     "output_type": "execute_result"
    }
   ],
   "source": [
    "euclidean_distance(s_7200)"
   ]
  },
  {
   "cell_type": "code",
   "execution_count": 94,
   "metadata": {},
   "outputs": [
    {
     "data": {
      "text/plain": [
       "(0.031583704, 2.009391, 8.319774)"
      ]
     },
     "execution_count": 94,
     "metadata": {},
     "output_type": "execute_result"
    }
   ],
   "source": [
    "euclidean_distance(s_12000)"
   ]
  },
  {
   "cell_type": "code",
   "execution_count": null,
   "metadata": {},
   "outputs": [],
   "source": []
  }
 ],
 "metadata": {
  "kernelspec": {
   "display_name": "stdenv",
   "language": "python",
   "name": "python3"
  },
  "language_info": {
   "codemirror_mode": {
    "name": "ipython",
    "version": 3
   },
   "file_extension": ".py",
   "mimetype": "text/x-python",
   "name": "python",
   "nbconvert_exporter": "python",
   "pygments_lexer": "ipython3",
   "version": "3.11.11"
  }
 },
 "nbformat": 4,
 "nbformat_minor": 2
}
