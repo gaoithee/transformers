{
 "cells": [
  {
   "cell_type": "code",
   "execution_count": 19,
   "metadata": {},
   "outputs": [],
   "source": [
    "import numpy as np\n",
    "import pandas as pd\n",
    "from nltk.translate.bleu_score import sentence_bleu\n",
    "from handcoded_tokenizer import STLTokenizer"
   ]
  },
  {
   "cell_type": "code",
   "execution_count": 24,
   "metadata": {},
   "outputs": [],
   "source": [
    "import warnings\n",
    "warnings.filterwarnings('ignore')"
   ]
  },
  {
   "cell_type": "code",
   "execution_count": 2,
   "metadata": {},
   "outputs": [],
   "source": [
    "s_7200 = pd.read_csv('formulae_mining/step_7200_formulae.csv')\n",
    "s_8000 = pd.read_csv('formulae_mining/step_8000_formulae.csv')\n",
    "s_9600 = pd.read_csv('formulae_mining/step_9600_formulae.csv')\n",
    "s_10000 = pd.read_csv('formulae_mining/step_10000_formulae.csv')\n",
    "s_10400 = pd.read_csv('formulae_mining/step_10400_formulae.csv')\n",
    "s_12000 = pd.read_csv('formulae_mining/step_12000_formulae.csv')"
   ]
  },
  {
   "cell_type": "code",
   "execution_count": 5,
   "metadata": {},
   "outputs": [
    {
     "data": {
      "text/html": [
       "<div>\n",
       "<style scoped>\n",
       "    .dataframe tbody tr th:only-of-type {\n",
       "        vertical-align: middle;\n",
       "    }\n",
       "\n",
       "    .dataframe tbody tr th {\n",
       "        vertical-align: top;\n",
       "    }\n",
       "\n",
       "    .dataframe thead th {\n",
       "        text-align: right;\n",
       "    }\n",
       "</style>\n",
       "<table border=\"1\" class=\"dataframe\">\n",
       "  <thead>\n",
       "    <tr style=\"text-align: right;\">\n",
       "      <th></th>\n",
       "      <th>Unnamed: 0.1</th>\n",
       "      <th>Unnamed: 0</th>\n",
       "      <th>Gold Formula</th>\n",
       "      <th>Generated Formula</th>\n",
       "      <th>Embedding Gold Formula</th>\n",
       "      <th>Embedding Generated Formula</th>\n",
       "    </tr>\n",
       "  </thead>\n",
       "  <tbody>\n",
       "    <tr>\n",
       "      <th>0</th>\n",
       "      <td>0</td>\n",
       "      <td>0.0</td>\n",
       "      <td>always[10,inf] ( x_0 &gt;= 0.9475 )</td>\n",
       "      <td>( x_0 &gt;= 0.888 until[17,21] x_0 &gt;= 0.888 )</td>\n",
       "      <td>[0.006420445162802935, 0.03939420357346535, 0....</td>\n",
       "      <td>[0.009619303978979588, 0.060488030314445496, 0...</td>\n",
       "    </tr>\n",
       "    <tr>\n",
       "      <th>1</th>\n",
       "      <td>1</td>\n",
       "      <td>1.0</td>\n",
       "      <td>not ( always[14,19] ( eventually[7,inf] ( x_0 ...</td>\n",
       "      <td>always[18,21] ( x_0 &gt;= -0.8881 )</td>\n",
       "      <td>[0.4136229455471039, 0.7028579711914062, 0.000...</td>\n",
       "      <td>[0.5880542397499084, 0.721400797367096, 0.0004...</td>\n",
       "    </tr>\n",
       "    <tr>\n",
       "      <th>2</th>\n",
       "      <td>2</td>\n",
       "      <td>2.0</td>\n",
       "      <td>( x_2 &lt;= -0.2641 until[6,9] x_1 &lt;= 0.7181 )</td>\n",
       "      <td>( x_2 &lt;= -0.0401 and x_2 &lt;= -0.181 )</td>\n",
       "      <td>[0.001527473097667098, 0.0028579006902873516, ...</td>\n",
       "      <td>[0.003919020760804415, 0.004877804778516293, 0...</td>\n",
       "    </tr>\n",
       "    <tr>\n",
       "      <th>3</th>\n",
       "      <td>3</td>\n",
       "      <td>3.0</td>\n",
       "      <td>not ( x_0 &lt;= 0.2762 )</td>\n",
       "      <td>not ( x_0 &lt;= 0.0444 )</td>\n",
       "      <td>[0.07814296334981918, 0.36237552762031555, 0.0...</td>\n",
       "      <td>[0.17230193316936493, 0.6238083839416504, 0.00...</td>\n",
       "    </tr>\n",
       "    <tr>\n",
       "      <th>4</th>\n",
       "      <td>4</td>\n",
       "      <td>4.0</td>\n",
       "      <td>eventually[6,15] ( x_2 &lt;= 0.54 )</td>\n",
       "      <td>always[17,21] ( x_2 &lt;= 0.8881 )</td>\n",
       "      <td>[0.029973845928907394, 0.015523881651461124, 0...</td>\n",
       "      <td>[0.04811500012874603, 0.02031852677464485, 0.0...</td>\n",
       "    </tr>\n",
       "  </tbody>\n",
       "</table>\n",
       "</div>"
      ],
      "text/plain": [
       "   Unnamed: 0.1  Unnamed: 0  \\\n",
       "0             0         0.0   \n",
       "1             1         1.0   \n",
       "2             2         2.0   \n",
       "3             3         3.0   \n",
       "4             4         4.0   \n",
       "\n",
       "                                        Gold Formula  \\\n",
       "0                   always[10,inf] ( x_0 >= 0.9475 )   \n",
       "1  not ( always[14,19] ( eventually[7,inf] ( x_0 ...   \n",
       "2        ( x_2 <= -0.2641 until[6,9] x_1 <= 0.7181 )   \n",
       "3                              not ( x_0 <= 0.2762 )   \n",
       "4                   eventually[6,15] ( x_2 <= 0.54 )   \n",
       "\n",
       "                            Generated Formula  \\\n",
       "0  ( x_0 >= 0.888 until[17,21] x_0 >= 0.888 )   \n",
       "1            always[18,21] ( x_0 >= -0.8881 )   \n",
       "2        ( x_2 <= -0.0401 and x_2 <= -0.181 )   \n",
       "3                       not ( x_0 <= 0.0444 )   \n",
       "4             always[17,21] ( x_2 <= 0.8881 )   \n",
       "\n",
       "                              Embedding Gold Formula  \\\n",
       "0  [0.006420445162802935, 0.03939420357346535, 0....   \n",
       "1  [0.4136229455471039, 0.7028579711914062, 0.000...   \n",
       "2  [0.001527473097667098, 0.0028579006902873516, ...   \n",
       "3  [0.07814296334981918, 0.36237552762031555, 0.0...   \n",
       "4  [0.029973845928907394, 0.015523881651461124, 0...   \n",
       "\n",
       "                         Embedding Generated Formula  \n",
       "0  [0.009619303978979588, 0.060488030314445496, 0...  \n",
       "1  [0.5880542397499084, 0.721400797367096, 0.0004...  \n",
       "2  [0.003919020760804415, 0.004877804778516293, 0...  \n",
       "3  [0.17230193316936493, 0.6238083839416504, 0.00...  \n",
       "4  [0.04811500012874603, 0.02031852677464485, 0.0...  "
      ]
     },
     "execution_count": 5,
     "metadata": {},
     "output_type": "execute_result"
    }
   ],
   "source": [
    "s_7200.head()"
   ]
  },
  {
   "cell_type": "code",
   "execution_count": 35,
   "metadata": {},
   "outputs": [],
   "source": [
    "def token_division(input_string):\n",
    "    tokenizer = STLTokenizer('tokenizer_files/tokenizer.json')\n",
    "    return [element for element in tokenizer.tokenize(input_string) if element != \"pad\"]"
   ]
  },
  {
   "cell_type": "code",
   "execution_count": 22,
   "metadata": {},
   "outputs": [],
   "source": [
    "def bleu_score(dataset):\n",
    "\n",
    "    bleu_scores = []\n",
    "\n",
    "    for idx in range(len(dataset)):\n",
    "        gold = token_division(dataset[\"Gold Formula\"][idx])\n",
    "        generated = token_division(dataset[\"Generated Formula\"][idx])\n",
    "\n",
    "        bleu_scores.append(sentence_bleu(gold, generated))\n",
    "\n",
    "    return np.min(bleu_scores), np.mean(bleu_scores), np.max(bleu_scores)"
   ]
  },
  {
   "cell_type": "code",
   "execution_count": 36,
   "metadata": {},
   "outputs": [],
   "source": [
    "def exact_match(dataset):\n",
    "\n",
    "    percentage = []\n",
    "\n",
    "    for idx in range(len(dataset)):\n",
    "        gold = token_division(dataset[\"Gold Formula\"][idx])\n",
    "        generated = token_division(dataset[\"Generated Formula\"][idx])\n",
    "\n",
    "        match_count = 0\n",
    "        for gold_token, gen_token in zip(gold, generated):\n",
    "            if gold_token == gen_token:\n",
    "                match_count += 1\n",
    "\n",
    "        percentage.append(match_count/len(gold))\n",
    "\n",
    "\n",
    "        return np.min(percentage), np.mean(percentage), np.max(percentage)        "
   ]
  },
  {
   "cell_type": "code",
   "execution_count": 37,
   "metadata": {},
   "outputs": [
    {
     "data": {
      "text/plain": [
       "(0.09523809523809523, 0.09523809523809523, 0.09523809523809523)"
      ]
     },
     "execution_count": 37,
     "metadata": {},
     "output_type": "execute_result"
    }
   ],
   "source": [
    "exact_match(s_7200)"
   ]
  },
  {
   "cell_type": "code",
   "execution_count": 38,
   "metadata": {},
   "outputs": [
    {
     "data": {
      "text/plain": [
       "(0.7142857142857143, 0.7142857142857143, 0.7142857142857143)"
      ]
     },
     "execution_count": 38,
     "metadata": {},
     "output_type": "execute_result"
    }
   ],
   "source": [
    "exact_match(s_12000)"
   ]
  },
  {
   "cell_type": "code",
   "execution_count": null,
   "metadata": {},
   "outputs": [],
   "source": []
  }
 ],
 "metadata": {
  "kernelspec": {
   "display_name": "stdenv",
   "language": "python",
   "name": "python3"
  },
  "language_info": {
   "codemirror_mode": {
    "name": "ipython",
    "version": 3
   },
   "file_extension": ".py",
   "mimetype": "text/x-python",
   "name": "python",
   "nbconvert_exporter": "python",
   "pygments_lexer": "ipython3",
   "version": "3.11.11"
  }
 },
 "nbformat": 4,
 "nbformat_minor": 2
}
